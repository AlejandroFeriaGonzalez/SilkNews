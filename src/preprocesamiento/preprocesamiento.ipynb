{
 "cells": [
  {
   "cell_type": "code",
   "execution_count": 2,
   "id": "4798a1c2",
   "metadata": {},
   "outputs": [],
   "source": [
    "import pandas as pd\n",
    "import unicodedata\n",
    "import re\n",
    "import html\n",
    "import string"
   ]
  },
  {
   "cell_type": "code",
   "execution_count": 3,
   "id": "14abf817",
   "metadata": {},
   "outputs": [],
   "source": [
    "def minusculas(texto: str) -> str:\n",
    "    return texto.lower()\n",
    "\n",
    "def eliminar_tildes(texto: str) -> str:\n",
    "    normalized = unicodedata.normalize('NFD', texto)\n",
    "    return ''.join([c for c in normalized if unicodedata.category(c) != 'Mn'])\n",
    "\n",
    "def eliminar_numeros(texto: str) -> str:\n",
    "    return re.sub(r'\\d+', '', texto)\n",
    "\n",
    "def eliminar_enlaces(texto: str) -> str:\n",
    "    pattern = r\"\\b(?:https?://|www\\.)\\S+\\b|\\b(?:[A-Za-z0-9-]+\\.)+[A-Za-z]{2,}(?:/\\S*)?\"\n",
    "    return re.sub(pattern, \"\", texto, flags=re.IGNORECASE)\n",
    "\n",
    "# ejecuta de ultimo\n",
    "def eliminar_salto_linea(texto: str) -> str:\n",
    "    # reemplaza CR/LF/tabs por un espacio y colapsa múltiples espacios\n",
    "    texto = re.sub(r'[\\r\\n\\t]+', ' ', texto)\n",
    "    texto = re.sub(r'\\s{2,}', ' ', texto).strip()\n",
    "    return texto\n",
    "\n",
    "def eliminar_html(texto: str) -> str:\n",
    "    # Desescapa entidades HTML (ej. &nbsp; -> espacio)\n",
    "    texto = html.unescape(texto)\n",
    "    # Elimina etiquetas HTML\n",
    "    texto = re.sub(r'<[^>]+>', '', texto)\n",
    "    return texto.strip()\n",
    "\n",
    "def eliminar_signos_puntuacion(texto: str) -> str:\n",
    "    return texto.translate(str.maketrans('', '', string.punctuation))\n",
    "\n",
    "def eliminar_emoticones(texto: str) -> str:\n",
    "    # Patrón para emoticones textuales comunes\n",
    "    emoticon_pattern = r'[:;][\\-]?[\\)\\(DPOp]'\n",
    "    # Patrón para emojis (rangos Unicode comunes)\n",
    "    emoji_pattern = r'[\\U0001F600-\\U0001F64F\\U0001F300-\\U0001F5FF\\U0001F680-\\U0001F6FF\\U0001F1E0-\\U0001F1FF]'\n",
    "    # Combina y elimina\n",
    "    combined_pattern = f'({emoticon_pattern}|{emoji_pattern})'\n",
    "    return re.sub(combined_pattern, '', texto)"
   ]
  },
  {
   "cell_type": "code",
   "execution_count": 7,
   "id": "6643ffe6",
   "metadata": {},
   "outputs": [
    {
     "data": {
      "application/vnd.microsoft.datawrangler.viewer.v0+json": {
       "columns": [
        {
         "name": "index",
         "rawType": "int64",
         "type": "integer"
        },
        {
         "name": "text",
         "rawType": "object",
         "type": "string"
        },
        {
         "name": "label",
         "rawType": "bool",
         "type": "boolean"
        }
       ],
       "ref": "5c0cb514-c917-4cde-a5f3-50d49c9208ae",
       "rows": [
        [
         "0",
         " Algunas de las voces extremistas más conocidas de EE.UU., cuentas asociadas con al movimiento de la conocida como alt-right o ligadas a grupos antisemitas o xenófobos , han sido eliminadas de un plumazo de la redes sociales Facebook e Instagram. Se trat",
         "True"
        ],
        [
         "1",
         " Después de casi dos años y medio de luchas políticas y judiciales, Donald Trump ha presentado hoy su proyecto de inmigración para Estados Unidos . Es un proyecto elaborado por el yerno y asesor de Donald Trump, Jared Kushner, que sólo concreta una cosa:",
         "True"
        ],
        [
         "2",
         " Dos periodistas birmanos de la agencia Reuters fueron liberados este martes al recibir un perdón del presidente de su país tras pasar año y medio en prisión por revelar una matanza del Ejército contra la minoría musulmana rohingya. Wa Lone y Kyaw Soe Oo",
         "True"
        ],
        [
         "3",
         " El Cuerpo Nacional de Policía ha detenido a cuatro personas acusadas de formar parte de un grupo criminal dedicado al tráfico de seres humanos en la frontera francoespañola de Irún (Gipuzkoa). Esta célula captaba extranjeros llegados en pateras y les of",
         "True"
        ],
        [
         "4",
         " El desfile de la firma en Roma se convierte en una oda a la libertad de las mujeres para decidir sobre sus propios cuerpos. Los Museos Capitolinos de Roma se transformaron la noche del martes en escenario sobre el que presentar la colección crucero 202",
         "True"
        ]
       ],
       "shape": {
        "columns": 2,
        "rows": 5
       }
      },
      "text/html": [
       "<div>\n",
       "<style scoped>\n",
       "    .dataframe tbody tr th:only-of-type {\n",
       "        vertical-align: middle;\n",
       "    }\n",
       "\n",
       "    .dataframe tbody tr th {\n",
       "        vertical-align: top;\n",
       "    }\n",
       "\n",
       "    .dataframe thead th {\n",
       "        text-align: right;\n",
       "    }\n",
       "</style>\n",
       "<table border=\"1\" class=\"dataframe\">\n",
       "  <thead>\n",
       "    <tr style=\"text-align: right;\">\n",
       "      <th></th>\n",
       "      <th>text</th>\n",
       "      <th>label</th>\n",
       "    </tr>\n",
       "  </thead>\n",
       "  <tbody>\n",
       "    <tr>\n",
       "      <th>0</th>\n",
       "      <td>Algunas de las voces extremistas más conocida...</td>\n",
       "      <td>True</td>\n",
       "    </tr>\n",
       "    <tr>\n",
       "      <th>1</th>\n",
       "      <td>Después de casi dos años y medio de luchas po...</td>\n",
       "      <td>True</td>\n",
       "    </tr>\n",
       "    <tr>\n",
       "      <th>2</th>\n",
       "      <td>Dos periodistas birmanos de la agencia Reuter...</td>\n",
       "      <td>True</td>\n",
       "    </tr>\n",
       "    <tr>\n",
       "      <th>3</th>\n",
       "      <td>El Cuerpo Nacional de Policía ha detenido a c...</td>\n",
       "      <td>True</td>\n",
       "    </tr>\n",
       "    <tr>\n",
       "      <th>4</th>\n",
       "      <td>El desfile de la firma en Roma se convierte e...</td>\n",
       "      <td>True</td>\n",
       "    </tr>\n",
       "  </tbody>\n",
       "</table>\n",
       "</div>"
      ],
      "text/plain": [
       "                                                text  label\n",
       "0   Algunas de las voces extremistas más conocida...   True\n",
       "1   Después de casi dos años y medio de luchas po...   True\n",
       "2   Dos periodistas birmanos de la agencia Reuter...   True\n",
       "3   El Cuerpo Nacional de Policía ha detenido a c...   True\n",
       "4   El desfile de la firma en Roma se convierte e...   True"
      ]
     },
     "execution_count": 7,
     "metadata": {},
     "output_type": "execute_result"
    }
   ],
   "source": [
    "noticias_df = pd.read_csv('../news/full_dataset.csv')\n",
    "noticias_df.head()"
   ]
  },
  {
   "cell_type": "code",
   "execution_count": null,
   "id": "124c78c2",
   "metadata": {},
   "outputs": [],
   "source": []
  }
 ],
 "metadata": {
  "kernelspec": {
   "display_name": "silknews (3.13.7)",
   "language": "python",
   "name": "python3"
  },
  "language_info": {
   "codemirror_mode": {
    "name": "ipython",
    "version": 3
   },
   "file_extension": ".py",
   "mimetype": "text/x-python",
   "name": "python",
   "nbconvert_exporter": "python",
   "pygments_lexer": "ipython3",
   "version": "3.13.7"
  }
 },
 "nbformat": 4,
 "nbformat_minor": 5
}

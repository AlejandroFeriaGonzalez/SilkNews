{
 "cells": [
  {
   "cell_type": "code",
   "execution_count": 1,
   "id": "4798a1c2",
   "metadata": {},
   "outputs": [
    {
     "data": {
      "text/plain": [
       "WindowsPath('C:/Users/Alejandro Feria/Desktop/Unal/8 semestre/pnl/SilkNews')"
      ]
     },
     "execution_count": 1,
     "metadata": {},
     "output_type": "execute_result"
    }
   ],
   "source": [
    "import pandas as pd\n",
    "import unicodedata\n",
    "import re\n",
    "import html\n",
    "import string\n",
    "import pathlib\n",
    "\n",
    "BASE_DIR = pathlib.Path.cwd().parent.parent.resolve()\n",
    "BASE_DIR"
   ]
  },
  {
   "cell_type": "code",
   "execution_count": 2,
   "id": "14abf817",
   "metadata": {},
   "outputs": [],
   "source": [
    "def minusculas(texto: str) -> str:\n",
    "    return texto.lower()\n",
    "\n",
    "def eliminar_tildes(texto: str) -> str:\n",
    "    normalized = unicodedata.normalize('NFD', texto)\n",
    "    return ''.join([c for c in normalized if unicodedata.category(c) != 'Mn'])\n",
    "\n",
    "def eliminar_numeros(texto: str) -> str:\n",
    "    return re.sub(r'\\d+', '', texto)\n",
    "\n",
    "def eliminar_enlaces(texto: str) -> str:\n",
    "    pattern = r\"\\b(?:https?://|www\\.)\\S+\\b|\\b(?:[A-Za-z0-9-]+\\.)+[A-Za-z]{2,}(?:/\\S*)?\"\n",
    "    return re.sub(pattern, \"\", texto, flags=re.IGNORECASE)\n",
    "\n",
    "# ejecuta de ultimo\n",
    "def eliminar_salto_linea(texto: str) -> str:\n",
    "    # reemplaza CR/LF/tabs por un espacio y colapsa múltiples espacios\n",
    "    texto = re.sub(r'[\\r\\n\\t]+', ' ', texto)\n",
    "    texto = re.sub(r'\\s{2,}', ' ', texto).strip()\n",
    "    return texto\n",
    "\n",
    "def eliminar_html(texto: str) -> str:\n",
    "    # Desescapa entidades HTML (ej. &nbsp; -> espacio)\n",
    "    texto = html.unescape(texto)\n",
    "    # Elimina etiquetas HTML\n",
    "    texto = re.sub(r'<[^>]+>', '', texto)\n",
    "    return texto.strip()\n",
    "\n",
    "def eliminar_signos_puntuacion(texto: str) -> str:\n",
    "    return texto.translate(str.maketrans('', '', string.punctuation))\n",
    "\n",
    "def eliminar_emoticones(texto: str) -> str:\n",
    "    # Patrón para emoticones textuales comunes\n",
    "    emoticon_pattern = r'[:;][\\-]?[\\)\\(DPOp]'\n",
    "    # Patrón para emojis (rangos Unicode comunes)\n",
    "    emoji_pattern = r'[\\U0001F600-\\U0001F64F\\U0001F300-\\U0001F5FF\\U0001F680-\\U0001F6FF\\U0001F1E0-\\U0001F1FF]'\n",
    "    # Combina y elimina\n",
    "    combined_pattern = f'({emoticon_pattern}|{emoji_pattern})'\n",
    "    return re.sub(combined_pattern, '', texto)\n",
    "\n",
    "def preprocesar_texto(texto: str) -> str:\n",
    "    texto = minusculas(texto)\n",
    "    texto = eliminar_tildes(texto)\n",
    "    texto = eliminar_numeros(texto)\n",
    "    texto = eliminar_enlaces(texto)\n",
    "    texto = eliminar_html(texto)\n",
    "    texto = eliminar_signos_puntuacion(texto)\n",
    "    texto = eliminar_emoticones(texto)\n",
    "    texto = eliminar_salto_linea(texto)  # Último\n",
    "    return texto"
   ]
  },
  {
   "cell_type": "code",
   "execution_count": 3,
   "id": "81accae3",
   "metadata": {},
   "outputs": [
    {
     "data": {
      "application/vnd.microsoft.datawrangler.viewer.v0+json": {
       "columns": [
        {
         "name": "index",
         "rawType": "int64",
         "type": "integer"
        },
        {
         "name": "text",
         "rawType": "object",
         "type": "string"
        },
        {
         "name": "label",
         "rawType": "bool",
         "type": "boolean"
        }
       ],
       "ref": "7e3f4cd1-e1ce-44ef-a108-c6d663dc7bcb",
       "rows": [
        [
         "0",
         "En una rueda de prensa, las autoridades dijeron que los familiares de Robinson \"hicieron lo correcto y lo pusieron a disposición de las fuerzas del orden\".",
         "True"
        ],
        [
         "1",
         "Una operación en la que las autoridades irlandesas decomisaron más de dos toneladas de cocaína expuso la ruta que los narcotraficantes están utilizando para enviar droga a Europa.",
         "True"
        ],
        [
         "2",
         "El nuevo informe se basa en más de 300 entrevistas con personas que escaparon de Corea del Norte en los últimos 10 años.",
         "True"
        ],
        [
         "3",
         "Las pruebas hechas a varias de las principales marcas arrojaron resultados preocupantes.",
         "True"
        ],
        [
         "4",
         "Michelle y John Wylie estuvieron buscando durante años a un misterioso hombre alto con un traje azul.",
         "True"
        ]
       ],
       "shape": {
        "columns": 2,
        "rows": 5
       }
      },
      "text/html": [
       "<div>\n",
       "<style scoped>\n",
       "    .dataframe tbody tr th:only-of-type {\n",
       "        vertical-align: middle;\n",
       "    }\n",
       "\n",
       "    .dataframe tbody tr th {\n",
       "        vertical-align: top;\n",
       "    }\n",
       "\n",
       "    .dataframe thead th {\n",
       "        text-align: right;\n",
       "    }\n",
       "</style>\n",
       "<table border=\"1\" class=\"dataframe\">\n",
       "  <thead>\n",
       "    <tr style=\"text-align: right;\">\n",
       "      <th></th>\n",
       "      <th>text</th>\n",
       "      <th>label</th>\n",
       "    </tr>\n",
       "  </thead>\n",
       "  <tbody>\n",
       "    <tr>\n",
       "      <th>0</th>\n",
       "      <td>En una rueda de prensa, las autoridades dijero...</td>\n",
       "      <td>True</td>\n",
       "    </tr>\n",
       "    <tr>\n",
       "      <th>1</th>\n",
       "      <td>Una operación en la que las autoridades irland...</td>\n",
       "      <td>True</td>\n",
       "    </tr>\n",
       "    <tr>\n",
       "      <th>2</th>\n",
       "      <td>El nuevo informe se basa en más de 300 entrevi...</td>\n",
       "      <td>True</td>\n",
       "    </tr>\n",
       "    <tr>\n",
       "      <th>3</th>\n",
       "      <td>Las pruebas hechas a varias de las principales...</td>\n",
       "      <td>True</td>\n",
       "    </tr>\n",
       "    <tr>\n",
       "      <th>4</th>\n",
       "      <td>Michelle y John Wylie estuvieron buscando dura...</td>\n",
       "      <td>True</td>\n",
       "    </tr>\n",
       "  </tbody>\n",
       "</table>\n",
       "</div>"
      ],
      "text/plain": [
       "                                                text  label\n",
       "0  En una rueda de prensa, las autoridades dijero...   True\n",
       "1  Una operación en la que las autoridades irland...   True\n",
       "2  El nuevo informe se basa en más de 300 entrevi...   True\n",
       "3  Las pruebas hechas a varias de las principales...   True\n",
       "4  Michelle y John Wylie estuvieron buscando dura...   True"
      ]
     },
     "execution_count": 3,
     "metadata": {},
     "output_type": "execute_result"
    }
   ],
   "source": [
    "noticias_fuente1 = pd.read_csv(BASE_DIR / 'src/scrapers/data_scraped/noticias.csv', usecols=['descripcion', 'veracidad'])\n",
    "noticias_fuente1.columns = ['text', 'label']\n",
    "noticias_fuente1['label'] = noticias_fuente1['label'].astype(bool)\n",
    "noticias_fuente1.head()"
   ]
  },
  {
   "cell_type": "code",
   "execution_count": 4,
   "id": "6643ffe6",
   "metadata": {},
   "outputs": [
    {
     "data": {
      "application/vnd.microsoft.datawrangler.viewer.v0+json": {
       "columns": [
        {
         "name": "index",
         "rawType": "int64",
         "type": "integer"
        },
        {
         "name": "text",
         "rawType": "object",
         "type": "string"
        },
        {
         "name": "label",
         "rawType": "bool",
         "type": "boolean"
        }
       ],
       "ref": "e10ca8c5-1f83-4dc7-965c-0f8f07add3ae",
       "rows": [
        [
         "0",
         " Algunas de las voces extremistas más conocidas de EE.UU., cuentas asociadas con al movimiento de la conocida como alt-right o ligadas a grupos antisemitas o xenófobos , han sido eliminadas de un plumazo de la redes sociales Facebook e Instagram. Se trat",
         "True"
        ],
        [
         "1",
         " Después de casi dos años y medio de luchas políticas y judiciales, Donald Trump ha presentado hoy su proyecto de inmigración para Estados Unidos . Es un proyecto elaborado por el yerno y asesor de Donald Trump, Jared Kushner, que sólo concreta una cosa:",
         "True"
        ],
        [
         "2",
         " Dos periodistas birmanos de la agencia Reuters fueron liberados este martes al recibir un perdón del presidente de su país tras pasar año y medio en prisión por revelar una matanza del Ejército contra la minoría musulmana rohingya. Wa Lone y Kyaw Soe Oo",
         "True"
        ],
        [
         "3",
         " El Cuerpo Nacional de Policía ha detenido a cuatro personas acusadas de formar parte de un grupo criminal dedicado al tráfico de seres humanos en la frontera francoespañola de Irún (Gipuzkoa). Esta célula captaba extranjeros llegados en pateras y les of",
         "True"
        ],
        [
         "4",
         " El desfile de la firma en Roma se convierte en una oda a la libertad de las mujeres para decidir sobre sus propios cuerpos. Los Museos Capitolinos de Roma se transformaron la noche del martes en escenario sobre el que presentar la colección crucero 202",
         "True"
        ]
       ],
       "shape": {
        "columns": 2,
        "rows": 5
       }
      },
      "text/html": [
       "<div>\n",
       "<style scoped>\n",
       "    .dataframe tbody tr th:only-of-type {\n",
       "        vertical-align: middle;\n",
       "    }\n",
       "\n",
       "    .dataframe tbody tr th {\n",
       "        vertical-align: top;\n",
       "    }\n",
       "\n",
       "    .dataframe thead th {\n",
       "        text-align: right;\n",
       "    }\n",
       "</style>\n",
       "<table border=\"1\" class=\"dataframe\">\n",
       "  <thead>\n",
       "    <tr style=\"text-align: right;\">\n",
       "      <th></th>\n",
       "      <th>text</th>\n",
       "      <th>label</th>\n",
       "    </tr>\n",
       "  </thead>\n",
       "  <tbody>\n",
       "    <tr>\n",
       "      <th>0</th>\n",
       "      <td>Algunas de las voces extremistas más conocida...</td>\n",
       "      <td>True</td>\n",
       "    </tr>\n",
       "    <tr>\n",
       "      <th>1</th>\n",
       "      <td>Después de casi dos años y medio de luchas po...</td>\n",
       "      <td>True</td>\n",
       "    </tr>\n",
       "    <tr>\n",
       "      <th>2</th>\n",
       "      <td>Dos periodistas birmanos de la agencia Reuter...</td>\n",
       "      <td>True</td>\n",
       "    </tr>\n",
       "    <tr>\n",
       "      <th>3</th>\n",
       "      <td>El Cuerpo Nacional de Policía ha detenido a c...</td>\n",
       "      <td>True</td>\n",
       "    </tr>\n",
       "    <tr>\n",
       "      <th>4</th>\n",
       "      <td>El desfile de la firma en Roma se convierte e...</td>\n",
       "      <td>True</td>\n",
       "    </tr>\n",
       "  </tbody>\n",
       "</table>\n",
       "</div>"
      ],
      "text/plain": [
       "                                                text  label\n",
       "0   Algunas de las voces extremistas más conocida...   True\n",
       "1   Después de casi dos años y medio de luchas po...   True\n",
       "2   Dos periodistas birmanos de la agencia Reuter...   True\n",
       "3   El Cuerpo Nacional de Policía ha detenido a c...   True\n",
       "4   El desfile de la firma en Roma se convierte e...   True"
      ]
     },
     "execution_count": 4,
     "metadata": {},
     "output_type": "execute_result"
    }
   ],
   "source": [
    "noticias_fuente2 = pd.read_csv(BASE_DIR / 'src/data/merge_data/full_dataset.csv')\n",
    "noticias_fuente2.head()"
   ]
  },
  {
   "cell_type": "code",
   "execution_count": 5,
   "id": "43fa54fd",
   "metadata": {},
   "outputs": [],
   "source": [
    "noticias_combinadas = pd.concat([noticias_fuente1, noticias_fuente2], ignore_index=True)\n",
    "noticias_combinadas['text'] = noticias_combinadas['text'].astype(str)\n",
    "noticias_combinadas['label'] = noticias_combinadas['label'].astype(bool)"
   ]
  },
  {
   "cell_type": "code",
   "execution_count": 6,
   "id": "124c78c2",
   "metadata": {},
   "outputs": [
    {
     "name": "stdout",
     "output_type": "stream",
     "text": [
      "(5568, 2)\n"
     ]
    },
    {
     "data": {
      "application/vnd.microsoft.datawrangler.viewer.v0+json": {
       "columns": [
        {
         "name": "index",
         "rawType": "int64",
         "type": "integer"
        },
        {
         "name": "text",
         "rawType": "object",
         "type": "string"
        },
        {
         "name": "label",
         "rawType": "bool",
         "type": "boolean"
        }
       ],
       "ref": "404cc4b1-4aeb-4a07-a1b8-68a675273cb5",
       "rows": [
        [
         "0",
         "en una rueda de prensa las autoridades dijeron que los familiares de robinson hicieron lo correcto y lo pusieron a disposicion de las fuerzas del orden",
         "True"
        ],
        [
         "1",
         "una operacion en la que las autoridades irlandesas decomisaron mas de dos toneladas de cocaina expuso la ruta que los narcotraficantes estan utilizando para enviar droga a europa",
         "True"
        ],
        [
         "2",
         "el nuevo informe se basa en mas de entrevistas con personas que escaparon de corea del norte en los ultimos anos",
         "True"
        ],
        [
         "3",
         "las pruebas hechas a varias de las principales marcas arrojaron resultados preocupantes",
         "True"
        ],
        [
         "4",
         "michelle y john wylie estuvieron buscando durante anos a un misterioso hombre alto con un traje azul",
         "True"
        ]
       ],
       "shape": {
        "columns": 2,
        "rows": 5
       }
      },
      "text/html": [
       "<div>\n",
       "<style scoped>\n",
       "    .dataframe tbody tr th:only-of-type {\n",
       "        vertical-align: middle;\n",
       "    }\n",
       "\n",
       "    .dataframe tbody tr th {\n",
       "        vertical-align: top;\n",
       "    }\n",
       "\n",
       "    .dataframe thead th {\n",
       "        text-align: right;\n",
       "    }\n",
       "</style>\n",
       "<table border=\"1\" class=\"dataframe\">\n",
       "  <thead>\n",
       "    <tr style=\"text-align: right;\">\n",
       "      <th></th>\n",
       "      <th>text</th>\n",
       "      <th>label</th>\n",
       "    </tr>\n",
       "  </thead>\n",
       "  <tbody>\n",
       "    <tr>\n",
       "      <th>0</th>\n",
       "      <td>en una rueda de prensa las autoridades dijeron...</td>\n",
       "      <td>True</td>\n",
       "    </tr>\n",
       "    <tr>\n",
       "      <th>1</th>\n",
       "      <td>una operacion en la que las autoridades irland...</td>\n",
       "      <td>True</td>\n",
       "    </tr>\n",
       "    <tr>\n",
       "      <th>2</th>\n",
       "      <td>el nuevo informe se basa en mas de entrevistas...</td>\n",
       "      <td>True</td>\n",
       "    </tr>\n",
       "    <tr>\n",
       "      <th>3</th>\n",
       "      <td>las pruebas hechas a varias de las principales...</td>\n",
       "      <td>True</td>\n",
       "    </tr>\n",
       "    <tr>\n",
       "      <th>4</th>\n",
       "      <td>michelle y john wylie estuvieron buscando dura...</td>\n",
       "      <td>True</td>\n",
       "    </tr>\n",
       "  </tbody>\n",
       "</table>\n",
       "</div>"
      ],
      "text/plain": [
       "                                                text  label\n",
       "0  en una rueda de prensa las autoridades dijeron...   True\n",
       "1  una operacion en la que las autoridades irland...   True\n",
       "2  el nuevo informe se basa en mas de entrevistas...   True\n",
       "3  las pruebas hechas a varias de las principales...   True\n",
       "4  michelle y john wylie estuvieron buscando dura...   True"
      ]
     },
     "execution_count": 6,
     "metadata": {},
     "output_type": "execute_result"
    }
   ],
   "source": [
    "noticias_combinadas['text'] = noticias_combinadas['text'].apply(preprocesar_texto)\n",
    "print(noticias_combinadas.shape)\n",
    "noticias_combinadas.head()"
   ]
  },
  {
   "cell_type": "code",
   "execution_count": 7,
   "id": "03c14e5a",
   "metadata": {},
   "outputs": [
    {
     "name": "stdout",
     "output_type": "stream",
     "text": [
      "label\n",
      "True     2864\n",
      "False    2704\n",
      "Name: count, dtype: int64\n"
     ]
    },
    {
     "data": {
      "image/png": "[encoded data removed]",
      "text/plain": [
       "<Figure size 640x480 with 1 Axes>"
      ]
     },
     "metadata": {},
     "output_type": "display_data"
    }
   ],
   "source": [
    "print(noticias_combinadas['label'].value_counts())\n",
    "noticias_combinadas['label'].value_counts().plot(kind='bar', title='Distribución de clases después del preprocesamiento');"
   ]
  },
  {
   "cell_type": "markdown",
   "id": "8e9ff24c",
   "metadata": {},
   "source": [
    "• Mean: La media es el promedio de palabras totales en cada archivo que\n",
    "compone una fuente\n",
    "\n",
    "• Std: La Desviación Estándar mide la dispersión de las longitudes respecto\n",
    "a la media de palabras en cada archivo de la fuente\n",
    "\n",
    "• Min: cantidad mínima de palabras entre las diferentes fuentes\n",
    "\n",
    "• Max: cantidad mínima de palabras entre las diferentes fuentes\n",
    "\n",
    "• Quartiles: Cuartiles (25%, 50% y 75%) de la cantidad de palabras entre\n",
    "las diferentes fuentes\n",
    "\n",
    "• Sum: Total de palabras de las diferentes fuentes"
   ]
  },
  {
   "cell_type": "code",
   "execution_count": 8,
   "id": "667b4d9a",
   "metadata": {},
   "outputs": [
    {
     "name": "stdout",
     "output_type": "stream",
     "text": [
      "Mean: 160.8789511494253\n",
      "Std Dev: 273.8201059208692\n",
      "Min: 1\n",
      "Max: 4647\n",
      "Sum: 895774\n",
      "Quartiles:\n",
      "0.25     40.0\n",
      "0.50     43.0\n",
      "0.75    218.0\n",
      "Name: text, dtype: float64\n"
     ]
    }
   ],
   "source": [
    "# meadia de palabras totales\n",
    "print(\"Mean:\", noticias_combinadas['text'].str.split().apply(len).mean())\n",
    "\n",
    "# desviacion estandar de la longitud de palabras\n",
    "print(\"Std Dev:\", noticias_combinadas['text'].str.split().apply(len).std())\n",
    "\n",
    "# cantidad minima de palabras\n",
    "print(\"Min:\", noticias_combinadas['text'].str.split().apply(len).min())\n",
    "\n",
    "# cantidad maxima de palabras\n",
    "print(\"Max:\", noticias_combinadas['text'].str.split().apply(len).max())\n",
    "\n",
    "# total de palabras\n",
    "print(\"Sum:\", noticias_combinadas['text'].str.split().apply(len).sum())\n",
    "\n",
    "# cuartiles\n",
    "print(\"Quartiles:\")\n",
    "print(noticias_combinadas['text'].str.split().apply(len).quantile([0.25, 0.5, 0.75]))"
   ]
  },
  {
   "cell_type": "code",
   "execution_count": null,
   "id": "547b1577",
   "metadata": {},
   "outputs": [],
   "source": [
    "noticias_combinadas.to_csv(BASE_DIR / 'src/data/clean_data/noticias_combinadas.csv', index=False)"
   ]
  }
 ],
 "metadata": {
  "kernelspec": {
   "display_name": "silknews (3.13.7)",
   "language": "python",
   "name": "python3"
  },
  "language_info": {
   "codemirror_mode": {
    "name": "ipython",
    "version": 3
   },
   "file_extension": ".py",
   "mimetype": "text/x-python",
   "name": "python",
   "nbconvert_exporter": "python",
   "pygments_lexer": "ipython3",
   "version": "3.13.7"
  }
 },
 "nbformat": 4,
 "nbformat_minor": 5
}

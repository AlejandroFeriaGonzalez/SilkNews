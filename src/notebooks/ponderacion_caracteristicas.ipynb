{
 "cells": [
  {
   "cell_type": "code",
   "execution_count": 5,
   "id": "edb0397f",
   "metadata": {},
   "outputs": [
    {
     "data": {
      "text/plain": [
       "WindowsPath('C:/Users/aleja/Documents/GitHub/SilkNews')"
      ]
     },
     "execution_count": 5,
     "metadata": {},
     "output_type": "execute_result"
    }
   ],
   "source": [
    "import pandas as pd\n",
    "import pathlib\n",
    "import ast\n",
    "import numpy as np\n",
    "import math\n",
    "from collections import defaultdict\n",
    "from collections import Counter\n",
    "import re\n",
    "\n",
    "BASE_DIR = pathlib.Path.cwd().parent.parent.resolve()\n",
    "BASE_DIR"
   ]
  },
  {
   "cell_type": "code",
   "execution_count": 6,
   "id": "c0f7ef03",
   "metadata": {},
   "outputs": [
    {
     "data": {
      "application/vnd.microsoft.datawrangler.viewer.v0+json": {
       "columns": [
        {
         "name": "index",
         "rawType": "int64",
         "type": "integer"
        },
        {
         "name": "text",
         "rawType": "object",
         "type": "string"
        },
        {
         "name": "label",
         "rawType": "bool",
         "type": "boolean"
        },
        {
         "name": "texto_limpio",
         "rawType": "object",
         "type": "string"
        },
        {
         "name": "sin_stopwords",
         "rawType": "object",
         "type": "string"
        },
        {
         "name": "frecuencia<3",
         "rawType": "object",
         "type": "string"
        }
       ],
       "ref": "5afcfc4a-e198-4642-9517-d8ab09f6e45c",
       "rows": [
        [
         "0",
         "en una rueda de prensa las autoridades dijeron que los familiares de robinson hicieron lo correcto y lo pusieron a disposicion de las fuerzas del orden",
         "True",
         "en una rued de prens las autor dijeron que los familiar de robinson hic lo correct y lo pus a disposicion de las fuerz del orden",
         "{'rued': 19, 'prens': 13, 'autor': 0, 'familiar': 6, 'robinson': 17, 'hic': 10, 'correct': 2, 'pus': 15, 'disposicion': 4, 'fuerz': 8, 'orden': 12, 'rued prens': 20, 'prens autor': 14, 'autor familiar': 1, 'familiar robinson': 7, 'robinson hic': 18, 'hic correct': 11, 'correct pus': 3, 'pus disposicion': 16, 'disposicion fuerz': 5, 'fuerz orden': 9}",
         "{'rued': 19, 'prens': 13, 'familiar': 6, 'robinson': 17, 'hic': 10, 'pus': 15, 'disposicion': 4, 'fuerz': 8, 'orden': 12, 'rued prens': 20, 'prens autor': 14, 'familiar robinson': 7, 'robinson hic': 18, 'hic correct': 11, 'correct pus': 3, 'pus disposicion': 16, 'disposicion fuerz': 5, 'fuerz orden': 9}"
        ],
        [
         "1",
         "una operacion en la que las autoridades irlandesas decomisaron mas de dos toneladas de cocaina expuso la ruta que los narcotraficantes estan utilizando para enviar droga a europa",
         "True",
         "una oper en la que las autor irlandes decomis mas de dos tonel de cocain expus la rut que los narcotraf estan utiliz par envi drog a europ",
         "{'oper': 17, 'autor': 0, 'irlandes': 13, 'decomis': 4, 'tonel': 23, 'cocain': 2, 'expus': 11, 'rut': 21, 'narcotraf': 15, 'utiliz': 25, 'par': 19, 'envi': 8, 'drog': 6, 'europ': 10, 'oper autor': 18, 'autor irlandes': 1, 'irlandes decomis': 14, 'decomis tonel': 5, 'tonel cocain': 24, 'cocain expus': 3, 'expus rut': 12, 'rut narcotraf': 22, 'narcotraf utiliz': 16, 'utiliz par': 26, 'par envi': 20, 'envi drog': 9, 'drog europ': 7}",
         "{'oper': 17, 'irlandes': 13, 'decomis': 4, 'tonel': 23, 'expus': 11, 'rut': 21, 'narcotraf': 15, 'utiliz': 25, 'par': 19, 'envi': 8, 'drog': 6, 'europ': 10, 'oper autor': 18, 'irlandes decomis': 14, 'decomis tonel': 5, 'tonel cocain': 24, 'cocain expus': 3, 'expus rut': 12, 'rut narcotraf': 22, 'narcotraf utiliz': 16, 'utiliz par': 26, 'par envi': 20, 'envi drog': 9, 'drog europ': 7}"
        ],
        [
         "2",
         "el nuevo informe se basa en mas de entrevistas con personas que escaparon de corea del norte en los ultimos anos",
         "True",
         "el nuev inform se bas en mas de entrev con person que escap de core del nort en los ultim anos",
         "{'nuev': 13, 'inform': 9, 'bas': 1, 'entrev': 5, 'person': 15, 'escap': 7, 'core': 3, 'nort': 11, 'ultim': 17, 'anos': 0, 'nuev inform': 14, 'inform bas': 10, 'bas entrev': 2, 'entrev person': 6, 'person escap': 16, 'escap core': 8, 'core nort': 4, 'nort ultim': 12, 'ultim anos': 18}",
         "{'nuev': 13, 'inform': 9, 'entrev': 5, 'person': 15, 'escap': 7, 'core': 3, 'nort': 11, 'ultim': 17, 'nuev inform': 14, 'inform bas': 10, 'entrev person': 6, 'person escap': 16, 'escap core': 8, 'core nort': 4, 'nort ultim': 12, 'ultim anos': 18}"
        ],
        [
         "3",
         "las pruebas hechas a varias de las principales marcas arrojaron resultados preocupantes",
         "True",
         "las prueb hech a vari de las principal marc arroj result preocup",
         "{'prueb': 9, 'hech': 2, 'vari': 13, 'principal': 7, 'marc': 4, 'arroj': 0, 'result': 11, 'preocup': 6, 'prueb hech': 10, 'hech vari': 3, 'vari principal': 14, 'principal marc': 8, 'marc arroj': 5, 'arroj result': 1, 'result preocup': 12}",
         "{'prueb': 9, 'vari': 13, 'principal': 7, 'marc': 4, 'result': 11, 'preocup': 6, 'prueb hech': 10, 'hech vari': 3, 'vari principal': 14, 'principal marc': 8, 'marc arroj': 5, 'result preocup': 12}"
        ],
        [
         "4",
         "michelle y john wylie estuvieron buscando durante anos a un misterioso hombre alto con un traje azul",
         "True",
         "michell y john wyli estuv busc durant anos a un misteri hombr alto con un traj azul",
         "{'michell': 15, 'john': 13, 'wyli': 21, 'estuv': 9, 'busc': 5, 'durant': 7, 'anos': 2, 'misteri': 17, 'hombr': 11, 'alto': 0, 'traj': 19, 'azul': 4, 'michell john': 16, 'john wyli': 14, 'wyli estuv': 22, 'estuv busc': 10, 'busc durant': 6, 'durant anos': 8, 'anos misteri': 3, 'misteri hombr': 18, 'hombr alto': 12, 'alto traj': 1, 'traj azul': 20}",
         "{'michell': 15, 'john': 13, 'wyli': 21, 'estuv': 9, 'busc': 5, 'durant': 7, 'misteri': 17, 'hombr': 11, 'traj': 19, 'azul': 4, 'michell john': 16, 'john wyli': 14, 'wyli estuv': 22, 'estuv busc': 10, 'busc durant': 6, 'durant anos': 8, 'anos misteri': 3, 'misteri hombr': 18, 'hombr alto': 12, 'traj azul': 20}"
        ]
       ],
       "shape": {
        "columns": 5,
        "rows": 5
       }
      },
      "text/html": [
       "<div>\n",
       "<style scoped>\n",
       "    .dataframe tbody tr th:only-of-type {\n",
       "        vertical-align: middle;\n",
       "    }\n",
       "\n",
       "    .dataframe tbody tr th {\n",
       "        vertical-align: top;\n",
       "    }\n",
       "\n",
       "    .dataframe thead th {\n",
       "        text-align: right;\n",
       "    }\n",
       "</style>\n",
       "<table border=\"1\" class=\"dataframe\">\n",
       "  <thead>\n",
       "    <tr style=\"text-align: right;\">\n",
       "      <th></th>\n",
       "      <th>text</th>\n",
       "      <th>label</th>\n",
       "      <th>texto_limpio</th>\n",
       "      <th>sin_stopwords</th>\n",
       "      <th>frecuencia&lt;3</th>\n",
       "    </tr>\n",
       "  </thead>\n",
       "  <tbody>\n",
       "    <tr>\n",
       "      <th>0</th>\n",
       "      <td>en una rueda de prensa las autoridades dijeron...</td>\n",
       "      <td>True</td>\n",
       "      <td>en una rued de prens las autor dijeron que los...</td>\n",
       "      <td>{'rued': 19, 'prens': 13, 'autor': 0, 'familia...</td>\n",
       "      <td>{'rued': 19, 'prens': 13, 'familiar': 6, 'robi...</td>\n",
       "    </tr>\n",
       "    <tr>\n",
       "      <th>1</th>\n",
       "      <td>una operacion en la que las autoridades irland...</td>\n",
       "      <td>True</td>\n",
       "      <td>una oper en la que las autor irlandes decomis ...</td>\n",
       "      <td>{'oper': 17, 'autor': 0, 'irlandes': 13, 'deco...</td>\n",
       "      <td>{'oper': 17, 'irlandes': 13, 'decomis': 4, 'to...</td>\n",
       "    </tr>\n",
       "    <tr>\n",
       "      <th>2</th>\n",
       "      <td>el nuevo informe se basa en mas de entrevistas...</td>\n",
       "      <td>True</td>\n",
       "      <td>el nuev inform se bas en mas de entrev con per...</td>\n",
       "      <td>{'nuev': 13, 'inform': 9, 'bas': 1, 'entrev': ...</td>\n",
       "      <td>{'nuev': 13, 'inform': 9, 'entrev': 5, 'person...</td>\n",
       "    </tr>\n",
       "    <tr>\n",
       "      <th>3</th>\n",
       "      <td>las pruebas hechas a varias de las principales...</td>\n",
       "      <td>True</td>\n",
       "      <td>las prueb hech a vari de las principal marc ar...</td>\n",
       "      <td>{'prueb': 9, 'hech': 2, 'vari': 13, 'principal...</td>\n",
       "      <td>{'prueb': 9, 'vari': 13, 'principal': 7, 'marc...</td>\n",
       "    </tr>\n",
       "    <tr>\n",
       "      <th>4</th>\n",
       "      <td>michelle y john wylie estuvieron buscando dura...</td>\n",
       "      <td>True</td>\n",
       "      <td>michell y john wyli estuv busc durant anos a u...</td>\n",
       "      <td>{'michell': 15, 'john': 13, 'wyli': 21, 'estuv...</td>\n",
       "      <td>{'michell': 15, 'john': 13, 'wyli': 21, 'estuv...</td>\n",
       "    </tr>\n",
       "  </tbody>\n",
       "</table>\n",
       "</div>"
      ],
      "text/plain": [
       "                                                text  label  \\\n",
       "0  en una rueda de prensa las autoridades dijeron...   True   \n",
       "1  una operacion en la que las autoridades irland...   True   \n",
       "2  el nuevo informe se basa en mas de entrevistas...   True   \n",
       "3  las pruebas hechas a varias de las principales...   True   \n",
       "4  michelle y john wylie estuvieron buscando dura...   True   \n",
       "\n",
       "                                        texto_limpio  \\\n",
       "0  en una rued de prens las autor dijeron que los...   \n",
       "1  una oper en la que las autor irlandes decomis ...   \n",
       "2  el nuev inform se bas en mas de entrev con per...   \n",
       "3  las prueb hech a vari de las principal marc ar...   \n",
       "4  michell y john wyli estuv busc durant anos a u...   \n",
       "\n",
       "                                       sin_stopwords  \\\n",
       "0  {'rued': 19, 'prens': 13, 'autor': 0, 'familia...   \n",
       "1  {'oper': 17, 'autor': 0, 'irlandes': 13, 'deco...   \n",
       "2  {'nuev': 13, 'inform': 9, 'bas': 1, 'entrev': ...   \n",
       "3  {'prueb': 9, 'hech': 2, 'vari': 13, 'principal...   \n",
       "4  {'michell': 15, 'john': 13, 'wyli': 21, 'estuv...   \n",
       "\n",
       "                                        frecuencia<3  \n",
       "0  {'rued': 19, 'prens': 13, 'familiar': 6, 'robi...  \n",
       "1  {'oper': 17, 'irlandes': 13, 'decomis': 4, 'to...  \n",
       "2  {'nuev': 13, 'inform': 9, 'entrev': 5, 'person...  \n",
       "3  {'prueb': 9, 'vari': 13, 'principal': 7, 'marc...  \n",
       "4  {'michell': 15, 'john': 13, 'wyli': 21, 'estuv...  "
      ]
     },
     "execution_count": 6,
     "metadata": {},
     "output_type": "execute_result"
    }
   ],
   "source": [
    "df = pd.read_csv(f\"{BASE_DIR}/src/data/extraccion_caracteristicas/extraccion_caracteristicas.csv\")\n",
    "df.head()"
   ]
  },
  {
   "cell_type": "markdown",
   "id": "f1f36e01",
   "metadata": {},
   "source": [
    "## Frecuencia Absoluta "
   ]
  },
  {
   "cell_type": "code",
   "execution_count": 12,
   "id": "d32fedc0",
   "metadata": {},
   "outputs": [
    {
     "name": "stdout",
     "output_type": "stream",
     "text": [
      "\n",
      "Texto 1:\n",
      "Frecuencias: {'en': 1, 'una': 1, 'rued': 1, 'de': 3, 'prens': 1, 'las': 2, 'autor': 1, 'dijeron': 1, 'que': 1, 'los': 1}\n",
      "\n",
      "Texto 2:\n",
      "Frecuencias: {'una': 1, 'oper': 1, 'en': 1, 'la': 2, 'que': 2, 'las': 1, 'autor': 1, 'irlandes': 1, 'decomis': 1, 'mas': 1}\n",
      "\n",
      "Texto 3:\n",
      "Frecuencias: {'el': 1, 'nuev': 1, 'inform': 1, 'se': 1, 'bas': 1, 'en': 2, 'mas': 1, 'de': 2, 'entrev': 1, 'con': 1}\n"
     ]
    }
   ],
   "source": [
    "def calcular_frecuencia_palabras(texto):\n",
    "    \"\"\"Calcula la frecuencia de palabras en un texto\"\"\"\n",
    "    if pd.isna(texto):\n",
    "        return {}\n",
    "    \n",
    "    palabras = re.findall(r'\\b[a-záéíóúñü]+\\b', texto.lower())\n",
    "\n",
    "    frecuencia = Counter(palabras)\n",
    "    return dict(frecuencia)\n",
    "\n",
    "df['frecuencia_palabras'] = df['texto_limpio'].apply(calcular_frecuencia_palabras)\n",
    "for i in range(min(3, len(df))):\n",
    "    print(f\"\\nTexto {i+1}:\")\n",
    "    print(f\"Frecuencias: {dict(list(df.iloc[i]['frecuencia_palabras'].items())[:10])}\")"
   ]
  },
  {
   "cell_type": "markdown",
   "id": "3902861c",
   "metadata": {},
   "source": [
    "## Esquema TF-IDF"
   ]
  },
  {
   "cell_type": "code",
   "execution_count": 8,
   "id": "7e33a9f0",
   "metadata": {},
   "outputs": [
    {
     "name": "stdout",
     "output_type": "stream",
     "text": [
      "Tamaño del vocabulario: 258800\n"
     ]
    }
   ],
   "source": [
    "def convertir_a_dict(cell_value):\n",
    "    if isinstance(cell_value, str):\n",
    "        try:\n",
    "            return ast.literal_eval(cell_value)\n",
    "        except:\n",
    "            return {}\n",
    "    return cell_value if isinstance(cell_value, dict) else {}\n",
    "\n",
    "documentos_freq = []\n",
    "for idx, freq_str in df['frecuencia<3'].items():\n",
    "    doc_dict = convertir_a_dict(freq_str)\n",
    "    documentos_freq.append(doc_dict)\n",
    "\n",
    "vocabulario = set()\n",
    "for doc in documentos_freq:\n",
    "    vocabulario.update(doc.keys())\n",
    "\n",
    "vocabulario = sorted(list(vocabulario))\n",
    "print(f\"Tamaño del vocabulario: {len(vocabulario)}\")\n",
    "\n",
    "df_terminos = defaultdict(int)\n",
    "for doc in documentos_freq:\n",
    "    for termino in doc.keys():\n",
    "        df_terminos[termino] += 1"
   ]
  },
  {
   "cell_type": "code",
   "execution_count": 9,
   "id": "54e0d152",
   "metadata": {},
   "outputs": [
    {
     "name": "stdout",
     "output_type": "stream",
     "text": [
      "Matriz TF-IDF calculada con 5568 documentos\n"
     ]
    }
   ],
   "source": [
    "def calcular_tf_idf(documentos_freq, df_terminos, vocabulario):\n",
    "    N = len(documentos_freq)\n",
    "    tfidf_matrix = []\n",
    "    \n",
    "    for i, doc in enumerate(documentos_freq):\n",
    "        total_words_in_doc = sum(doc.values())\n",
    "        doc_tfidf = {}\n",
    "        \n",
    "        for termino in doc:\n",
    "            tf = doc[termino] / total_words_in_doc\n",
    "            \n",
    "            idf = math.log(N / df_terminos[termino])\n",
    "            \n",
    "            tfidf = tf * idf\n",
    "            doc_tfidf[termino] = tfidf\n",
    "        \n",
    "        tfidf_matrix.append(doc_tfidf)\n",
    "    \n",
    "    return tfidf_matrix\n",
    "\n",
    "tfidf_matrix = calcular_tf_idf(documentos_freq, df_terminos, vocabulario)\n",
    "\n",
    "print(f\"Matriz TF-IDF calculada con {len(tfidf_matrix)} documentos\")"
   ]
  },
  {
   "cell_type": "code",
   "execution_count": 10,
   "id": "ad4b7dbc",
   "metadata": {},
   "outputs": [
    {
     "name": "stdout",
     "output_type": "stream",
     "text": [
      "terminos con mayor TF-IDF promedio:\n",
      "------------------------------------------------------------\n",
      " 1. xiaomi vend          | Promedio: 2.090858 | Docs:    1\n",
      " 2. sac call             | Promedio: 2.090858 | Docs:    1\n",
      " 3. muert johnny         | Promedio: 2.090858 | Docs:    1\n",
      " 4. veteran espan        | Promedio: 1.922823 | Docs:    2\n",
      " 5. vigil espectacul     | Promedio: 1.922823 | Docs:    2\n",
      "terminos con mayor TF-IDF máximo:\n",
      "------------------------------------------------------------\n",
      " 1. vien trabaj          | Máximo: 2.338451 | Docs:    5\n",
      " 2. xiaomi vend          | Máximo: 2.090858 | Docs:    1\n",
      " 3. sac call             | Máximo: 2.090858 | Docs:    1\n",
      " 4. muert johnny         | Máximo: 2.090858 | Docs:    1\n",
      " 5. veteran espan        | Máximo: 1.922823 | Docs:    2\n",
      " 1. vien trabaj          | Máximo: 2.338451 | Docs:    5\n",
      " 2. xiaomi vend          | Máximo: 2.090858 | Docs:    1\n",
      " 3. sac call             | Máximo: 2.090858 | Docs:    1\n",
      " 4. muert johnny         | Máximo: 2.090858 | Docs:    1\n",
      " 5. veteran espan        | Máximo: 1.922823 | Docs:    2\n"
     ]
    }
   ],
   "source": [
    "terminos_tfidf_promedio = defaultdict(list)\n",
    "for doc in tfidf_matrix:\n",
    "    for termino, tfidf_val in doc.items():\n",
    "        terminos_tfidf_promedio[termino].append(tfidf_val)\n",
    "\n",
    "terminos_stats = {}\n",
    "for termino, valores in terminos_tfidf_promedio.items():\n",
    "    terminos_stats[termino] = {\n",
    "        'promedio': np.mean(valores),\n",
    "        'max': np.max(valores),\n",
    "        'min': np.min(valores),\n",
    "        'std': np.std(valores),\n",
    "        'docs_count': len(valores)\n",
    "    }\n",
    "\n",
    "terminos_ordenados = sorted(terminos_stats.items(), key=lambda x: x[1]['promedio'], reverse=True)\n",
    "\n",
    "print(\"terminos con mayor TF-IDF promedio:\")\n",
    "print(\"-\" * 60)\n",
    "for i, (termino, stats) in enumerate(terminos_ordenados[:5]):\n",
    "    print(f\"{i+1:2d}. {termino:<20} | Promedio: {stats['promedio']:.6f} | Docs: {stats['docs_count']:4d}\")\n",
    "\n",
    "print(f\"terminos con mayor TF-IDF máximo:\")\n",
    "print(\"-\" * 60)\n",
    "terminos_max = sorted(terminos_stats.items(), key=lambda x: x[1]['max'], reverse=True)\n",
    "for i, (termino, stats) in enumerate(terminos_max[:5]):\n",
    "    print(f\"{i+1:2d}. {termino:<20} | Máximo: {stats['max']:.6f} | Docs: {stats['docs_count']:4d}\")"
   ]
  },
  {
   "cell_type": "code",
   "execution_count": 11,
   "id": "4bd1df60",
   "metadata": {},
   "outputs": [
    {
     "name": "stdout",
     "output_type": "stream",
     "text": [
      "Número total de entradas término-documento: 772685\n",
      "TF-IDF promedio: 0.042972\n",
      "TF-IDF máximo: 2.338451\n",
      "TF-IDF mínimo: 0.000004\n"
     ]
    },
    {
     "data": {
      "application/vnd.microsoft.datawrangler.viewer.v0+json": {
       "columns": [
        {
         "name": "index",
         "rawType": "int64",
         "type": "integer"
        },
        {
         "name": "termino",
         "rawType": "object",
         "type": "string"
        },
        {
         "name": "tfidf",
         "rawType": "float64",
         "type": "float"
        }
       ],
       "ref": "f18c8222-e1a0-4b3a-9c8b-21d445366ff4",
       "rows": [
        [
         "0",
         "rued",
         "0.39294072378285444"
        ],
        [
         "1",
         "prens",
         "0.22411154665051844"
        ],
        [
         "2",
         "familiar",
         "0.12021606920394345"
        ],
        [
         "3",
         "robinson",
         "0.7083161856726684"
        ],
        [
         "4",
         "hic",
         "0.17178198066637798"
        ],
        [
         "5",
         "pus",
         "0.28705450057262233"
        ],
        [
         "6",
         "disposicion",
         "0.08786963783784611"
        ],
        [
         "7",
         "fuerz",
         "0.13157238171733066"
        ],
        [
         "8",
         "orden",
         "0.188377553294498"
        ],
        [
         "9",
         "rued prens",
         "0.4745139261169032"
        ],
        [
         "10",
         "prens autor",
         "0.5833192117304328"
        ],
        [
         "11",
         "familiar robinson",
         "0.2916596058652164"
        ],
        [
         "12",
         "robinson hic",
         "0.7499818436534136"
        ],
        [
         "13",
         "hic correct",
         "0.4583222377881972"
        ],
        [
         "14",
         "correct pus",
         "0.12499697394223559"
        ],
        [
         "15",
         "pus disposicion",
         "0.5594973403589847"
        ],
        [
         "16",
         "disposicion fuerz",
         "0.20832828990372598"
        ],
        [
         "17",
         "fuerz orden",
         "0.3147172539519289"
        ],
        [
         "18",
         "oper",
         "0.15784420156969023"
        ],
        [
         "19",
         "irlandes",
         "0.29629704677846563"
        ],
        [
         "20",
         "decomis",
         "0.0665698604362993"
        ],
        [
         "21",
         "tonel",
         "0.3389382865879277"
        ],
        [
         "22",
         "expus",
         "0.17793002360075552"
        ],
        [
         "23",
         "rut",
         "0.29074914642851335"
        ],
        [
         "24",
         "narcotraf",
         "0.2223730732420056"
        ],
        [
         "25",
         "utiliz",
         "0.22498058611161686"
        ],
        [
         "26",
         "par",
         "0.042637668716591644"
        ],
        [
         "27",
         "envi",
         "0.07851275975109964"
        ],
        [
         "28",
         "drog",
         "0.0805784048867729"
        ],
        [
         "29",
         "europ",
         "0.09706227384637268"
        ],
        [
         "30",
         "oper autor",
         "0.37440500901177753"
        ],
        [
         "31",
         "irlandes decomis",
         "0.34697435870172294"
        ],
        [
         "32",
         "decomis tonel",
         "0.11396040260710216"
        ],
        [
         "33",
         "tonel cocain",
         "0.46061248641096153"
        ],
        [
         "34",
         "cocain expus",
         "0.07435164829322634"
        ],
        [
         "35",
         "expus rut",
         "0.29740659317290535"
        ],
        [
         "36",
         "rut narcotraf",
         "0.5452454208169932"
        ],
        [
         "37",
         "narcotraf utiliz",
         "0.3965421242305405"
        ],
        [
         "38",
         "utiliz par",
         "0.3787514990047296"
        ],
        [
         "39",
         "par envi",
         "0.36940038072862275"
        ],
        [
         "40",
         "envi drog",
         "0.22305494487967903"
        ],
        [
         "41",
         "drog europ",
         "0.17348717935086147"
        ],
        [
         "42",
         "nuev",
         "0.1413634539137573"
        ],
        [
         "43",
         "inform",
         "0.10928570408724317"
        ],
        [
         "44",
         "entrev",
         "0.10857313867838336"
        ],
        [
         "45",
         "person",
         "0.16898040138812942"
        ],
        [
         "46",
         "escap",
         "0.1939374703525889"
        ],
        [
         "47",
         "core",
         "0.10688810486426781"
        ],
        [
         "48",
         "nort",
         "0.25235221638711014"
        ],
        [
         "49",
         "ultim",
         "0.22493367910642975"
        ]
       ],
       "shape": {
        "columns": 2,
        "rows": 772685
       }
      },
      "text/html": [
       "<div>\n",
       "<style scoped>\n",
       "    .dataframe tbody tr th:only-of-type {\n",
       "        vertical-align: middle;\n",
       "    }\n",
       "\n",
       "    .dataframe tbody tr th {\n",
       "        vertical-align: top;\n",
       "    }\n",
       "\n",
       "    .dataframe thead th {\n",
       "        text-align: right;\n",
       "    }\n",
       "</style>\n",
       "<table border=\"1\" class=\"dataframe\">\n",
       "  <thead>\n",
       "    <tr style=\"text-align: right;\">\n",
       "      <th></th>\n",
       "      <th>termino</th>\n",
       "      <th>tfidf</th>\n",
       "    </tr>\n",
       "  </thead>\n",
       "  <tbody>\n",
       "    <tr>\n",
       "      <th>0</th>\n",
       "      <td>rued</td>\n",
       "      <td>0.392941</td>\n",
       "    </tr>\n",
       "    <tr>\n",
       "      <th>1</th>\n",
       "      <td>prens</td>\n",
       "      <td>0.224112</td>\n",
       "    </tr>\n",
       "    <tr>\n",
       "      <th>2</th>\n",
       "      <td>familiar</td>\n",
       "      <td>0.120216</td>\n",
       "    </tr>\n",
       "    <tr>\n",
       "      <th>3</th>\n",
       "      <td>robinson</td>\n",
       "      <td>0.708316</td>\n",
       "    </tr>\n",
       "    <tr>\n",
       "      <th>4</th>\n",
       "      <td>hic</td>\n",
       "      <td>0.171782</td>\n",
       "    </tr>\n",
       "    <tr>\n",
       "      <th>...</th>\n",
       "      <td>...</td>\n",
       "      <td>...</td>\n",
       "    </tr>\n",
       "    <tr>\n",
       "      <th>772680</th>\n",
       "      <td>cuatr pat</td>\n",
       "      <td>0.006659</td>\n",
       "    </tr>\n",
       "    <tr>\n",
       "      <th>772681</th>\n",
       "      <td>pat ano</td>\n",
       "      <td>0.021514</td>\n",
       "    </tr>\n",
       "    <tr>\n",
       "      <th>772682</th>\n",
       "      <td>ano apunt</td>\n",
       "      <td>0.001537</td>\n",
       "    </tr>\n",
       "    <tr>\n",
       "      <th>772683</th>\n",
       "      <td>apunt haci</td>\n",
       "      <td>0.001542</td>\n",
       "    </tr>\n",
       "    <tr>\n",
       "      <th>772684</th>\n",
       "      <td>haci sol</td>\n",
       "      <td>0.012333</td>\n",
       "    </tr>\n",
       "  </tbody>\n",
       "</table>\n",
       "<p>772685 rows × 2 columns</p>\n",
       "</div>"
      ],
      "text/plain": [
       "           termino     tfidf\n",
       "0             rued  0.392941\n",
       "1            prens  0.224112\n",
       "2         familiar  0.120216\n",
       "3         robinson  0.708316\n",
       "4              hic  0.171782\n",
       "...            ...       ...\n",
       "772680   cuatr pat  0.006659\n",
       "772681     pat ano  0.021514\n",
       "772682   ano apunt  0.001537\n",
       "772683  apunt haci  0.001542\n",
       "772684    haci sol  0.012333\n",
       "\n",
       "[772685 rows x 2 columns]"
      ]
     },
     "execution_count": 11,
     "metadata": {},
     "output_type": "execute_result"
    }
   ],
   "source": [
    "tfidf_data = []\n",
    "for i, doc_tfidf in enumerate(tfidf_matrix):\n",
    "    for termino, tfidf_val in doc_tfidf.items():\n",
    "        tfidf_data.append({\n",
    "            'termino': termino,\n",
    "            'tfidf': tfidf_val,\n",
    "        })\n",
    "\n",
    "df_tfidf = pd.DataFrame(tfidf_data)\n",
    "\n",
    "print(f\"Número total de entradas término-documento: {len(df_tfidf)}\")\n",
    "print(f\"TF-IDF promedio: {df_tfidf['tfidf'].mean():.6f}\")\n",
    "print(f\"TF-IDF máximo: {df_tfidf['tfidf'].max():.6f}\")\n",
    "print(f\"TF-IDF mínimo: {df_tfidf['tfidf'].min():.6f}\")\n",
    "\n",
    "df_tfidf"
   ]
  }
 ],
 "metadata": {
  "kernelspec": {
   "display_name": "SilkNews",
   "language": "python",
   "name": "python3"
  },
  "language_info": {
   "codemirror_mode": {
    "name": "ipython",
    "version": 3
   },
   "file_extension": ".py",
   "mimetype": "text/x-python",
   "name": "python",
   "nbconvert_exporter": "python",
   "pygments_lexer": "ipython3",
   "version": "3.13.7"
  }
 },
 "nbformat": 4,
 "nbformat_minor": 5
}

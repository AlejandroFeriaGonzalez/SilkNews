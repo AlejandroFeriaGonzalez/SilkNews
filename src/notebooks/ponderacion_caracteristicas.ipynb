{
 "cells": [
  {
   "cell_type": "code",
   "execution_count": 25,
   "id": "edb0397f",
   "metadata": {},
   "outputs": [
    {
     "data": {
      "text/plain": [
       "WindowsPath('C:/Users/samue/Documents/Analitica Predictiva/SilkNews')"
      ]
     },
     "execution_count": 25,
     "metadata": {},
     "output_type": "execute_result"
    }
   ],
   "source": [
    "import pandas as pd\n",
    "import pathlib\n",
    "import ast\n",
    "import numpy as np\n",
    "import math\n",
    "from collections import defaultdict\n",
    "\n",
    "BASE_DIR = pathlib.Path.cwd().parent.parent.resolve()\n",
    "BASE_DIR"
   ]
  },
  {
   "cell_type": "code",
   "execution_count": 26,
   "id": "c0f7ef03",
   "metadata": {},
   "outputs": [
    {
     "data": {
      "text/html": [
       "<div>\n",
       "<style scoped>\n",
       "    .dataframe tbody tr th:only-of-type {\n",
       "        vertical-align: middle;\n",
       "    }\n",
       "\n",
       "    .dataframe tbody tr th {\n",
       "        vertical-align: top;\n",
       "    }\n",
       "\n",
       "    .dataframe thead th {\n",
       "        text-align: right;\n",
       "    }\n",
       "</style>\n",
       "<table border=\"1\" class=\"dataframe\">\n",
       "  <thead>\n",
       "    <tr style=\"text-align: right;\">\n",
       "      <th></th>\n",
       "      <th>text</th>\n",
       "      <th>label</th>\n",
       "      <th>texto_limpio</th>\n",
       "      <th>sin_stopwords</th>\n",
       "      <th>frecuencia&lt;3</th>\n",
       "    </tr>\n",
       "  </thead>\n",
       "  <tbody>\n",
       "    <tr>\n",
       "      <th>0</th>\n",
       "      <td>en una rueda de prensa las autoridades dijeron...</td>\n",
       "      <td>True</td>\n",
       "      <td>en una rued de prens las autor dijeron que los...</td>\n",
       "      <td>{'rued': 19, 'prens': 13, 'autor': 0, 'familia...</td>\n",
       "      <td>{'rued': 19, 'prens': 13, 'familiar': 6, 'robi...</td>\n",
       "    </tr>\n",
       "    <tr>\n",
       "      <th>1</th>\n",
       "      <td>una operacion en la que las autoridades irland...</td>\n",
       "      <td>True</td>\n",
       "      <td>una oper en la que las autor irlandes decomis ...</td>\n",
       "      <td>{'oper': 17, 'autor': 0, 'irlandes': 13, 'deco...</td>\n",
       "      <td>{'oper': 17, 'irlandes': 13, 'decomis': 4, 'to...</td>\n",
       "    </tr>\n",
       "    <tr>\n",
       "      <th>2</th>\n",
       "      <td>el nuevo informe se basa en mas de entrevistas...</td>\n",
       "      <td>True</td>\n",
       "      <td>el nuev inform se bas en mas de entrev con per...</td>\n",
       "      <td>{'nuev': 13, 'inform': 9, 'bas': 1, 'entrev': ...</td>\n",
       "      <td>{'nuev': 13, 'inform': 9, 'entrev': 5, 'person...</td>\n",
       "    </tr>\n",
       "    <tr>\n",
       "      <th>3</th>\n",
       "      <td>las pruebas hechas a varias de las principales...</td>\n",
       "      <td>True</td>\n",
       "      <td>las prueb hech a vari de las principal marc ar...</td>\n",
       "      <td>{'prueb': 9, 'hech': 2, 'vari': 13, 'principal...</td>\n",
       "      <td>{'prueb': 9, 'vari': 13, 'principal': 7, 'marc...</td>\n",
       "    </tr>\n",
       "    <tr>\n",
       "      <th>4</th>\n",
       "      <td>michelle y john wylie estuvieron buscando dura...</td>\n",
       "      <td>True</td>\n",
       "      <td>michell y john wyli estuv busc durant anos a u...</td>\n",
       "      <td>{'michell': 15, 'john': 13, 'wyli': 21, 'estuv...</td>\n",
       "      <td>{'michell': 15, 'john': 13, 'wyli': 21, 'estuv...</td>\n",
       "    </tr>\n",
       "  </tbody>\n",
       "</table>\n",
       "</div>"
      ],
      "text/plain": [
       "                                                text  label  \\\n",
       "0  en una rueda de prensa las autoridades dijeron...   True   \n",
       "1  una operacion en la que las autoridades irland...   True   \n",
       "2  el nuevo informe se basa en mas de entrevistas...   True   \n",
       "3  las pruebas hechas a varias de las principales...   True   \n",
       "4  michelle y john wylie estuvieron buscando dura...   True   \n",
       "\n",
       "                                        texto_limpio  \\\n",
       "0  en una rued de prens las autor dijeron que los...   \n",
       "1  una oper en la que las autor irlandes decomis ...   \n",
       "2  el nuev inform se bas en mas de entrev con per...   \n",
       "3  las prueb hech a vari de las principal marc ar...   \n",
       "4  michell y john wyli estuv busc durant anos a u...   \n",
       "\n",
       "                                       sin_stopwords  \\\n",
       "0  {'rued': 19, 'prens': 13, 'autor': 0, 'familia...   \n",
       "1  {'oper': 17, 'autor': 0, 'irlandes': 13, 'deco...   \n",
       "2  {'nuev': 13, 'inform': 9, 'bas': 1, 'entrev': ...   \n",
       "3  {'prueb': 9, 'hech': 2, 'vari': 13, 'principal...   \n",
       "4  {'michell': 15, 'john': 13, 'wyli': 21, 'estuv...   \n",
       "\n",
       "                                        frecuencia<3  \n",
       "0  {'rued': 19, 'prens': 13, 'familiar': 6, 'robi...  \n",
       "1  {'oper': 17, 'irlandes': 13, 'decomis': 4, 'to...  \n",
       "2  {'nuev': 13, 'inform': 9, 'entrev': 5, 'person...  \n",
       "3  {'prueb': 9, 'vari': 13, 'principal': 7, 'marc...  \n",
       "4  {'michell': 15, 'john': 13, 'wyli': 21, 'estuv...  "
      ]
     },
     "execution_count": 26,
     "metadata": {},
     "output_type": "execute_result"
    }
   ],
   "source": [
    "df = pd.read_csv(f\"{BASE_DIR}/src/data/extraccion_caracteristicas/extraccion_caracteristicas.csv\")\n",
    "df.head()"
   ]
  },
  {
   "cell_type": "markdown",
   "id": "f1f36e01",
   "metadata": {},
   "source": [
    "## Frecuencia Absoluta "
   ]
  },
  {
   "cell_type": "markdown",
   "id": "3902861c",
   "metadata": {},
   "source": [
    "## Esquema TF-IDF"
   ]
  },
  {
   "cell_type": "code",
   "execution_count": 27,
   "id": "7e33a9f0",
   "metadata": {},
   "outputs": [
    {
     "name": "stdout",
     "output_type": "stream",
     "text": [
      "Tamaño del vocabulario: 258800\n"
     ]
    }
   ],
   "source": [
    "def convertir_a_dict(cell_value):\n",
    "    if isinstance(cell_value, str):\n",
    "        try:\n",
    "            return ast.literal_eval(cell_value)\n",
    "        except:\n",
    "            return {}\n",
    "    return cell_value if isinstance(cell_value, dict) else {}\n",
    "\n",
    "documentos_freq = []\n",
    "for idx, freq_str in df['frecuencia<3'].items():\n",
    "    doc_dict = convertir_a_dict(freq_str)\n",
    "    documentos_freq.append(doc_dict)\n",
    "\n",
    "vocabulario = set()\n",
    "for doc in documentos_freq:\n",
    "    vocabulario.update(doc.keys())\n",
    "\n",
    "vocabulario = sorted(list(vocabulario))\n",
    "print(f\"Tamaño del vocabulario: {len(vocabulario)}\")\n",
    "\n",
    "df_terminos = defaultdict(int)\n",
    "for doc in documentos_freq:\n",
    "    for termino in doc.keys():\n",
    "        df_terminos[termino] += 1"
   ]
  },
  {
   "cell_type": "code",
   "execution_count": 28,
   "id": "54e0d152",
   "metadata": {},
   "outputs": [
    {
     "name": "stdout",
     "output_type": "stream",
     "text": [
      "Matriz TF-IDF calculada con 5568 documentos\n"
     ]
    }
   ],
   "source": [
    "def calcular_tf_idf(documentos_freq, df_terminos, vocabulario):\n",
    "    N = len(documentos_freq)\n",
    "    tfidf_matrix = []\n",
    "    \n",
    "    for i, doc in enumerate(documentos_freq):\n",
    "        total_words_in_doc = sum(doc.values())\n",
    "        doc_tfidf = {}\n",
    "        \n",
    "        for termino in doc:\n",
    "            tf = doc[termino] / total_words_in_doc\n",
    "            \n",
    "            idf = math.log(N / df_terminos[termino])\n",
    "            \n",
    "            tfidf = tf * idf\n",
    "            doc_tfidf[termino] = tfidf\n",
    "        \n",
    "        tfidf_matrix.append(doc_tfidf)\n",
    "    \n",
    "    return tfidf_matrix\n",
    "\n",
    "tfidf_matrix = calcular_tf_idf(documentos_freq, df_terminos, vocabulario)\n",
    "\n",
    "print(f\"Matriz TF-IDF calculada con {len(tfidf_matrix)} documentos\")"
   ]
  },
  {
   "cell_type": "code",
   "execution_count": 29,
   "id": "ad4b7dbc",
   "metadata": {},
   "outputs": [
    {
     "name": "stdout",
     "output_type": "stream",
     "text": [
      "terminos con mayor TF-IDF promedio:\n",
      "------------------------------------------------------------\n",
      " 1. xiaomi vend          | Promedio: 2.090858 | Docs:    1\n",
      " 2. sac call             | Promedio: 2.090858 | Docs:    1\n",
      " 3. muert johnny         | Promedio: 2.090858 | Docs:    1\n",
      " 4. veteran espan        | Promedio: 1.922823 | Docs:    2\n",
      " 5. vigil espectacul     | Promedio: 1.922823 | Docs:    2\n",
      "terminos con mayor TF-IDF máximo:\n",
      "------------------------------------------------------------\n",
      " 1. vien trabaj          | Máximo: 2.338451 | Docs:    5\n",
      " 2. xiaomi vend          | Máximo: 2.090858 | Docs:    1\n",
      " 3. sac call             | Máximo: 2.090858 | Docs:    1\n",
      " 4. muert johnny         | Máximo: 2.090858 | Docs:    1\n",
      " 5. veteran espan        | Máximo: 1.922823 | Docs:    2\n"
     ]
    }
   ],
   "source": [
    "terminos_tfidf_promedio = defaultdict(list)\n",
    "for doc in tfidf_matrix:\n",
    "    for termino, tfidf_val in doc.items():\n",
    "        terminos_tfidf_promedio[termino].append(tfidf_val)\n",
    "\n",
    "terminos_stats = {}\n",
    "for termino, valores in terminos_tfidf_promedio.items():\n",
    "    terminos_stats[termino] = {\n",
    "        'promedio': np.mean(valores),\n",
    "        'max': np.max(valores),\n",
    "        'min': np.min(valores),\n",
    "        'std': np.std(valores),\n",
    "        'docs_count': len(valores)\n",
    "    }\n",
    "\n",
    "terminos_ordenados = sorted(terminos_stats.items(), key=lambda x: x[1]['promedio'], reverse=True)\n",
    "\n",
    "print(\"terminos con mayor TF-IDF promedio:\")\n",
    "print(\"-\" * 60)\n",
    "for i, (termino, stats) in enumerate(terminos_ordenados[:5]):\n",
    "    print(f\"{i+1:2d}. {termino:<20} | Promedio: {stats['promedio']:.6f} | Docs: {stats['docs_count']:4d}\")\n",
    "\n",
    "print(f\"terminos con mayor TF-IDF máximo:\")\n",
    "print(\"-\" * 60)\n",
    "terminos_max = sorted(terminos_stats.items(), key=lambda x: x[1]['max'], reverse=True)\n",
    "for i, (termino, stats) in enumerate(terminos_max[:5]):\n",
    "    print(f\"{i+1:2d}. {termino:<20} | Máximo: {stats['max']:.6f} | Docs: {stats['docs_count']:4d}\")"
   ]
  },
  {
   "cell_type": "code",
   "execution_count": 30,
   "id": "4bd1df60",
   "metadata": {},
   "outputs": [
    {
     "name": "stdout",
     "output_type": "stream",
     "text": [
      "Número total de entradas término-documento: 772685\n",
      "TF-IDF promedio: 0.042972\n",
      "TF-IDF máximo: 2.338451\n",
      "TF-IDF mínimo: 0.000004\n"
     ]
    },
    {
     "data": {
      "text/html": [
       "<div>\n",
       "<style scoped>\n",
       "    .dataframe tbody tr th:only-of-type {\n",
       "        vertical-align: middle;\n",
       "    }\n",
       "\n",
       "    .dataframe tbody tr th {\n",
       "        vertical-align: top;\n",
       "    }\n",
       "\n",
       "    .dataframe thead th {\n",
       "        text-align: right;\n",
       "    }\n",
       "</style>\n",
       "<table border=\"1\" class=\"dataframe\">\n",
       "  <thead>\n",
       "    <tr style=\"text-align: right;\">\n",
       "      <th></th>\n",
       "      <th>termino</th>\n",
       "      <th>tfidf</th>\n",
       "    </tr>\n",
       "  </thead>\n",
       "  <tbody>\n",
       "    <tr>\n",
       "      <th>0</th>\n",
       "      <td>rued</td>\n",
       "      <td>0.392941</td>\n",
       "    </tr>\n",
       "    <tr>\n",
       "      <th>1</th>\n",
       "      <td>prens</td>\n",
       "      <td>0.224112</td>\n",
       "    </tr>\n",
       "    <tr>\n",
       "      <th>2</th>\n",
       "      <td>familiar</td>\n",
       "      <td>0.120216</td>\n",
       "    </tr>\n",
       "    <tr>\n",
       "      <th>3</th>\n",
       "      <td>robinson</td>\n",
       "      <td>0.708316</td>\n",
       "    </tr>\n",
       "    <tr>\n",
       "      <th>4</th>\n",
       "      <td>hic</td>\n",
       "      <td>0.171782</td>\n",
       "    </tr>\n",
       "    <tr>\n",
       "      <th>...</th>\n",
       "      <td>...</td>\n",
       "      <td>...</td>\n",
       "    </tr>\n",
       "    <tr>\n",
       "      <th>772680</th>\n",
       "      <td>cuatr pat</td>\n",
       "      <td>0.006659</td>\n",
       "    </tr>\n",
       "    <tr>\n",
       "      <th>772681</th>\n",
       "      <td>pat ano</td>\n",
       "      <td>0.021514</td>\n",
       "    </tr>\n",
       "    <tr>\n",
       "      <th>772682</th>\n",
       "      <td>ano apunt</td>\n",
       "      <td>0.001537</td>\n",
       "    </tr>\n",
       "    <tr>\n",
       "      <th>772683</th>\n",
       "      <td>apunt haci</td>\n",
       "      <td>0.001542</td>\n",
       "    </tr>\n",
       "    <tr>\n",
       "      <th>772684</th>\n",
       "      <td>haci sol</td>\n",
       "      <td>0.012333</td>\n",
       "    </tr>\n",
       "  </tbody>\n",
       "</table>\n",
       "<p>772685 rows × 2 columns</p>\n",
       "</div>"
      ],
      "text/plain": [
       "           termino     tfidf\n",
       "0             rued  0.392941\n",
       "1            prens  0.224112\n",
       "2         familiar  0.120216\n",
       "3         robinson  0.708316\n",
       "4              hic  0.171782\n",
       "...            ...       ...\n",
       "772680   cuatr pat  0.006659\n",
       "772681     pat ano  0.021514\n",
       "772682   ano apunt  0.001537\n",
       "772683  apunt haci  0.001542\n",
       "772684    haci sol  0.012333\n",
       "\n",
       "[772685 rows x 2 columns]"
      ]
     },
     "execution_count": 30,
     "metadata": {},
     "output_type": "execute_result"
    }
   ],
   "source": [
    "tfidf_data = []\n",
    "for i, doc_tfidf in enumerate(tfidf_matrix):\n",
    "    for termino, tfidf_val in doc_tfidf.items():\n",
    "        tfidf_data.append({\n",
    "            'termino': termino,\n",
    "            'tfidf': tfidf_val,\n",
    "        })\n",
    "\n",
    "df_tfidf = pd.DataFrame(tfidf_data)\n",
    "\n",
    "print(f\"Número total de entradas término-documento: {len(df_tfidf)}\")\n",
    "print(f\"TF-IDF promedio: {df_tfidf['tfidf'].mean():.6f}\")\n",
    "print(f\"TF-IDF máximo: {df_tfidf['tfidf'].max():.6f}\")\n",
    "print(f\"TF-IDF mínimo: {df_tfidf['tfidf'].min():.6f}\")\n",
    "\n",
    "df_tfidf"
   ]
  }
 ],
 "metadata": {
  "language_info": {
   "name": "python"
  }
 },
 "nbformat": 4,
 "nbformat_minor": 5
}

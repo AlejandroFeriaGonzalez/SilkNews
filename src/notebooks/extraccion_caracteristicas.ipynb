{
 "cells": [
  {
   "cell_type": "code",
   "execution_count": 14,
   "id": "abaa5490",
   "metadata": {},
   "outputs": [
    {
     "data": {
      "text/plain": [
       "WindowsPath('C:/Users/Alejandro Feria/Desktop/Unal/8 semestre/pnl/SilkNews')"
      ]
     },
     "execution_count": 14,
     "metadata": {},
     "output_type": "execute_result"
    }
   ],
   "source": [
    "import pathlib\n",
    "\n",
    "import pandas as pd\n",
    "import spacy\n",
    "from nltk.stem import SnowballStemmer\n",
    "from sklearn.feature_extraction.text import CountVectorizer\n",
    "\n",
    "BASE_DIR = pathlib.Path.cwd().parent.parent.resolve()\n",
    "BASE_DIR"
   ]
  },
  {
   "cell_type": "markdown",
   "id": "826bf289",
   "metadata": {},
   "source": [
    "### Cargar dataset"
   ]
  },
  {
   "cell_type": "code",
   "execution_count": 15,
   "id": "d6cab4ca",
   "metadata": {},
   "outputs": [
    {
     "name": "stdout",
     "output_type": "stream",
     "text": [
      "(5568, 2)\n",
      "(5568, 2)\n"
     ]
    },
    {
     "data": {
      "application/vnd.microsoft.datawrangler.viewer.v0+json": {
       "columns": [
        {
         "name": "index",
         "rawType": "int64",
         "type": "integer"
        },
        {
         "name": "text",
         "rawType": "object",
         "type": "string"
        },
        {
         "name": "label",
         "rawType": "bool",
         "type": "boolean"
        }
       ],
       "ref": "2751f14c-6abb-4ca8-bdbe-c4469639ae9b",
       "rows": [
        [
         "0",
         "en una rueda de prensa las autoridades dijeron que los familiares de robinson hicieron lo correcto y lo pusieron a disposicion de las fuerzas del orden",
         "True"
        ],
        [
         "1",
         "una operacion en la que las autoridades irlandesas decomisaron mas de dos toneladas de cocaina expuso la ruta que los narcotraficantes estan utilizando para enviar droga a europa",
         "True"
        ],
        [
         "2",
         "el nuevo informe se basa en mas de entrevistas con personas que escaparon de corea del norte en los ultimos anos",
         "True"
        ],
        [
         "3",
         "las pruebas hechas a varias de las principales marcas arrojaron resultados preocupantes",
         "True"
        ],
        [
         "4",
         "michelle y john wylie estuvieron buscando durante anos a un misterioso hombre alto con un traje azul",
         "True"
        ]
       ],
       "shape": {
        "columns": 2,
        "rows": 5
       }
      },
      "text/html": [
       "<div>\n",
       "<style scoped>\n",
       "    .dataframe tbody tr th:only-of-type {\n",
       "        vertical-align: middle;\n",
       "    }\n",
       "\n",
       "    .dataframe tbody tr th {\n",
       "        vertical-align: top;\n",
       "    }\n",
       "\n",
       "    .dataframe thead th {\n",
       "        text-align: right;\n",
       "    }\n",
       "</style>\n",
       "<table border=\"1\" class=\"dataframe\">\n",
       "  <thead>\n",
       "    <tr style=\"text-align: right;\">\n",
       "      <th></th>\n",
       "      <th>text</th>\n",
       "      <th>label</th>\n",
       "    </tr>\n",
       "  </thead>\n",
       "  <tbody>\n",
       "    <tr>\n",
       "      <th>0</th>\n",
       "      <td>en una rueda de prensa las autoridades dijeron...</td>\n",
       "      <td>True</td>\n",
       "    </tr>\n",
       "    <tr>\n",
       "      <th>1</th>\n",
       "      <td>una operacion en la que las autoridades irland...</td>\n",
       "      <td>True</td>\n",
       "    </tr>\n",
       "    <tr>\n",
       "      <th>2</th>\n",
       "      <td>el nuevo informe se basa en mas de entrevistas...</td>\n",
       "      <td>True</td>\n",
       "    </tr>\n",
       "    <tr>\n",
       "      <th>3</th>\n",
       "      <td>las pruebas hechas a varias de las principales...</td>\n",
       "      <td>True</td>\n",
       "    </tr>\n",
       "    <tr>\n",
       "      <th>4</th>\n",
       "      <td>michelle y john wylie estuvieron buscando dura...</td>\n",
       "      <td>True</td>\n",
       "    </tr>\n",
       "  </tbody>\n",
       "</table>\n",
       "</div>"
      ],
      "text/plain": [
       "                                                text  label\n",
       "0  en una rueda de prensa las autoridades dijeron...   True\n",
       "1  una operacion en la que las autoridades irland...   True\n",
       "2  el nuevo informe se basa en mas de entrevistas...   True\n",
       "3  las pruebas hechas a varias de las principales...   True\n",
       "4  michelle y john wylie estuvieron buscando dura...   True"
      ]
     },
     "execution_count": 15,
     "metadata": {},
     "output_type": "execute_result"
    }
   ],
   "source": [
    "clean_df = pd.read_csv(f\"{BASE_DIR}/src/data/clean_data/noticias_combinadas.csv\")\n",
    "clean_df['text'] = clean_df['text'].astype(str)\n",
    "print(clean_df.shape)\n",
    "\n",
    "df = clean_df\n",
    "print(df.shape)\n",
    "\n",
    "df.head()"
   ]
  },
  {
   "cell_type": "code",
   "execution_count": 16,
   "id": "0f15c438",
   "metadata": {},
   "outputs": [
    {
     "data": {
      "text/plain": [
       "<spacy.lang.es.Spanish at 0x26430bf0cd0>"
      ]
     },
     "execution_count": 16,
     "metadata": {},
     "output_type": "execute_result"
    }
   ],
   "source": [
    "# uv run --with pip spacy download es_core_news_sm\n",
    "nlp = spacy.load(\"es_core_news_sm\")\n",
    "nlp"
   ]
  },
  {
   "cell_type": "markdown",
   "id": "3d076cfd",
   "metadata": {},
   "source": [
    "## tokenizar y aplicar stemming"
   ]
  },
  {
   "cell_type": "code",
   "execution_count": 17,
   "id": "b5c60198",
   "metadata": {},
   "outputs": [],
   "source": [
    "stemmer = SnowballStemmer('spanish')\n",
    "def tokenize(text: str) -> list[str]:\n",
    "  return \" \".join([stemmer.stem(token.text) for token in nlp(text) if not token.is_punct and not token.is_space])\n",
    "\n",
    "df[\"texto_limpio\"] = df[\"text\"].apply(tokenize)"
   ]
  },
  {
   "cell_type": "code",
   "execution_count": 18,
   "id": "95a50232",
   "metadata": {},
   "outputs": [
    {
     "data": {
      "application/vnd.microsoft.datawrangler.viewer.v0+json": {
       "columns": [
        {
         "name": "index",
         "rawType": "int64",
         "type": "integer"
        },
        {
         "name": "text",
         "rawType": "object",
         "type": "string"
        },
        {
         "name": "label",
         "rawType": "bool",
         "type": "boolean"
        },
        {
         "name": "texto_limpio",
         "rawType": "object",
         "type": "string"
        }
       ],
       "ref": "5f3d8737-0e52-4d6a-86a6-33fefcc6ed44",
       "rows": [
        [
         "0",
         "en una rueda de prensa las autoridades dijeron que los familiares de robinson hicieron lo correcto y lo pusieron a disposicion de las fuerzas del orden",
         "True",
         "en una rued de prens las autor dijeron que los familiar de robinson hic lo correct y lo pus a disposicion de las fuerz del orden"
        ],
        [
         "1",
         "una operacion en la que las autoridades irlandesas decomisaron mas de dos toneladas de cocaina expuso la ruta que los narcotraficantes estan utilizando para enviar droga a europa",
         "True",
         "una oper en la que las autor irlandes decomis mas de dos tonel de cocain expus la rut que los narcotraf estan utiliz par envi drog a europ"
        ],
        [
         "2",
         "el nuevo informe se basa en mas de entrevistas con personas que escaparon de corea del norte en los ultimos anos",
         "True",
         "el nuev inform se bas en mas de entrev con person que escap de core del nort en los ultim anos"
        ],
        [
         "3",
         "las pruebas hechas a varias de las principales marcas arrojaron resultados preocupantes",
         "True",
         "las prueb hech a vari de las principal marc arroj result preocup"
        ],
        [
         "4",
         "michelle y john wylie estuvieron buscando durante anos a un misterioso hombre alto con un traje azul",
         "True",
         "michell y john wyli estuv busc durant anos a un misteri hombr alto con un traj azul"
        ]
       ],
       "shape": {
        "columns": 3,
        "rows": 5
       }
      },
      "text/html": [
       "<div>\n",
       "<style scoped>\n",
       "    .dataframe tbody tr th:only-of-type {\n",
       "        vertical-align: middle;\n",
       "    }\n",
       "\n",
       "    .dataframe tbody tr th {\n",
       "        vertical-align: top;\n",
       "    }\n",
       "\n",
       "    .dataframe thead th {\n",
       "        text-align: right;\n",
       "    }\n",
       "</style>\n",
       "<table border=\"1\" class=\"dataframe\">\n",
       "  <thead>\n",
       "    <tr style=\"text-align: right;\">\n",
       "      <th></th>\n",
       "      <th>text</th>\n",
       "      <th>label</th>\n",
       "      <th>texto_limpio</th>\n",
       "    </tr>\n",
       "  </thead>\n",
       "  <tbody>\n",
       "    <tr>\n",
       "      <th>0</th>\n",
       "      <td>en una rueda de prensa las autoridades dijeron...</td>\n",
       "      <td>True</td>\n",
       "      <td>en una rued de prens las autor dijeron que los...</td>\n",
       "    </tr>\n",
       "    <tr>\n",
       "      <th>1</th>\n",
       "      <td>una operacion en la que las autoridades irland...</td>\n",
       "      <td>True</td>\n",
       "      <td>una oper en la que las autor irlandes decomis ...</td>\n",
       "    </tr>\n",
       "    <tr>\n",
       "      <th>2</th>\n",
       "      <td>el nuevo informe se basa en mas de entrevistas...</td>\n",
       "      <td>True</td>\n",
       "      <td>el nuev inform se bas en mas de entrev con per...</td>\n",
       "    </tr>\n",
       "    <tr>\n",
       "      <th>3</th>\n",
       "      <td>las pruebas hechas a varias de las principales...</td>\n",
       "      <td>True</td>\n",
       "      <td>las prueb hech a vari de las principal marc ar...</td>\n",
       "    </tr>\n",
       "    <tr>\n",
       "      <th>4</th>\n",
       "      <td>michelle y john wylie estuvieron buscando dura...</td>\n",
       "      <td>True</td>\n",
       "      <td>michell y john wyli estuv busc durant anos a u...</td>\n",
       "    </tr>\n",
       "  </tbody>\n",
       "</table>\n",
       "</div>"
      ],
      "text/plain": [
       "                                                text  label  \\\n",
       "0  en una rueda de prensa las autoridades dijeron...   True   \n",
       "1  una operacion en la que las autoridades irland...   True   \n",
       "2  el nuevo informe se basa en mas de entrevistas...   True   \n",
       "3  las pruebas hechas a varias de las principales...   True   \n",
       "4  michelle y john wylie estuvieron buscando dura...   True   \n",
       "\n",
       "                                        texto_limpio  \n",
       "0  en una rued de prens las autor dijeron que los...  \n",
       "1  una oper en la que las autor irlandes decomis ...  \n",
       "2  el nuev inform se bas en mas de entrev con per...  \n",
       "3  las prueb hech a vari de las principal marc ar...  \n",
       "4  michell y john wyli estuv busc durant anos a u...  "
      ]
     },
     "execution_count": 18,
     "metadata": {},
     "output_type": "execute_result"
    }
   ],
   "source": [
    "df.head()"
   ]
  },
  {
   "cell_type": "code",
   "execution_count": 19,
   "id": "bdada905",
   "metadata": {},
   "outputs": [],
   "source": [
    "# Bolsa de Palabras, unigramas y bigramas\n",
    "def bag_of_words_sin_stopwords(texto_limpio: str) -> list[str]:\n",
    "  vectorizer = CountVectorizer(ngram_range=(1, 2), stop_words=list(nlp.Defaults.stop_words))\n",
    "  vectorizer.fit_transform([texto_limpio])\n",
    "  return vectorizer.vocabulary_\n",
    "\n",
    "def bag_of_words_frecuencia(texto_limpio: str) -> list[str]:\n",
    "    vectorizer = CountVectorizer(ngram_range=(1, 2), stop_words=list(nlp.Defaults.stop_words))\n",
    "    vectorizer.fit_transform([texto_limpio])\n",
    "\n",
    "    vocabulario_eliminacion_frecuencia = {}\n",
    "    # Filtrar el vocabulario para eliminar palabras con frecuencia < 3\n",
    "    for palabra, indice in vectorizer.vocabulary_.items():\n",
    "        if vectorizer.vocabulary_[palabra] >= 3:\n",
    "            vocabulario_eliminacion_frecuencia[palabra] = indice\n",
    "\n",
    "    return vocabulario_eliminacion_frecuencia\n",
    "\n",
    "df[\"sin_stopwords\"] = df[\"texto_limpio\"].apply(bag_of_words_sin_stopwords)\n",
    "df[\"frecuencia<3\"] = df[\"texto_limpio\"].apply(bag_of_words_frecuencia)"
   ]
  },
  {
   "cell_type": "code",
   "execution_count": 20,
   "id": "9b87637f",
   "metadata": {},
   "outputs": [
    {
     "data": {
      "application/vnd.microsoft.datawrangler.viewer.v0+json": {
       "columns": [
        {
         "name": "index",
         "rawType": "int64",
         "type": "integer"
        },
        {
         "name": "text",
         "rawType": "object",
         "type": "string"
        },
        {
         "name": "label",
         "rawType": "bool",
         "type": "boolean"
        },
        {
         "name": "texto_limpio",
         "rawType": "object",
         "type": "string"
        },
        {
         "name": "sin_stopwords",
         "rawType": "object",
         "type": "unknown"
        },
        {
         "name": "frecuencia<3",
         "rawType": "object",
         "type": "unknown"
        }
       ],
       "ref": "ffadf31f-1f37-4dec-80c7-cb855e2f7148",
       "rows": [
        [
         "0",
         "en una rueda de prensa las autoridades dijeron que los familiares de robinson hicieron lo correcto y lo pusieron a disposicion de las fuerzas del orden",
         "True",
         "en una rued de prens las autor dijeron que los familiar de robinson hic lo correct y lo pus a disposicion de las fuerz del orden",
         "{'rued': 19, 'prens': 13, 'autor': 0, 'familiar': 6, 'robinson': 17, 'hic': 10, 'correct': 2, 'pus': 15, 'disposicion': 4, 'fuerz': 8, 'orden': 12, 'rued prens': 20, 'prens autor': 14, 'autor familiar': 1, 'familiar robinson': 7, 'robinson hic': 18, 'hic correct': 11, 'correct pus': 3, 'pus disposicion': 16, 'disposicion fuerz': 5, 'fuerz orden': 9}",
         "{'rued': 19, 'prens': 13, 'familiar': 6, 'robinson': 17, 'hic': 10, 'pus': 15, 'disposicion': 4, 'fuerz': 8, 'orden': 12, 'rued prens': 20, 'prens autor': 14, 'familiar robinson': 7, 'robinson hic': 18, 'hic correct': 11, 'correct pus': 3, 'pus disposicion': 16, 'disposicion fuerz': 5, 'fuerz orden': 9}"
        ],
        [
         "1",
         "una operacion en la que las autoridades irlandesas decomisaron mas de dos toneladas de cocaina expuso la ruta que los narcotraficantes estan utilizando para enviar droga a europa",
         "True",
         "una oper en la que las autor irlandes decomis mas de dos tonel de cocain expus la rut que los narcotraf estan utiliz par envi drog a europ",
         "{'oper': 17, 'autor': 0, 'irlandes': 13, 'decomis': 4, 'tonel': 23, 'cocain': 2, 'expus': 11, 'rut': 21, 'narcotraf': 15, 'utiliz': 25, 'par': 19, 'envi': 8, 'drog': 6, 'europ': 10, 'oper autor': 18, 'autor irlandes': 1, 'irlandes decomis': 14, 'decomis tonel': 5, 'tonel cocain': 24, 'cocain expus': 3, 'expus rut': 12, 'rut narcotraf': 22, 'narcotraf utiliz': 16, 'utiliz par': 26, 'par envi': 20, 'envi drog': 9, 'drog europ': 7}",
         "{'oper': 17, 'irlandes': 13, 'decomis': 4, 'tonel': 23, 'expus': 11, 'rut': 21, 'narcotraf': 15, 'utiliz': 25, 'par': 19, 'envi': 8, 'drog': 6, 'europ': 10, 'oper autor': 18, 'irlandes decomis': 14, 'decomis tonel': 5, 'tonel cocain': 24, 'cocain expus': 3, 'expus rut': 12, 'rut narcotraf': 22, 'narcotraf utiliz': 16, 'utiliz par': 26, 'par envi': 20, 'envi drog': 9, 'drog europ': 7}"
        ],
        [
         "2",
         "el nuevo informe se basa en mas de entrevistas con personas que escaparon de corea del norte en los ultimos anos",
         "True",
         "el nuev inform se bas en mas de entrev con person que escap de core del nort en los ultim anos",
         "{'nuev': 13, 'inform': 9, 'bas': 1, 'entrev': 5, 'person': 15, 'escap': 7, 'core': 3, 'nort': 11, 'ultim': 17, 'anos': 0, 'nuev inform': 14, 'inform bas': 10, 'bas entrev': 2, 'entrev person': 6, 'person escap': 16, 'escap core': 8, 'core nort': 4, 'nort ultim': 12, 'ultim anos': 18}",
         "{'nuev': 13, 'inform': 9, 'entrev': 5, 'person': 15, 'escap': 7, 'core': 3, 'nort': 11, 'ultim': 17, 'nuev inform': 14, 'inform bas': 10, 'entrev person': 6, 'person escap': 16, 'escap core': 8, 'core nort': 4, 'nort ultim': 12, 'ultim anos': 18}"
        ],
        [
         "3",
         "las pruebas hechas a varias de las principales marcas arrojaron resultados preocupantes",
         "True",
         "las prueb hech a vari de las principal marc arroj result preocup",
         "{'prueb': 9, 'hech': 2, 'vari': 13, 'principal': 7, 'marc': 4, 'arroj': 0, 'result': 11, 'preocup': 6, 'prueb hech': 10, 'hech vari': 3, 'vari principal': 14, 'principal marc': 8, 'marc arroj': 5, 'arroj result': 1, 'result preocup': 12}",
         "{'prueb': 9, 'vari': 13, 'principal': 7, 'marc': 4, 'result': 11, 'preocup': 6, 'prueb hech': 10, 'hech vari': 3, 'vari principal': 14, 'principal marc': 8, 'marc arroj': 5, 'result preocup': 12}"
        ],
        [
         "4",
         "michelle y john wylie estuvieron buscando durante anos a un misterioso hombre alto con un traje azul",
         "True",
         "michell y john wyli estuv busc durant anos a un misteri hombr alto con un traj azul",
         "{'michell': 15, 'john': 13, 'wyli': 21, 'estuv': 9, 'busc': 5, 'durant': 7, 'anos': 2, 'misteri': 17, 'hombr': 11, 'alto': 0, 'traj': 19, 'azul': 4, 'michell john': 16, 'john wyli': 14, 'wyli estuv': 22, 'estuv busc': 10, 'busc durant': 6, 'durant anos': 8, 'anos misteri': 3, 'misteri hombr': 18, 'hombr alto': 12, 'alto traj': 1, 'traj azul': 20}",
         "{'michell': 15, 'john': 13, 'wyli': 21, 'estuv': 9, 'busc': 5, 'durant': 7, 'misteri': 17, 'hombr': 11, 'traj': 19, 'azul': 4, 'michell john': 16, 'john wyli': 14, 'wyli estuv': 22, 'estuv busc': 10, 'busc durant': 6, 'durant anos': 8, 'anos misteri': 3, 'misteri hombr': 18, 'hombr alto': 12, 'traj azul': 20}"
        ],
        [
         "5",
         "el dr refaat alathamna y su familia fueron desplazados veces en los ultimos meses el medico pide al gobierno de bolivia que los saque del infierno de gaza",
         "True",
         "el dr refaat alathamn y su famili fueron desplaz vec en los ultim mes el medic pid al gobiern de bolivi que los saqu del infiern de gaz",
         "{'dr': 6, 'refaat': 21, 'alathamn': 0, 'famili': 8, 'desplaz': 4, 'vec': 27, 'ultim': 25, 'mes': 17, 'medic': 15, 'pid': 19, 'gobiern': 11, 'bolivi': 2, 'saqu': 23, 'infiern': 13, 'gaz': 10, 'dr refaat': 7, 'refaat alathamn': 22, 'alathamn famili': 1, 'famili desplaz': 9, 'desplaz vec': 5, 'vec ultim': 28, 'ultim mes': 26, 'mes medic': 18, 'medic pid': 16, 'pid gobiern': 20, 'gobiern bolivi': 12, 'bolivi saqu': 3, 'saqu infiern': 24, 'infiern gaz': 14}",
         "{'dr': 6, 'refaat': 21, 'famili': 8, 'desplaz': 4, 'vec': 27, 'ultim': 25, 'mes': 17, 'medic': 15, 'pid': 19, 'gobiern': 11, 'saqu': 23, 'infiern': 13, 'gaz': 10, 'dr refaat': 7, 'refaat alathamn': 22, 'famili desplaz': 9, 'desplaz vec': 5, 'vec ultim': 28, 'ultim mes': 26, 'mes medic': 18, 'medic pid': 16, 'pid gobiern': 20, 'gobiern bolivi': 12, 'bolivi saqu': 3, 'saqu infiern': 24, 'infiern gaz': 14}"
        ],
        [
         "6",
         "el supremo brasileno castiga a bolsonaro con anos de prision por intento de golpe de estado y otros cuatro delitos una decision historica que puede tener varios efectos",
         "True",
         "el suprem brasilen castig a bolsonar con anos de prision por intent de golp de estad y otros cuatr delit una decision histor que pued ten vari efect",
         "{'suprem': 27, 'brasilen': 4, 'castig': 6, 'bolsonar': 2, 'anos': 0, 'prision': 23, 'intent': 21, 'golp': 17, 'estad': 15, 'cuatr': 8, 'delit': 12, 'decision': 10, 'histor': 19, 'pued': 25, 'ten': 29, 'vari': 31, 'efect': 14, 'suprem brasilen': 28, 'brasilen castig': 5, 'castig bolsonar': 7, 'bolsonar anos': 3, 'anos prision': 1, 'prision intent': 24, 'intent golp': 22, 'golp estad': 18, 'estad cuatr': 16, 'cuatr delit': 9, 'delit decision': 13, 'decision histor': 11, 'histor pued': 20, 'pued ten': 26, 'ten vari': 30, 'vari efect': 32}",
         "{'suprem': 27, 'brasilen': 4, 'castig': 6, 'prision': 23, 'intent': 21, 'golp': 17, 'estad': 15, 'cuatr': 8, 'delit': 12, 'decision': 10, 'histor': 19, 'pued': 25, 'ten': 29, 'vari': 31, 'efect': 14, 'suprem brasilen': 28, 'brasilen castig': 5, 'castig bolsonar': 7, 'bolsonar anos': 3, 'prision intent': 24, 'intent golp': 22, 'golp estad': 18, 'estad cuatr': 16, 'cuatr delit': 9, 'delit decision': 13, 'decision histor': 11, 'histor pued': 20, 'pued ten': 26, 'ten vari': 30, 'vari efect': 32}"
        ],
        [
         "7",
         "kirk un influyente aliado del presidente de que a los anos creo turning point usa murio de un disparo cuando estaba hablando en un evento en un campus de utah",
         "True",
         "kirk un influyent ali del president de que a los anos cre turning point usa muri de un dispar cuand estab habl en un event en un campus de utah",
         "{'kirk': 20, 'influyent': 18, 'ali': 0, 'president': 26, 'anos': 2, 'cre': 6, 'turning': 28, 'point': 24, 'muri': 22, 'dispar': 10, 'cuand': 8, 'estab': 12, 'habl': 16, 'event': 14, 'campus': 4, 'utah': 30, 'kirk influyent': 21, 'influyent ali': 19, 'ali president': 1, 'president anos': 27, 'anos cre': 3, 'cre turning': 7, 'turning point': 29, 'point muri': 25, 'muri dispar': 23, 'dispar cuand': 11, 'cuand estab': 9, 'estab habl': 13, 'habl event': 17, 'event campus': 15, 'campus utah': 5}",
         "{'kirk': 20, 'influyent': 18, 'president': 26, 'cre': 6, 'turning': 28, 'point': 24, 'muri': 22, 'dispar': 10, 'cuand': 8, 'estab': 12, 'habl': 16, 'event': 14, 'campus': 4, 'utah': 30, 'kirk influyent': 21, 'influyent ali': 19, 'president anos': 27, 'anos cre': 3, 'cre turning': 7, 'turning point': 29, 'point muri': 25, 'muri dispar': 23, 'dispar cuand': 11, 'cuand estab': 9, 'estab habl': 13, 'habl event': 17, 'event campus': 15, 'campus utah': 5}"
        ],
        [
         "8",
         "el estado de nuestros pulmones puede revelar mucho sobre nuestra salud en general por suerte es posible tambien mejorarlo",
         "True",
         "el estad de nuestr pulmon pued revel much sobr nuestr salud en general por suert es posibl tambi mejor",
         "{'estad': 0, 'nuestr': 6, 'pulmon': 13, 'pued': 11, 'revel': 15, 'much': 4, 'sobr': 19, 'salud': 17, 'general': 2, 'suert': 21, 'posibl': 9, 'tambi': 23, 'estad nuestr': 1, 'nuestr pulmon': 7, 'pulmon pued': 14, 'pued revel': 12, 'revel much': 16, 'much sobr': 5, 'sobr nuestr': 20, 'nuestr salud': 8, 'salud general': 18, 'general suert': 3, 'suert posibl': 22, 'posibl tambi': 10}",
         "{'nuestr': 6, 'pulmon': 13, 'pued': 11, 'revel': 15, 'much': 4, 'sobr': 19, 'salud': 17, 'suert': 21, 'posibl': 9, 'tambi': 23, 'nuestr pulmon': 7, 'pulmon pued': 14, 'pued revel': 12, 'revel much': 16, 'much sobr': 5, 'sobr nuestr': 20, 'nuestr salud': 8, 'salud general': 18, 'general suert': 3, 'suert posibl': 22, 'posibl tambi': 10}"
        ],
        [
         "9",
         "a principios de este mes a los ciudadanos chinos que trabajaban con la nasa de repente se les nego el acceso a todos los sistemas de la agencia federal",
         "True",
         "a principi de este mes a los ciudadan chin que trabaj con la nas de repent se les neg el acces a tod los sistem de la agenci federal",
         "{'principi': 15, 'mes': 9, 'ciudadan': 6, 'chin': 4, 'trabaj': 23, 'nas': 11, 'repent': 17, 'neg': 13, 'acces': 0, 'tod': 21, 'sistem': 19, 'agenci': 2, 'federal': 8, 'principi mes': 16, 'mes ciudadan': 10, 'ciudadan chin': 7, 'chin trabaj': 5, 'trabaj nas': 24, 'nas repent': 12, 'repent neg': 18, 'neg acces': 14, 'acces tod': 1, 'tod sistem': 22, 'sistem agenci': 20, 'agenci federal': 3}",
         "{'principi': 15, 'mes': 9, 'ciudadan': 6, 'chin': 4, 'trabaj': 23, 'nas': 11, 'repent': 17, 'neg': 13, 'tod': 21, 'sistem': 19, 'federal': 8, 'principi mes': 16, 'mes ciudadan': 10, 'ciudadan chin': 7, 'chin trabaj': 5, 'trabaj nas': 24, 'nas repent': 12, 'repent neg': 18, 'neg acces': 14, 'tod sistem': 22, 'sistem agenci': 20, 'agenci federal': 3}"
        ],
        [
         "10",
         "nan",
         "True",
         "nan",
         "{'nan': 0}",
         "{}"
        ],
        [
         "11",
         "nan",
         "True",
         "nan",
         "{'nan': 0}",
         "{}"
        ],
        [
         "12",
         "nan",
         "True",
         "nan",
         "{'nan': 0}",
         "{}"
        ],
        [
         "13",
         "nan",
         "True",
         "nan",
         "{'nan': 0}",
         "{}"
        ],
        [
         "14",
         "nan",
         "True",
         "nan",
         "{'nan': 0}",
         "{}"
        ],
        [
         "15",
         "las razones del suceso siguen sin aclararse pero las autoridades lanzaron una gran operacion para dar con el responsable del crimen",
         "True",
         "las razon del suces sig sin aclar per las autor lanz una gran oper par dar con el respons del crim",
         "{'razon': 13, 'suces': 19, 'sig': 17, 'aclar': 0, 'per': 11, 'autor': 2, 'lanz': 5, 'oper': 7, 'par': 9, 'respons': 15, 'crim': 4, 'razon suces': 14, 'suces sig': 20, 'sig aclar': 18, 'aclar per': 1, 'per autor': 12, 'autor lanz': 3, 'lanz oper': 6, 'oper par': 8, 'par respons': 10, 'respons crim': 16}",
         "{'razon': 13, 'suces': 19, 'sig': 17, 'per': 11, 'lanz': 5, 'oper': 7, 'par': 9, 'respons': 15, 'crim': 4, 'razon suces': 14, 'suces sig': 20, 'sig aclar': 18, 'per autor': 12, 'autor lanz': 3, 'lanz oper': 6, 'oper par': 8, 'par respons': 10, 'respons crim': 16}"
        ],
        [
         "16",
         "el asesinato de charlie kirk es otro episodio de violencia armada en ese pais y el ultimo de una serie de recientes episodios de violencia politica",
         "True",
         "el asesinat de charli kirk es otro episodi de violenci armad en ese pais y el ultim de una seri de recient episodi de violenci polit",
         "{'asesinat': 2, 'charli': 4, 'kirk': 8, 'episodi': 6, 'violenci': 19, 'armad': 0, 'pais': 10, 'ultim': 17, 'seri': 15, 'recient': 13, 'polit': 12, 'asesinat charli': 3, 'charli kirk': 5, 'kirk episodi': 9, 'episodi violenci': 7, 'violenci armad': 20, 'armad pais': 1, 'pais ultim': 11, 'ultim seri': 18, 'seri recient': 16, 'recient episodi': 14, 'violenci polit': 21}",
         "{'charli': 4, 'kirk': 8, 'episodi': 6, 'violenci': 19, 'pais': 10, 'ultim': 17, 'seri': 15, 'recient': 13, 'polit': 12, 'asesinat charli': 3, 'charli kirk': 5, 'kirk episodi': 9, 'episodi violenci': 7, 'violenci armad': 20, 'pais ultim': 11, 'ultim seri': 18, 'seri recient': 16, 'recient episodi': 14, 'violenci polit': 21}"
        ],
        [
         "17",
         "la fortuna del cofundador de oracle ha superado a la de musk impulsada por el auge de la inteligencia artificial",
         "True",
         "la fortun del cofund de oracl ha super a la de musk impuls por el aug de la inteligent artificial",
         "{'fortun': 5, 'cofund': 3, 'oracl': 13, 'super': 15, 'musk': 11, 'impuls': 7, 'aug': 1, 'inteligent': 9, 'artificial': 0, 'fortun cofund': 6, 'cofund oracl': 4, 'oracl super': 14, 'super musk': 16, 'musk impuls': 12, 'impuls aug': 8, 'aug inteligent': 2, 'inteligent artificial': 10}",
         "{'fortun': 5, 'cofund': 3, 'oracl': 13, 'super': 15, 'musk': 11, 'impuls': 7, 'inteligent': 9, 'fortun cofund': 6, 'cofund oracl': 4, 'oracl super': 14, 'super musk': 16, 'musk impuls': 12, 'impuls aug': 8, 'inteligent artificial': 10}"
        ],
        [
         "18",
         "expertos consultados por bbc mundo desentranan los origenes y la estructura de esta organizacion designada como terrorista por estados unidos y otros paises de america",
         "True",
         "expert consult por bbc mund desentran los origen y la estructur de esta organiz design com terror por estad unid y otros pais de amer",
         "{'expert': 15, 'consult': 5, 'bbc': 1, 'mund': 17, 'desentran': 7, 'origen': 21, 'estructur': 13, 'organiz': 19, 'design': 9, 'com': 3, 'terror': 25, 'estad': 11, 'unid': 27, 'pais': 23, 'amer': 0, 'expert consult': 16, 'consult bbc': 6, 'bbc mund': 2, 'mund desentran': 18, 'desentran origen': 8, 'origen estructur': 22, 'estructur organiz': 14, 'organiz design': 20, 'design com': 10, 'com terror': 4, 'terror estad': 26, 'estad unid': 12, 'unid pais': 28, 'pais amer': 24}",
         "{'expert': 15, 'consult': 5, 'mund': 17, 'desentran': 7, 'origen': 21, 'estructur': 13, 'organiz': 19, 'design': 9, 'com': 3, 'terror': 25, 'estad': 11, 'unid': 27, 'pais': 23, 'expert consult': 16, 'consult bbc': 6, 'mund desentran': 18, 'desentran origen': 8, 'origen estructur': 22, 'estructur organiz': 14, 'organiz design': 20, 'design com': 10, 'com terror': 4, 'terror estad': 26, 'estad unid': 12, 'unid pais': 28, 'pais amer': 24}"
        ],
        [
         "19",
         "la empresa anuncio este miercoles que recortara empleos semanas despues de advertir que sus beneficios caeran a medida que surjan mas medicamentos para bajar de peso de empresas competidoras",
         "True",
         "la empres anunci este miercol que recort emple seman despu de advert que sus benefici caer a med que surj mas medicament par baj de pes de empres competidor",
         "{'empres': 15, 'anunci': 2, 'miercol': 22, 'recort': 28, 'emple': 13, 'seman': 30, 'despu': 11, 'advert': 0, 'benefici': 6, 'caer': 8, 'med': 18, 'surj': 32, 'medicament': 20, 'par': 24, 'baj': 4, 'pes': 26, 'competidor': 10, 'empres anunci': 16, 'anunci miercol': 3, 'miercol recort': 23, 'recort emple': 29, 'emple seman': 14, 'seman despu': 31, 'despu advert': 12, 'advert benefici': 1, 'benefici caer': 7, 'caer med': 9, 'med surj': 19, 'surj medicament': 33, 'medicament par': 21, 'par baj': 25, 'baj pes': 5, 'pes empres': 27, 'empres competidor': 17}",
         "{'empres': 15, 'miercol': 22, 'recort': 28, 'emple': 13, 'seman': 30, 'despu': 11, 'benefici': 6, 'caer': 8, 'med': 18, 'surj': 32, 'medicament': 20, 'par': 24, 'baj': 4, 'pes': 26, 'competidor': 10, 'empres anunci': 16, 'anunci miercol': 3, 'miercol recort': 23, 'recort emple': 29, 'emple seman': 14, 'seman despu': 31, 'despu advert': 12, 'benefici caer': 7, 'caer med': 9, 'med surj': 19, 'surj medicament': 33, 'medicament par': 21, 'par baj': 25, 'baj pes': 5, 'pes empres': 27, 'empres competidor': 17}"
        ],
        [
         "20",
         "casi un millon de migrantes cruzaron por la inhospita selva del darien entre y pero muchos pagaron el precio mas alto ahora panama trata de identificar a algunas de las victimas de la travesia",
         "True",
         "casi un millon de migrant cruz por la inhospit selv del dari entre y per much pag el preci mas alto ahor panam trat de identific a algun de las victim de la travesi",
         "{'millon': 16, 'migrant': 14, 'cruz': 6, 'inhospit': 12, 'selv': 28, 'dari': 8, 'per': 24, 'much': 18, 'pag': 20, 'preci': 26, 'alto': 4, 'ahor': 0, 'panam': 22, 'trat': 30, 'identific': 10, 'algun': 2, 'victim': 33, 'travesi': 32, 'millon migrant': 17, 'migrant cruz': 15, 'cruz inhospit': 7, 'inhospit selv': 13, 'selv dari': 29, 'dari per': 9, 'per much': 25, 'much pag': 19, 'pag preci': 21, 'preci alto': 27, 'alto ahor': 5, 'ahor panam': 1, 'panam trat': 23, 'trat identific': 31, 'identific algun': 11, 'algun victim': 3, 'victim travesi': 34}",
         "{'millon': 16, 'migrant': 14, 'cruz': 6, 'inhospit': 12, 'selv': 28, 'dari': 8, 'per': 24, 'much': 18, 'pag': 20, 'preci': 26, 'alto': 4, 'panam': 22, 'trat': 30, 'identific': 10, 'victim': 33, 'travesi': 32, 'millon migrant': 17, 'migrant cruz': 15, 'cruz inhospit': 7, 'inhospit selv': 13, 'selv dari': 29, 'dari per': 9, 'per much': 25, 'much pag': 19, 'pag preci': 21, 'preci alto': 27, 'alto ahor': 5, 'panam trat': 23, 'trat identific': 31, 'identific algun': 11, 'algun victim': 3, 'victim travesi': 34}"
        ],
        [
         "21",
         "su partido la libertad avanza fue derrotado ampliamente por la oposicion peronista en los comicios para legisladores de la provincia de buenos aires",
         "True",
         "su part la libert avanz fue derrot ampli por la oposicion peron en los comici par legisl de la provinci de buen air",
         "{'part': 17, 'libert': 11, 'avanz': 3, 'derrot': 7, 'ampli': 1, 'oposicion': 13, 'peron': 19, 'comici': 5, 'par': 15, 'legisl': 9, 'provinci': 21, 'air': 0, 'part libert': 18, 'libert avanz': 12, 'avanz derrot': 4, 'derrot ampli': 8, 'ampli oposicion': 2, 'oposicion peron': 14, 'peron comici': 20, 'comici par': 6, 'par legisl': 16, 'legisl provinci': 10, 'provinci air': 22}",
         "{'part': 17, 'libert': 11, 'avanz': 3, 'derrot': 7, 'oposicion': 13, 'peron': 19, 'comici': 5, 'par': 15, 'legisl': 9, 'provinci': 21, 'part libert': 18, 'libert avanz': 12, 'avanz derrot': 4, 'derrot ampli': 8, 'oposicion peron': 14, 'peron comici': 20, 'comici par': 6, 'par legisl': 16, 'legisl provinci': 10, 'provinci air': 22}"
        ],
        [
         "22",
         "puerto rico territorio estadounidense desde es considerado un bastion estrategico por el pais norteamericano pero alli se han gestado movimientos en contra del militarismo en el pasado",
         "True",
         "puert ric territori estadounidens desd es consider un bastion estrateg por el pais norteamerican per alli se han gest movimient en contr del militar en el pas",
         "{'puert': 25, 'ric': 27, 'territori': 29, 'estadounidens': 8, 'desd': 6, 'consider': 2, 'bastion': 0, 'estrateg': 10, 'pais': 20, 'norteamerican': 18, 'per': 23, 'gest': 12, 'movimient': 16, 'contr': 4, 'militar': 14, 'pas': 22, 'puert ric': 26, 'ric territori': 28, 'territori estadounidens': 30, 'estadounidens desd': 9, 'desd consider': 7, 'consider bastion': 3, 'bastion estrateg': 1, 'estrateg pais': 11, 'pais norteamerican': 21, 'norteamerican per': 19, 'per gest': 24, 'gest movimient': 13, 'movimient contr': 17, 'contr militar': 5, 'militar pas': 15}",
         "{'puert': 25, 'ric': 27, 'territori': 29, 'estadounidens': 8, 'desd': 6, 'estrateg': 10, 'pais': 20, 'norteamerican': 18, 'per': 23, 'gest': 12, 'movimient': 16, 'contr': 4, 'militar': 14, 'pas': 22, 'puert ric': 26, 'ric territori': 28, 'territori estadounidens': 30, 'estadounidens desd': 9, 'desd consider': 7, 'consider bastion': 3, 'estrateg pais': 11, 'pais norteamerican': 21, 'norteamerican per': 19, 'per gest': 24, 'gest movimient': 13, 'movimient contr': 17, 'contr militar': 5, 'militar pas': 15}"
        ],
        [
         "23",
         "el departamento de defensa de acuso ademas a venezuela de querer interferir con sus operaciones en contra del narcoterrorismo",
         "True",
         "el departament de defens de acus adem a venezuel de quer interfer con sus oper en contr del narcoterror",
         "{'departament': 8, 'defens': 6, 'acus': 0, 'adem': 2, 'venezuel': 17, 'quer': 15, 'interfer': 10, 'oper': 13, 'contr': 4, 'narcoterror': 12, 'departament defens': 9, 'defens acus': 7, 'acus adem': 1, 'adem venezuel': 3, 'venezuel quer': 18, 'quer interfer': 16, 'interfer oper': 11, 'oper contr': 14, 'contr narcoterror': 5}",
         "{'departament': 8, 'defens': 6, 'venezuel': 17, 'quer': 15, 'interfer': 10, 'oper': 13, 'contr': 4, 'narcoterror': 12, 'departament defens': 9, 'defens acus': 7, 'adem venezuel': 3, 'venezuel quer': 18, 'quer interfer': 16, 'interfer oper': 11, 'oper contr': 14, 'contr narcoterror': 5}"
        ],
        [
         "24",
         "el entrevista con bbc mundo el presidente de guatemala aborda desde los intentos de derribar su gobierno hasta la violencia de las pandillas y las relaciones con estados unidos",
         "True",
         "el entrev con bbc mund el president de guatemal abord desd los intent de derrib su gobiern hast la violenci de las pandill y las relacion con estad unid",
         "{'entrev': 8, 'bbc': 2, 'mund': 20, 'president': 24, 'guatemal': 14, 'abord': 0, 'desd': 6, 'intent': 18, 'derrib': 4, 'gobiern': 12, 'hast': 16, 'violenci': 29, 'pandill': 22, 'relacion': 26, 'estad': 10, 'unid': 28, 'entrev bbc': 9, 'bbc mund': 3, 'mund president': 21, 'president guatemal': 25, 'guatemal abord': 15, 'abord desd': 1, 'desd intent': 7, 'intent derrib': 19, 'derrib gobiern': 5, 'gobiern hast': 13, 'hast violenci': 17, 'violenci pandill': 30, 'pandill relacion': 23, 'relacion estad': 27, 'estad unid': 11}",
         "{'entrev': 8, 'mund': 20, 'president': 24, 'guatemal': 14, 'desd': 6, 'intent': 18, 'derrib': 4, 'gobiern': 12, 'hast': 16, 'violenci': 29, 'pandill': 22, 'relacion': 26, 'estad': 10, 'unid': 28, 'entrev bbc': 9, 'bbc mund': 3, 'mund president': 21, 'president guatemal': 25, 'guatemal abord': 15, 'desd intent': 7, 'intent derrib': 19, 'derrib gobiern': 5, 'gobiern hast': 13, 'hast violenci': 17, 'violenci pandill': 30, 'pandill relacion': 23, 'relacion estad': 27, 'estad unid': 11}"
        ],
        [
         "25",
         "en un mensaje de video trump afirmo sentirse lleno de dolor e ira por el atroz asesinato de charlie kirk",
         "True",
         "en un mensaj de vide trump afirm sent llen de dolor e ira por el atroz asesinat de charli kirk",
         "{'mensaj': 15, 'vide': 21, 'trump': 19, 'afirm': 0, 'sent': 17, 'llen': 13, 'dolor': 8, 'ira': 10, 'atroz': 4, 'asesinat': 2, 'charli': 6, 'kirk': 12, 'mensaj vide': 16, 'vide trump': 22, 'trump afirm': 20, 'afirm sent': 1, 'sent llen': 18, 'llen dolor': 14, 'dolor ira': 9, 'ira atroz': 11, 'atroz asesinat': 5, 'asesinat charli': 3, 'charli kirk': 7}",
         "{'mensaj': 15, 'vide': 21, 'trump': 19, 'sent': 17, 'llen': 13, 'dolor': 8, 'ira': 10, 'atroz': 4, 'charli': 6, 'kirk': 12, 'mensaj vide': 16, 'vide trump': 22, 'trump afirm': 20, 'sent llen': 18, 'llen dolor': 14, 'dolor ira': 9, 'ira atroz': 11, 'atroz asesinat': 5, 'asesinat charli': 3, 'charli kirk': 7}"
        ],
        [
         "26",
         "el ataque de doha indica que benjamin netanyahu presionara con fuerza en todos los frentes escribe el editor internacional de la bbc jeremy bowen",
         "True",
         "el ataqu de doh indic que benjamin netanyahu presion con fuerz en tod los frent escrib el editor internacional de la bbc jeremy bow",
         "{'ataqu': 0, 'doh': 7, 'indic': 17, 'benjamin': 4, 'netanyahu': 23, 'presion': 25, 'fuerz': 15, 'tod': 27, 'frent': 13, 'escrib': 11, 'editor': 9, 'internacional': 19, 'bbc': 2, 'jeremy': 21, 'bow': 6, 'ataqu doh': 1, 'doh indic': 8, 'indic benjamin': 18, 'benjamin netanyahu': 5, 'netanyahu presion': 24, 'presion fuerz': 26, 'fuerz tod': 16, 'tod frent': 28, 'frent escrib': 14, 'escrib editor': 12, 'editor internacional': 10, 'internacional bbc': 20, 'bbc jeremy': 3, 'jeremy bow': 22}",
         "{'doh': 7, 'indic': 17, 'benjamin': 4, 'netanyahu': 23, 'presion': 25, 'fuerz': 15, 'tod': 27, 'frent': 13, 'escrib': 11, 'editor': 9, 'internacional': 19, 'jeremy': 21, 'bow': 6, 'doh indic': 8, 'indic benjamin': 18, 'benjamin netanyahu': 5, 'netanyahu presion': 24, 'presion fuerz': 26, 'fuerz tod': 16, 'tod frent': 28, 'frent escrib': 14, 'escrib editor': 12, 'editor internacional': 10, 'internacional bbc': 20, 'bbc jeremy': 3, 'jeremy bow': 22}"
        ],
        [
         "27",
         "expertos indican que la incursion de varios drones en el espacio aereo de polonia es deliberada y esta destinada a poner a prueba a la otan y occidente incluido",
         "True",
         "expert indic que la incursion de vari dron en el espaci aere de poloni es deliber y esta destin a pon a prueb a la otan y occident inclu",
         "{'expert': 10, 'indic': 15, 'incursion': 13, 'vari': 27, 'dron': 6, 'espaci': 8, 'aere': 0, 'poloni': 21, 'deliber': 2, 'destin': 4, 'pon': 23, 'prueb': 25, 'otan': 19, 'occident': 17, 'inclu': 12, 'expert indic': 11, 'indic incursion': 16, 'incursion vari': 14, 'vari dron': 28, 'dron espaci': 7, 'espaci aere': 9, 'aere poloni': 1, 'poloni deliber': 22, 'deliber destin': 3, 'destin pon': 5, 'pon prueb': 24, 'prueb otan': 26, 'otan occident': 20, 'occident inclu': 18}",
         "{'expert': 10, 'indic': 15, 'incursion': 13, 'vari': 27, 'dron': 6, 'espaci': 8, 'poloni': 21, 'destin': 4, 'pon': 23, 'prueb': 25, 'otan': 19, 'occident': 17, 'inclu': 12, 'expert indic': 11, 'indic incursion': 16, 'incursion vari': 14, 'vari dron': 28, 'dron espaci': 7, 'espaci aere': 9, 'poloni deliber': 22, 'deliber destin': 3, 'destin pon': 5, 'pon prueb': 24, 'prueb otan': 26, 'otan occident': 20, 'occident inclu': 18}"
        ],
        [
         "28",
         "la bbc descubrio evidencia convincente que indica que el influyente lider chiita libanes musa alsadr fue asesinado en libia es un misterio que para muchos en medio oriente es comparable al del asesinato de john f kennedy en",
         "True",
         "la bbc descubri evident convincent que indic que el influyent lid chiit liban mus alsadr fue asesin en libi es un misteri que par much en medi orient es compar al del asesinat de john f kennedy en",
         "{'bbc': 6, 'descubri': 14, 'evident': 16, 'convincent': 12, 'indic': 18, 'influyent': 20, 'lid': 29, 'chiit': 8, 'liban': 25, 'mus': 37, 'alsadr': 0, 'asesin': 2, 'libi': 27, 'misteri': 33, 'par': 41, 'much': 35, 'medi': 31, 'orient': 39, 'compar': 10, 'asesinat': 4, 'john': 22, 'kennedy': 24, 'bbc descubri': 7, 'descubri evident': 15, 'evident convincent': 17, 'convincent indic': 13, 'indic influyent': 19, 'influyent lid': 21, 'lid chiit': 30, 'chiit liban': 9, 'liban mus': 26, 'mus alsadr': 38, 'alsadr asesin': 1, 'asesin libi': 3, 'libi misteri': 28, 'misteri par': 34, 'par much': 42, 'much medi': 36, 'medi orient': 32, 'orient compar': 40, 'compar asesinat': 11, 'asesinat john': 5, 'john kennedy': 23}",
         "{'bbc': 6, 'descubri': 14, 'evident': 16, 'convincent': 12, 'indic': 18, 'influyent': 20, 'lid': 29, 'chiit': 8, 'liban': 25, 'mus': 37, 'libi': 27, 'misteri': 33, 'par': 41, 'much': 35, 'medi': 31, 'orient': 39, 'compar': 10, 'asesinat': 4, 'john': 22, 'kennedy': 24, 'bbc descubri': 7, 'descubri evident': 15, 'evident convincent': 17, 'convincent indic': 13, 'indic influyent': 19, 'influyent lid': 21, 'lid chiit': 30, 'chiit liban': 9, 'liban mus': 26, 'mus alsadr': 38, 'asesin libi': 3, 'libi misteri': 28, 'misteri par': 34, 'par much': 42, 'much medi': 36, 'medi orient': 32, 'orient compar': 40, 'compar asesinat': 11, 'asesinat john': 5, 'john kennedy': 23}"
        ],
        [
         "29",
         "si bien no hay indicios de irregularidades por parte de trump las consecuencias politicas de la saga de epstein para el presidente estadounidense son muy reales",
         "True",
         "si bien no hay indici de irregular por part de trump las consecuent polit de la sag de epstein par el president estadounidens son muy real",
         "{'indici': 6, 'irregular': 8, 'part': 12, 'trump': 21, 'consecuent': 0, 'polit': 14, 'sag': 19, 'epstein': 2, 'par': 10, 'president': 16, 'estadounidens': 4, 'real': 18, 'indici irregular': 7, 'irregular part': 9, 'part trump': 13, 'trump consecuent': 22, 'consecuent polit': 1, 'polit sag': 15, 'sag epstein': 20, 'epstein par': 3, 'par president': 11, 'president estadounidens': 17, 'estadounidens real': 5}",
         "{'indici': 6, 'irregular': 8, 'part': 12, 'trump': 21, 'polit': 14, 'sag': 19, 'par': 10, 'president': 16, 'estadounidens': 4, 'real': 18, 'indici irregular': 7, 'irregular part': 9, 'part trump': 13, 'trump consecuent': 22, 'polit sag': 15, 'sag epstein': 20, 'epstein par': 3, 'par president': 11, 'president estadounidens': 17, 'estadounidens real': 5}"
        ],
        [
         "30",
         "las inusuales formaciones sedimentarias son la evidencia mas convincente de que pudo haber vida en el planeta rojo y un motivo para seguir investigando dijo la agencia estadounidense",
         "True",
         "las inusual formacion sedimentari son la evident mas convincent de que pud hab vid en el planet roj y un motiv par segu investig dij la agenci estadounidens",
         "{'inusual': 13, 'formacion': 9, 'sedimentari': 27, 'evident': 7, 'convincent': 2, 'pud': 23, 'hab': 11, 'vid': 31, 'planet': 21, 'roj': 25, 'motiv': 17, 'par': 19, 'segu': 29, 'investig': 15, 'dij': 4, 'agenci': 0, 'estadounidens': 6, 'inusual formacion': 14, 'formacion sedimentari': 10, 'sedimentari evident': 28, 'evident convincent': 8, 'convincent pud': 3, 'pud hab': 24, 'hab vid': 12, 'vid planet': 32, 'planet roj': 22, 'roj motiv': 26, 'motiv par': 18, 'par segu': 20, 'segu investig': 30, 'investig dij': 16, 'dij agenci': 5, 'agenci estadounidens': 1}",
         "{'inusual': 13, 'formacion': 9, 'sedimentari': 27, 'evident': 7, 'pud': 23, 'hab': 11, 'vid': 31, 'planet': 21, 'roj': 25, 'motiv': 17, 'par': 19, 'segu': 29, 'investig': 15, 'dij': 4, 'estadounidens': 6, 'inusual formacion': 14, 'formacion sedimentari': 10, 'sedimentari evident': 28, 'evident convincent': 8, 'convincent pud': 3, 'pud hab': 24, 'hab vid': 12, 'vid planet': 32, 'planet roj': 22, 'roj motiv': 26, 'motiv par': 18, 'par segu': 20, 'segu investig': 30, 'investig dij': 16, 'dij agenci': 5}"
        ],
        [
         "31",
         "la teoria despego con una publicacion firmada por un joven fisico de anos llamado werner heisenberg y provoco una “avalancha de articulos cientificos” que revolucionaron el mundo para frustracion de albert einstein",
         "True",
         "la teori despeg con una public firm por un jov fisic de anos llam wern heisenberg y provoc una avalanch de articul cientif que revolucion el mund par frustracion de albert einstein",
         "{'teori': 35, 'despeg': 10, 'public': 31, 'firm': 13, 'jov': 21, 'fisic': 15, 'anos': 2, 'llam': 23, 'wern': 37, 'heisenberg': 19, 'provoc': 29, 'avalanch': 6, 'articul': 4, 'cientif': 8, 'revolucion': 33, 'mund': 25, 'par': 27, 'frustracion': 17, 'albert': 0, 'einstein': 12, 'teori despeg': 36, 'despeg public': 11, 'public firm': 32, 'firm jov': 14, 'jov fisic': 22, 'fisic anos': 16, 'anos llam': 3, 'llam wern': 24, 'wern heisenberg': 38, 'heisenberg provoc': 20, 'provoc avalanch': 30, 'avalanch articul': 7, 'articul cientif': 5, 'cientif revolucion': 9, 'revolucion mund': 34, 'mund par': 26, 'par frustracion': 28, 'frustracion albert': 18, 'albert einstein': 1}",
         "{'teori': 35, 'despeg': 10, 'public': 31, 'firm': 13, 'jov': 21, 'fisic': 15, 'llam': 23, 'wern': 37, 'heisenberg': 19, 'provoc': 29, 'avalanch': 6, 'articul': 4, 'cientif': 8, 'revolucion': 33, 'mund': 25, 'par': 27, 'frustracion': 17, 'einstein': 12, 'teori despeg': 36, 'despeg public': 11, 'public firm': 32, 'firm jov': 14, 'jov fisic': 22, 'fisic anos': 16, 'anos llam': 3, 'llam wern': 24, 'wern heisenberg': 38, 'heisenberg provoc': 20, 'provoc avalanch': 30, 'avalanch articul': 7, 'articul cientif': 5, 'cientif revolucion': 9, 'revolucion mund': 34, 'mund par': 26, 'par frustracion': 28, 'frustracion albert': 18}"
        ],
        [
         "32",
         "las densas hebras de plantas marinas atrapan los trozos de plastico del mar dando forma a las pelotas de neptuno",
         "True",
         "las dens hebr de plant marin atrap los troz de plastic del mar dand form a las pelot de neptun",
         "{'dens': 4, 'hebr': 8, 'plant': 17, 'marin': 12, 'atrap': 0, 'troz': 21, 'plastic': 19, 'mar': 10, 'dand': 2, 'form': 6, 'pelot': 15, 'neptun': 14, 'dens hebr': 5, 'hebr plant': 9, 'plant marin': 18, 'marin atrap': 13, 'atrap troz': 1, 'troz plastic': 22, 'plastic mar': 20, 'mar dand': 11, 'dand form': 3, 'form pelot': 7, 'pelot neptun': 16}",
         "{'dens': 4, 'hebr': 8, 'plant': 17, 'marin': 12, 'troz': 21, 'plastic': 19, 'mar': 10, 'form': 6, 'pelot': 15, 'neptun': 14, 'dens hebr': 5, 'hebr plant': 9, 'plant marin': 18, 'marin atrap': 13, 'troz plastic': 22, 'plastic mar': 20, 'mar dand': 11, 'dand form': 3, 'form pelot': 7, 'pelot neptun': 16}"
        ],
        [
         "33",
         "los incendios que azotaron a espana afectaron un paraje cuya fisonomia fue alterada radicalmente por los romanos hace anos",
         "True",
         "los incendi que azot a espan afect un paraj cuy fisonomi fue alter radical por los roman hac anos",
         "{'incendi': 15, 'azot': 5, 'espan': 9, 'afect': 0, 'paraj': 17, 'cuy': 7, 'fisonomi': 11, 'alter': 2, 'radical': 19, 'roman': 21, 'hac': 13, 'anos': 4, 'incendi azot': 16, 'azot espan': 6, 'espan afect': 10, 'afect paraj': 1, 'paraj cuy': 18, 'cuy fisonomi': 8, 'fisonomi alter': 12, 'alter radical': 3, 'radical roman': 20, 'roman hac': 22, 'hac anos': 14}",
         "{'incendi': 15, 'azot': 5, 'espan': 9, 'paraj': 17, 'cuy': 7, 'fisonomi': 11, 'radical': 19, 'roman': 21, 'hac': 13, 'anos': 4, 'incendi azot': 16, 'azot espan': 6, 'espan afect': 10, 'paraj cuy': 18, 'cuy fisonomi': 8, 'fisonomi alter': 12, 'alter radical': 3, 'radical roman': 20, 'roman hac': 22, 'hac anos': 14}"
        ],
        [
         "34",
         "al deshacerse de lo que no tiene fin y de numeros absurdamente grandes todo se facilita alegan",
         "True",
         "al deshac de lo que no tien fin y de numer absurd grand tod se facilit aleg",
         "{'deshac': 3, 'tien': 11, 'numer': 9, 'absurd': 0, 'grand': 7, 'tod': 13, 'facilit': 5, 'aleg': 2, 'deshac tien': 4, 'tien numer': 12, 'numer absurd': 10, 'absurd grand': 1, 'grand tod': 8, 'tod facilit': 14, 'facilit aleg': 6}",
         "{'deshac': 3, 'tien': 11, 'numer': 9, 'grand': 7, 'tod': 13, 'facilit': 5, 'deshac tien': 4, 'tien numer': 12, 'numer absurd': 10, 'grand tod': 8, 'tod facilit': 14, 'facilit aleg': 6}"
        ],
        [
         "35",
         "a pesar de lo peligrosa que puede ser la sal es importante para el buen funcionamiento de nuestro organismo",
         "True",
         "a pes de lo peligr que pued ser la sal es import par el buen funcion de nuestr organ",
         "{'pes': 11, 'peligr': 9, 'pued': 13, 'sal': 15, 'import': 2, 'par': 7, 'funcion': 0, 'nuestr': 4, 'organ': 6, 'pes peligr': 12, 'peligr pued': 10, 'pued sal': 14, 'sal import': 16, 'import par': 3, 'par funcion': 8, 'funcion nuestr': 1, 'nuestr organ': 5}",
         "{'pes': 11, 'peligr': 9, 'pued': 13, 'sal': 15, 'par': 7, 'nuestr': 4, 'organ': 6, 'pes peligr': 12, 'peligr pued': 10, 'pued sal': 14, 'sal import': 16, 'import par': 3, 'par funcion': 8, 'nuestr organ': 5}"
        ],
        [
         "36",
         "el informe muestra que aproximadamente uno de cada diez ninos de entre y anos vive con obesidad",
         "True",
         "el inform muestr que aproxim uno de cad diez nin de entre y anos viv con obes",
         "{'inform': 6, 'muestr': 8, 'aproxim': 2, 'cad': 4, 'nin': 10, 'anos': 0, 'viv': 13, 'obes': 12, 'inform muestr': 7, 'muestr aproxim': 9, 'aproxim cad': 3, 'cad nin': 5, 'nin anos': 11, 'anos viv': 1, 'viv obes': 14}",
         "{'inform': 6, 'muestr': 8, 'cad': 4, 'nin': 10, 'viv': 13, 'obes': 12, 'inform muestr': 7, 'muestr aproxim': 9, 'aproxim cad': 3, 'cad nin': 5, 'nin anos': 11, 'viv obes': 14}"
        ],
        [
         "37",
         "la extraordinaria historia de una sobreviviente de cancer ciega que se sometio a un triple trasplante de corazon rinon e higado",
         "True",
         "la extraordinari histori de una sobrevivient de canc cieg que se someti a un tripl trasplant de corazon rinon e hig",
         "{'extraordinari': 6, 'histori': 9, 'sobrevivient': 13, 'canc': 0, 'cieg': 2, 'someti': 15, 'tripl': 19, 'trasplant': 17, 'corazon': 4, 'rinon': 11, 'hig': 8, 'extraordinari histori': 7, 'histori sobrevivient': 10, 'sobrevivient canc': 14, 'canc cieg': 1, 'cieg someti': 3, 'someti tripl': 16, 'tripl trasplant': 20, 'trasplant corazon': 18, 'corazon rinon': 5, 'rinon hig': 12}",
         "{'extraordinari': 6, 'histori': 9, 'sobrevivient': 13, 'someti': 15, 'tripl': 19, 'trasplant': 17, 'corazon': 4, 'rinon': 11, 'hig': 8, 'extraordinari histori': 7, 'histori sobrevivient': 10, 'sobrevivient canc': 14, 'cieg someti': 3, 'someti tripl': 16, 'tripl trasplant': 20, 'trasplant corazon': 18, 'corazon rinon': 5, 'rinon hig': 12}"
        ],
        [
         "38",
         "tan dominante es la cultura de sin esfuerzo no hay ganancia que muchas veces pasamos por alto las ventajas de hacer ejercicio ligero",
         "True",
         "tan domin es la cultur de sin esfuerz no hay gananci que much vec pas por alto las ventaj de hac ejercici liger",
         "{'domin': 4, 'cultur': 2, 'esfuerz': 8, 'gananci': 10, 'much': 15, 'vec': 19, 'pas': 17, 'alto': 0, 'ventaj': 21, 'hac': 12, 'ejercici': 6, 'liger': 14, 'domin cultur': 5, 'cultur esfuerz': 3, 'esfuerz gananci': 9, 'gananci much': 11, 'much vec': 16, 'vec pas': 20, 'pas alto': 18, 'alto ventaj': 1, 'ventaj hac': 22, 'hac ejercici': 13, 'ejercici liger': 7}",
         "{'domin': 4, 'esfuerz': 8, 'gananci': 10, 'much': 15, 'vec': 19, 'pas': 17, 'ventaj': 21, 'hac': 12, 'ejercici': 6, 'liger': 14, 'domin cultur': 5, 'cultur esfuerz': 3, 'esfuerz gananci': 9, 'gananci much': 11, 'much vec': 16, 'vec pas': 20, 'pas alto': 18, 'ventaj hac': 22, 'hac ejercici': 13, 'ejercici liger': 7}"
        ],
        [
         "39",
         "la reina clasica es superada por otras maravillas con sabores unicos historias ricas y beneficios para la salud",
         "True",
         "la rein clasic es super por otras maravill con sabor unic histori ric y benefici par la salud",
         "{'rein': 10, 'clasic': 2, 'super': 17, 'maravill': 6, 'sabor': 14, 'unic': 19, 'histori': 4, 'ric': 12, 'benefici': 0, 'par': 8, 'salud': 16, 'rein clasic': 11, 'clasic super': 3, 'super maravill': 18, 'maravill sabor': 7, 'sabor unic': 15, 'unic histori': 20, 'histori ric': 5, 'ric benefici': 13, 'benefici par': 1, 'par salud': 9}",
         "{'rein': 10, 'super': 17, 'maravill': 6, 'sabor': 14, 'unic': 19, 'histori': 4, 'ric': 12, 'par': 8, 'salud': 16, 'rein clasic': 11, 'clasic super': 3, 'super maravill': 18, 'maravill sabor': 7, 'sabor unic': 15, 'unic histori': 20, 'histori ric': 5, 'ric benefici': 13, 'par salud': 9}"
        ],
        [
         "40",
         "choi malja tenia anos cuando fue declarada culpable de lesiones corporales graves su agresor de anos recibio una pena menor que ella",
         "True",
         "choi malj teni anos cuand fue declar culpabl de lesion corporal grav su agresor de anos recibi una pen menor que ella",
         "{'choi': 5, 'malj': 19, 'teni': 26, 'anos': 2, 'cuand': 9, 'declar': 13, 'culpabl': 11, 'lesion': 17, 'corporal': 7, 'grav': 15, 'agresor': 0, 'recibi': 24, 'pen': 22, 'menor': 21, 'choi malj': 6, 'malj teni': 20, 'teni anos': 27, 'anos cuand': 3, 'cuand declar': 10, 'declar culpabl': 14, 'culpabl lesion': 12, 'lesion corporal': 18, 'corporal grav': 8, 'grav agresor': 16, 'agresor anos': 1, 'anos recibi': 4, 'recibi pen': 25, 'pen menor': 23}",
         "{'choi': 5, 'malj': 19, 'teni': 26, 'cuand': 9, 'declar': 13, 'culpabl': 11, 'lesion': 17, 'corporal': 7, 'grav': 15, 'recibi': 24, 'pen': 22, 'menor': 21, 'choi malj': 6, 'malj teni': 20, 'teni anos': 27, 'anos cuand': 3, 'cuand declar': 10, 'declar culpabl': 14, 'culpabl lesion': 12, 'lesion corporal': 18, 'corporal grav': 8, 'grav agresor': 16, 'anos recibi': 4, 'recibi pen': 25, 'pen menor': 23}"
        ],
        [
         "41",
         "concentraciones huelgas de hambre e incluso un boicot de la industria cinematografica han surgido como modo de protesta contra las acciones de israel en la franja de gaza",
         "True",
         "concentr huelg de hambr e inclus un boicot de la industri cinematograf han surg com mod de protest contr las accion de israel en la franj de gaz",
         "{'concentr': 8, 'huelg': 17, 'hambr': 15, 'inclus': 19, 'boicot': 2, 'industri': 21, 'cinematograf': 4, 'surg': 29, 'com': 6, 'mod': 25, 'protest': 27, 'contr': 10, 'accion': 0, 'israel': 23, 'franj': 12, 'gaz': 14, 'concentr huelg': 9, 'huelg hambr': 18, 'hambr inclus': 16, 'inclus boicot': 20, 'boicot industri': 3, 'industri cinematograf': 22, 'cinematograf surg': 5, 'surg com': 30, 'com mod': 7, 'mod protest': 26, 'protest contr': 28, 'contr accion': 11, 'accion israel': 1, 'israel franj': 24, 'franj gaz': 13}",
         "{'concentr': 8, 'huelg': 17, 'hambr': 15, 'inclus': 19, 'industri': 21, 'cinematograf': 4, 'surg': 29, 'com': 6, 'mod': 25, 'protest': 27, 'contr': 10, 'israel': 23, 'franj': 12, 'gaz': 14, 'concentr huelg': 9, 'huelg hambr': 18, 'hambr inclus': 16, 'inclus boicot': 20, 'boicot industri': 3, 'industri cinematograf': 22, 'cinematograf surg': 5, 'surg com': 30, 'com mod': 7, 'mod protest': 26, 'protest contr': 28, 'contr accion': 11, 'israel franj': 24, 'franj gaz': 13}"
        ],
        [
         "42",
         "en su libro macho menos el periodista nacho lozano se pregunta ¿es posible aprender a no ser macho",
         "True",
         "en su libr mach men el period nach lozan se pregunt es posibl aprend a no ser mach",
         "{'libr': 2, 'mach': 6, 'men': 8, 'period': 12, 'nach': 10, 'lozan': 4, 'pregunt': 16, 'posibl': 14, 'aprend': 0, 'libr mach': 3, 'mach men': 7, 'men period': 9, 'period nach': 13, 'nach lozan': 11, 'lozan pregunt': 5, 'pregunt posibl': 17, 'posibl aprend': 15, 'aprend mach': 1}",
         "{'mach': 6, 'men': 8, 'period': 12, 'nach': 10, 'lozan': 4, 'pregunt': 16, 'posibl': 14, 'libr mach': 3, 'mach men': 7, 'men period': 9, 'period nach': 13, 'nach lozan': 11, 'lozan pregunt': 5, 'pregunt posibl': 17, 'posibl aprend': 15}"
        ],
        [
         "43",
         "una aventura impulsada por las ideas de nietzsche llevo a varios europeos a una isla de galapagos pero no todo termino bien para muchos de ellos",
         "True",
         "una aventur impuls por las ide de nietzsch llev a vari europe a una isla de galapag per no tod termin bien par much de ellos",
         "{'aventur': 0, 'impuls': 8, 'ide': 6, 'nietzsch': 15, 'llev': 12, 'vari': 25, 'europe': 2, 'isla': 10, 'galapag': 4, 'per': 19, 'tod': 23, 'termin': 21, 'par': 17, 'much': 14, 'aventur impuls': 1, 'impuls ide': 9, 'ide nietzsch': 7, 'nietzsch llev': 16, 'llev vari': 13, 'vari europe': 26, 'europe isla': 3, 'isla galapag': 11, 'galapag per': 5, 'per tod': 20, 'tod termin': 24, 'termin par': 22, 'par much': 18}",
         "{'impuls': 8, 'ide': 6, 'nietzsch': 15, 'llev': 12, 'vari': 25, 'isla': 10, 'galapag': 4, 'per': 19, 'tod': 23, 'termin': 21, 'par': 17, 'much': 14, 'impuls ide': 9, 'ide nietzsch': 7, 'nietzsch llev': 16, 'llev vari': 13, 'vari europe': 26, 'europe isla': 3, 'isla galapag': 11, 'galapag per': 5, 'per tod': 20, 'tod termin': 24, 'termin par': 22, 'par much': 18}"
        ],
        [
         "44",
         "en la decada de surgio kaliman el primer superheroe de los comics mexicanos cuya popularidad se hizo insuperable una nueva edicion revive el mito del hombre increible",
         "True",
         "en la dec de surgi kalim el prim superhero de los comics mexican cuy popular se hiz insuper una nuev edicion reviv el mit del hombr increibl",
         "{'dec': 4, 'surgi': 31, 'kalim': 15, 'prim': 25, 'superhero': 29, 'comics': 0, 'mexican': 17, 'cuy': 2, 'popular': 23, 'hiz': 8, 'insuper': 13, 'nuev': 21, 'edicion': 6, 'reviv': 27, 'mit': 19, 'hombr': 10, 'increibl': 12, 'dec surgi': 5, 'surgi kalim': 32, 'kalim prim': 16, 'prim superhero': 26, 'superhero comics': 30, 'comics mexican': 1, 'mexican cuy': 18, 'cuy popular': 3, 'popular hiz': 24, 'hiz insuper': 9, 'insuper nuev': 14, 'nuev edicion': 22, 'edicion reviv': 7, 'reviv mit': 28, 'mit hombr': 20, 'hombr increibl': 11}",
         "{'dec': 4, 'surgi': 31, 'kalim': 15, 'prim': 25, 'superhero': 29, 'mexican': 17, 'popular': 23, 'hiz': 8, 'insuper': 13, 'nuev': 21, 'edicion': 6, 'reviv': 27, 'mit': 19, 'hombr': 10, 'increibl': 12, 'dec surgi': 5, 'surgi kalim': 32, 'kalim prim': 16, 'prim superhero': 26, 'superhero comics': 30, 'mexican cuy': 18, 'cuy popular': 3, 'popular hiz': 24, 'hiz insuper': 9, 'insuper nuev': 14, 'nuev edicion': 22, 'edicion reviv': 7, 'reviv mit': 28, 'mit hombr': 20, 'hombr increibl': 11}"
        ],
        [
         "45",
         "lachlan murdoch retendra el control del imperio conservador fox and news corp segun el acuerdo logrado con sus hermanos",
         "True",
         "lachl murdoch retendr el control del imperi conserv fox and news corp segun el acuerd logr con sus herman",
         "{'lachl': 15, 'murdoch': 19, 'retendr': 23, 'control': 6, 'imperi': 13, 'conserv': 4, 'fox': 10, 'and': 2, 'news': 21, 'corp': 8, 'acuerd': 0, 'logr': 17, 'herman': 12, 'lachl murdoch': 16, 'murdoch retendr': 20, 'retendr control': 24, 'control imperi': 7, 'imperi conserv': 14, 'conserv fox': 5, 'fox and': 11, 'and news': 3, 'news corp': 22, 'corp acuerd': 9, 'acuerd logr': 1, 'logr herman': 18}",
         "{'lachl': 15, 'murdoch': 19, 'retendr': 23, 'control': 6, 'imperi': 13, 'conserv': 4, 'fox': 10, 'news': 21, 'corp': 8, 'logr': 17, 'herman': 12, 'lachl murdoch': 16, 'murdoch retendr': 20, 'retendr control': 24, 'control imperi': 7, 'imperi conserv': 14, 'conserv fox': 5, 'fox and': 11, 'and news': 3, 'news corp': 22, 'corp acuerd': 9, 'logr herman': 18}"
        ],
        [
         "46",
         "en su ensayo “la era de la revancha” el periodista andrea rizzi analiza la division entre las clases populares y las elites y el resentimiento social en la sociedad hoy en dia",
         "True",
         "en su ensay la era de la revanch el period andre rizzi analiz la division entre las clas popular y las elit y el resent social en la socied hoy en dia",
         "{'ensay': 10, 'revanch': 18, 'period': 12, 'andre': 2, 'rizzi': 20, 'analiz': 0, 'division': 6, 'clas': 4, 'popular': 14, 'elit': 8, 'resent': 16, 'social': 22, 'socied': 24, 'ensay revanch': 11, 'revanch period': 19, 'period andre': 13, 'andre rizzi': 3, 'rizzi analiz': 21, 'analiz division': 1, 'division clas': 7, 'clas popular': 5, 'popular elit': 15, 'elit resent': 9, 'resent social': 17, 'social socied': 23}",
         "{'ensay': 10, 'revanch': 18, 'period': 12, 'rizzi': 20, 'division': 6, 'clas': 4, 'popular': 14, 'elit': 8, 'resent': 16, 'social': 22, 'socied': 24, 'ensay revanch': 11, 'revanch period': 19, 'period andre': 13, 'andre rizzi': 3, 'rizzi analiz': 21, 'division clas': 7, 'clas popular': 5, 'popular elit': 15, 'elit resent': 9, 'resent social': 17, 'social socied': 23}"
        ],
        [
         "47",
         "anguila lleva mucho tiempo obteniendo ingresos de los viajes de lujo pero recientemente se empezo a beneficiar de su direccion web",
         "True",
         "anguil llev much tiemp obten ingres de los viaj de luj per recient se empez a benefici de su direccion web",
         "{'anguil': 0, 'llev': 10, 'much': 14, 'tiemp': 22, 'obten': 16, 'ingres': 8, 'viaj': 24, 'luj': 12, 'per': 18, 'recient': 20, 'empez': 6, 'benefici': 2, 'direccion': 4, 'web': 26, 'anguil llev': 1, 'llev much': 11, 'much tiemp': 15, 'tiemp obten': 23, 'obten ingres': 17, 'ingres viaj': 9, 'viaj luj': 25, 'luj per': 13, 'per recient': 19, 'recient empez': 21, 'empez benefici': 7, 'benefici direccion': 3, 'direccion web': 5}",
         "{'llev': 10, 'much': 14, 'tiemp': 22, 'obten': 16, 'ingres': 8, 'viaj': 24, 'luj': 12, 'per': 18, 'recient': 20, 'empez': 6, 'direccion': 4, 'web': 26, 'llev much': 11, 'much tiemp': 15, 'tiemp obten': 23, 'obten ingres': 17, 'ingres viaj': 9, 'viaj luj': 25, 'luj per': 13, 'per recient': 19, 'recient empez': 21, 'empez benefici': 7, 'benefici direccion': 3, 'direccion web': 5}"
        ],
        [
         "48",
         "el gigante alimentario afirma que laurent freixe tenia una relacion no revelada con una subordinada directa",
         "True",
         "el gigant alimentari afirm que laurent freix teni una relacion no revel con una subordin direct",
         "{'gigant': 7, 'alimentari': 2, 'afirm': 0, 'laurent': 9, 'freix': 5, 'teni': 17, 'relacion': 11, 'revel': 13, 'subordin': 15, 'direct': 4, 'gigant alimentari': 8, 'alimentari afirm': 3, 'afirm laurent': 1, 'laurent freix': 10, 'freix teni': 6, 'teni relacion': 18, 'relacion revel': 12, 'revel subordin': 14, 'subordin direct': 16}",
         "{'gigant': 7, 'laurent': 9, 'freix': 5, 'teni': 17, 'relacion': 11, 'revel': 13, 'subordin': 15, 'direct': 4, 'gigant alimentari': 8, 'alimentari afirm': 3, 'laurent freix': 10, 'freix teni': 6, 'teni relacion': 18, 'relacion revel': 12, 'revel subordin': 14, 'subordin direct': 16}"
        ],
        [
         "49",
         "el director de oportunidades economicas de linkedin da sus consejos sobre como deben enfrentarse los jovenes al nuevo mercado laboral tras la irrupcion de la ia",
         "True",
         "el director de oportun econom de linkedin da sus consej sobr com deb enfrent los joven al nuev merc laboral tras la irrupcion de la ia",
         "{'director': 6, 'oportun': 25, 'econom': 8, 'linkedin': 19, 'consej': 2, 'sobr': 27, 'com': 0, 'deb': 4, 'enfrent': 10, 'joven': 15, 'nuev': 23, 'merc': 21, 'laboral': 17, 'irrupcion': 13, 'ia': 12, 'director oportun': 7, 'oportun econom': 26, 'econom linkedin': 9, 'linkedin consej': 20, 'consej sobr': 3, 'sobr com': 28, 'com deb': 1, 'deb enfrent': 5, 'enfrent joven': 11, 'joven nuev': 16, 'nuev merc': 24, 'merc laboral': 22, 'laboral irrupcion': 18, 'irrupcion ia': 14}",
         "{'director': 6, 'oportun': 25, 'econom': 8, 'linkedin': 19, 'sobr': 27, 'deb': 4, 'enfrent': 10, 'joven': 15, 'nuev': 23, 'merc': 21, 'laboral': 17, 'irrupcion': 13, 'ia': 12, 'director oportun': 7, 'oportun econom': 26, 'econom linkedin': 9, 'linkedin consej': 20, 'consej sobr': 3, 'sobr com': 28, 'deb enfrent': 5, 'enfrent joven': 11, 'joven nuev': 16, 'nuev merc': 24, 'merc laboral': 22, 'laboral irrupcion': 18, 'irrupcion ia': 14}"
        ]
       ],
       "shape": {
        "columns": 5,
        "rows": 5568
       }
      },
      "text/html": [
       "<div>\n",
       "<style scoped>\n",
       "    .dataframe tbody tr th:only-of-type {\n",
       "        vertical-align: middle;\n",
       "    }\n",
       "\n",
       "    .dataframe tbody tr th {\n",
       "        vertical-align: top;\n",
       "    }\n",
       "\n",
       "    .dataframe thead th {\n",
       "        text-align: right;\n",
       "    }\n",
       "</style>\n",
       "<table border=\"1\" class=\"dataframe\">\n",
       "  <thead>\n",
       "    <tr style=\"text-align: right;\">\n",
       "      <th></th>\n",
       "      <th>text</th>\n",
       "      <th>label</th>\n",
       "      <th>texto_limpio</th>\n",
       "      <th>sin_stopwords</th>\n",
       "      <th>frecuencia&lt;3</th>\n",
       "    </tr>\n",
       "  </thead>\n",
       "  <tbody>\n",
       "    <tr>\n",
       "      <th>0</th>\n",
       "      <td>en una rueda de prensa las autoridades dijeron...</td>\n",
       "      <td>True</td>\n",
       "      <td>en una rued de prens las autor dijeron que los...</td>\n",
       "      <td>{'rued': 19, 'prens': 13, 'autor': 0, 'familia...</td>\n",
       "      <td>{'rued': 19, 'prens': 13, 'familiar': 6, 'robi...</td>\n",
       "    </tr>\n",
       "    <tr>\n",
       "      <th>1</th>\n",
       "      <td>una operacion en la que las autoridades irland...</td>\n",
       "      <td>True</td>\n",
       "      <td>una oper en la que las autor irlandes decomis ...</td>\n",
       "      <td>{'oper': 17, 'autor': 0, 'irlandes': 13, 'deco...</td>\n",
       "      <td>{'oper': 17, 'irlandes': 13, 'decomis': 4, 'to...</td>\n",
       "    </tr>\n",
       "    <tr>\n",
       "      <th>2</th>\n",
       "      <td>el nuevo informe se basa en mas de entrevistas...</td>\n",
       "      <td>True</td>\n",
       "      <td>el nuev inform se bas en mas de entrev con per...</td>\n",
       "      <td>{'nuev': 13, 'inform': 9, 'bas': 1, 'entrev': ...</td>\n",
       "      <td>{'nuev': 13, 'inform': 9, 'entrev': 5, 'person...</td>\n",
       "    </tr>\n",
       "    <tr>\n",
       "      <th>3</th>\n",
       "      <td>las pruebas hechas a varias de las principales...</td>\n",
       "      <td>True</td>\n",
       "      <td>las prueb hech a vari de las principal marc ar...</td>\n",
       "      <td>{'prueb': 9, 'hech': 2, 'vari': 13, 'principal...</td>\n",
       "      <td>{'prueb': 9, 'vari': 13, 'principal': 7, 'marc...</td>\n",
       "    </tr>\n",
       "    <tr>\n",
       "      <th>4</th>\n",
       "      <td>michelle y john wylie estuvieron buscando dura...</td>\n",
       "      <td>True</td>\n",
       "      <td>michell y john wyli estuv busc durant anos a u...</td>\n",
       "      <td>{'michell': 15, 'john': 13, 'wyli': 21, 'estuv...</td>\n",
       "      <td>{'michell': 15, 'john': 13, 'wyli': 21, 'estuv...</td>\n",
       "    </tr>\n",
       "    <tr>\n",
       "      <th>...</th>\n",
       "      <td>...</td>\n",
       "      <td>...</td>\n",
       "      <td>...</td>\n",
       "      <td>...</td>\n",
       "      <td>...</td>\n",
       "    </tr>\n",
       "    <tr>\n",
       "      <th>5563</th>\n",
       "      <td>manuela carmena pide a los madrilenos que guar...</td>\n",
       "      <td>False</td>\n",
       "      <td>manuel carmen pid a los madrilen que guard las...</td>\n",
       "      <td>{'manuel': 15, 'carmen': 4, 'pid': 19, 'madril...</td>\n",
       "      <td>{'manuel': 15, 'carmen': 4, 'pid': 19, 'madril...</td>\n",
       "    </tr>\n",
       "    <tr>\n",
       "      <th>5564</th>\n",
       "      <td>a solo unas horas de dejar el poder el expresi...</td>\n",
       "      <td>False</td>\n",
       "      <td>a sol unas hor de dej el pod el expresident en...</td>\n",
       "      <td>{'sol': 306, 'hor': 170, 'dej': 72, 'pod': 269...</td>\n",
       "      <td>{'sol': 306, 'hor': 170, 'dej': 72, 'pod': 269...</td>\n",
       "    </tr>\n",
       "    <tr>\n",
       "      <th>5565</th>\n",
       "      <td>hartos de ser senalados como unos eternos segu...</td>\n",
       "      <td>False</td>\n",
       "      <td>hart de ser senal com unos etern segundon sin ...</td>\n",
       "      <td>{'hart': 172, 'senal': 350, 'com': 59, 'etern'...</td>\n",
       "      <td>{'hart': 172, 'senal': 350, 'com': 59, 'etern'...</td>\n",
       "    </tr>\n",
       "    <tr>\n",
       "      <th>5566</th>\n",
       "      <td>multan a un ultrasur por lanzar a un jugador d...</td>\n",
       "      <td>False</td>\n",
       "      <td>mult a un ultrasur por lanz a un jugador del b...</td>\n",
       "      <td>{'mult': 117, 'ultrasur': 160, 'lanz': 93, 'ju...</td>\n",
       "      <td>{'mult': 117, 'ultrasur': 160, 'lanz': 93, 'ju...</td>\n",
       "    </tr>\n",
       "    <tr>\n",
       "      <th>5567</th>\n",
       "      <td>diez reglas basicas para que tu casa cumpla lo...</td>\n",
       "      <td>False</td>\n",
       "      <td>diez regl basic par que tu cas cumpl los princ...</td>\n",
       "      <td>{'regl': 379, 'basic': 49, 'par': 321, 'cas': ...</td>\n",
       "      <td>{'regl': 379, 'basic': 49, 'par': 321, 'cas': ...</td>\n",
       "    </tr>\n",
       "  </tbody>\n",
       "</table>\n",
       "<p>5568 rows × 5 columns</p>\n",
       "</div>"
      ],
      "text/plain": [
       "                                                   text  label  \\\n",
       "0     en una rueda de prensa las autoridades dijeron...   True   \n",
       "1     una operacion en la que las autoridades irland...   True   \n",
       "2     el nuevo informe se basa en mas de entrevistas...   True   \n",
       "3     las pruebas hechas a varias de las principales...   True   \n",
       "4     michelle y john wylie estuvieron buscando dura...   True   \n",
       "...                                                 ...    ...   \n",
       "5563  manuela carmena pide a los madrilenos que guar...  False   \n",
       "5564  a solo unas horas de dejar el poder el expresi...  False   \n",
       "5565  hartos de ser senalados como unos eternos segu...  False   \n",
       "5566  multan a un ultrasur por lanzar a un jugador d...  False   \n",
       "5567  diez reglas basicas para que tu casa cumpla lo...  False   \n",
       "\n",
       "                                           texto_limpio  \\\n",
       "0     en una rued de prens las autor dijeron que los...   \n",
       "1     una oper en la que las autor irlandes decomis ...   \n",
       "2     el nuev inform se bas en mas de entrev con per...   \n",
       "3     las prueb hech a vari de las principal marc ar...   \n",
       "4     michell y john wyli estuv busc durant anos a u...   \n",
       "...                                                 ...   \n",
       "5563  manuel carmen pid a los madrilen que guard las...   \n",
       "5564  a sol unas hor de dej el pod el expresident en...   \n",
       "5565  hart de ser senal com unos etern segundon sin ...   \n",
       "5566  mult a un ultrasur por lanz a un jugador del b...   \n",
       "5567  diez regl basic par que tu cas cumpl los princ...   \n",
       "\n",
       "                                          sin_stopwords  \\\n",
       "0     {'rued': 19, 'prens': 13, 'autor': 0, 'familia...   \n",
       "1     {'oper': 17, 'autor': 0, 'irlandes': 13, 'deco...   \n",
       "2     {'nuev': 13, 'inform': 9, 'bas': 1, 'entrev': ...   \n",
       "3     {'prueb': 9, 'hech': 2, 'vari': 13, 'principal...   \n",
       "4     {'michell': 15, 'john': 13, 'wyli': 21, 'estuv...   \n",
       "...                                                 ...   \n",
       "5563  {'manuel': 15, 'carmen': 4, 'pid': 19, 'madril...   \n",
       "5564  {'sol': 306, 'hor': 170, 'dej': 72, 'pod': 269...   \n",
       "5565  {'hart': 172, 'senal': 350, 'com': 59, 'etern'...   \n",
       "5566  {'mult': 117, 'ultrasur': 160, 'lanz': 93, 'ju...   \n",
       "5567  {'regl': 379, 'basic': 49, 'par': 321, 'cas': ...   \n",
       "\n",
       "                                           frecuencia<3  \n",
       "0     {'rued': 19, 'prens': 13, 'familiar': 6, 'robi...  \n",
       "1     {'oper': 17, 'irlandes': 13, 'decomis': 4, 'to...  \n",
       "2     {'nuev': 13, 'inform': 9, 'entrev': 5, 'person...  \n",
       "3     {'prueb': 9, 'vari': 13, 'principal': 7, 'marc...  \n",
       "4     {'michell': 15, 'john': 13, 'wyli': 21, 'estuv...  \n",
       "...                                                 ...  \n",
       "5563  {'manuel': 15, 'carmen': 4, 'pid': 19, 'madril...  \n",
       "5564  {'sol': 306, 'hor': 170, 'dej': 72, 'pod': 269...  \n",
       "5565  {'hart': 172, 'senal': 350, 'com': 59, 'etern'...  \n",
       "5566  {'mult': 117, 'ultrasur': 160, 'lanz': 93, 'ju...  \n",
       "5567  {'regl': 379, 'basic': 49, 'par': 321, 'cas': ...  \n",
       "\n",
       "[5568 rows x 5 columns]"
      ]
     },
     "execution_count": 20,
     "metadata": {},
     "output_type": "execute_result"
    }
   ],
   "source": [
    "df"
   ]
  },
  {
   "cell_type": "code",
   "execution_count": 21,
   "id": "328f9b5d",
   "metadata": {},
   "outputs": [
    {
     "data": {
      "text/plain": [
       "{'zorro': 11,\n",
       " 'marrón': 1,\n",
       " 'salta': 9,\n",
       " 'perro': 5,\n",
       " 'perezoso': 3,\n",
       " 'rápido': 7,\n",
       " 'astuto': 0,\n",
       " 'zorro marrón': 12,\n",
       " 'marrón salta': 2,\n",
       " 'salta perro': 10,\n",
       " 'perro perezoso': 6,\n",
       " 'perezoso zorro': 4,\n",
       " 'zorro rápido': 13,\n",
       " 'rápido astuto': 8}"
      ]
     },
     "execution_count": 21,
     "metadata": {},
     "output_type": "execute_result"
    }
   ],
   "source": [
    "texto = \"el zorro marrón salta sobre el perro perezoso. El zorro es muy rápido y astuto.\"\n",
    "vectorizer = CountVectorizer(ngram_range=(1, 2), stop_words=list(nlp.Defaults.stop_words))\n",
    "vectorizer.fit_transform([texto])\n",
    "\n",
    "vectorizer.vocabulary_"
   ]
  },
  {
   "cell_type": "code",
   "execution_count": 22,
   "id": "3d004020",
   "metadata": {},
   "outputs": [
    {
     "data": {
      "application/vnd.microsoft.datawrangler.viewer.v0+json": {
       "columns": [
        {
         "name": "index",
         "rawType": "int64",
         "type": "integer"
        },
        {
         "name": "text",
         "rawType": "object",
         "type": "string"
        },
        {
         "name": "label",
         "rawType": "bool",
         "type": "boolean"
        },
        {
         "name": "texto_limpio",
         "rawType": "object",
         "type": "string"
        },
        {
         "name": "sin_stopwords",
         "rawType": "object",
         "type": "unknown"
        },
        {
         "name": "frecuencia<3",
         "rawType": "object",
         "type": "unknown"
        }
       ],
       "ref": "e6edeb77-c99a-4871-9ca1-fcb37709e2e6",
       "rows": [
        [
         "0",
         "en una rueda de prensa las autoridades dijeron que los familiares de robinson hicieron lo correcto y lo pusieron a disposicion de las fuerzas del orden",
         "True",
         "en una rued de prens las autor dijeron que los familiar de robinson hic lo correct y lo pus a disposicion de las fuerz del orden",
         "{'rued': 19, 'prens': 13, 'autor': 0, 'familiar': 6, 'robinson': 17, 'hic': 10, 'correct': 2, 'pus': 15, 'disposicion': 4, 'fuerz': 8, 'orden': 12, 'rued prens': 20, 'prens autor': 14, 'autor familiar': 1, 'familiar robinson': 7, 'robinson hic': 18, 'hic correct': 11, 'correct pus': 3, 'pus disposicion': 16, 'disposicion fuerz': 5, 'fuerz orden': 9}",
         "{'rued': 19, 'prens': 13, 'familiar': 6, 'robinson': 17, 'hic': 10, 'pus': 15, 'disposicion': 4, 'fuerz': 8, 'orden': 12, 'rued prens': 20, 'prens autor': 14, 'familiar robinson': 7, 'robinson hic': 18, 'hic correct': 11, 'correct pus': 3, 'pus disposicion': 16, 'disposicion fuerz': 5, 'fuerz orden': 9}"
        ],
        [
         "1",
         "una operacion en la que las autoridades irlandesas decomisaron mas de dos toneladas de cocaina expuso la ruta que los narcotraficantes estan utilizando para enviar droga a europa",
         "True",
         "una oper en la que las autor irlandes decomis mas de dos tonel de cocain expus la rut que los narcotraf estan utiliz par envi drog a europ",
         "{'oper': 17, 'autor': 0, 'irlandes': 13, 'decomis': 4, 'tonel': 23, 'cocain': 2, 'expus': 11, 'rut': 21, 'narcotraf': 15, 'utiliz': 25, 'par': 19, 'envi': 8, 'drog': 6, 'europ': 10, 'oper autor': 18, 'autor irlandes': 1, 'irlandes decomis': 14, 'decomis tonel': 5, 'tonel cocain': 24, 'cocain expus': 3, 'expus rut': 12, 'rut narcotraf': 22, 'narcotraf utiliz': 16, 'utiliz par': 26, 'par envi': 20, 'envi drog': 9, 'drog europ': 7}",
         "{'oper': 17, 'irlandes': 13, 'decomis': 4, 'tonel': 23, 'expus': 11, 'rut': 21, 'narcotraf': 15, 'utiliz': 25, 'par': 19, 'envi': 8, 'drog': 6, 'europ': 10, 'oper autor': 18, 'irlandes decomis': 14, 'decomis tonel': 5, 'tonel cocain': 24, 'cocain expus': 3, 'expus rut': 12, 'rut narcotraf': 22, 'narcotraf utiliz': 16, 'utiliz par': 26, 'par envi': 20, 'envi drog': 9, 'drog europ': 7}"
        ],
        [
         "2",
         "el nuevo informe se basa en mas de entrevistas con personas que escaparon de corea del norte en los ultimos anos",
         "True",
         "el nuev inform se bas en mas de entrev con person que escap de core del nort en los ultim anos",
         "{'nuev': 13, 'inform': 9, 'bas': 1, 'entrev': 5, 'person': 15, 'escap': 7, 'core': 3, 'nort': 11, 'ultim': 17, 'anos': 0, 'nuev inform': 14, 'inform bas': 10, 'bas entrev': 2, 'entrev person': 6, 'person escap': 16, 'escap core': 8, 'core nort': 4, 'nort ultim': 12, 'ultim anos': 18}",
         "{'nuev': 13, 'inform': 9, 'entrev': 5, 'person': 15, 'escap': 7, 'core': 3, 'nort': 11, 'ultim': 17, 'nuev inform': 14, 'inform bas': 10, 'entrev person': 6, 'person escap': 16, 'escap core': 8, 'core nort': 4, 'nort ultim': 12, 'ultim anos': 18}"
        ],
        [
         "3",
         "las pruebas hechas a varias de las principales marcas arrojaron resultados preocupantes",
         "True",
         "las prueb hech a vari de las principal marc arroj result preocup",
         "{'prueb': 9, 'hech': 2, 'vari': 13, 'principal': 7, 'marc': 4, 'arroj': 0, 'result': 11, 'preocup': 6, 'prueb hech': 10, 'hech vari': 3, 'vari principal': 14, 'principal marc': 8, 'marc arroj': 5, 'arroj result': 1, 'result preocup': 12}",
         "{'prueb': 9, 'vari': 13, 'principal': 7, 'marc': 4, 'result': 11, 'preocup': 6, 'prueb hech': 10, 'hech vari': 3, 'vari principal': 14, 'principal marc': 8, 'marc arroj': 5, 'result preocup': 12}"
        ],
        [
         "4",
         "michelle y john wylie estuvieron buscando durante anos a un misterioso hombre alto con un traje azul",
         "True",
         "michell y john wyli estuv busc durant anos a un misteri hombr alto con un traj azul",
         "{'michell': 15, 'john': 13, 'wyli': 21, 'estuv': 9, 'busc': 5, 'durant': 7, 'anos': 2, 'misteri': 17, 'hombr': 11, 'alto': 0, 'traj': 19, 'azul': 4, 'michell john': 16, 'john wyli': 14, 'wyli estuv': 22, 'estuv busc': 10, 'busc durant': 6, 'durant anos': 8, 'anos misteri': 3, 'misteri hombr': 18, 'hombr alto': 12, 'alto traj': 1, 'traj azul': 20}",
         "{'michell': 15, 'john': 13, 'wyli': 21, 'estuv': 9, 'busc': 5, 'durant': 7, 'misteri': 17, 'hombr': 11, 'traj': 19, 'azul': 4, 'michell john': 16, 'john wyli': 14, 'wyli estuv': 22, 'estuv busc': 10, 'busc durant': 6, 'durant anos': 8, 'anos misteri': 3, 'misteri hombr': 18, 'hombr alto': 12, 'traj azul': 20}"
        ],
        [
         "5",
         "el dr refaat alathamna y su familia fueron desplazados veces en los ultimos meses el medico pide al gobierno de bolivia que los saque del infierno de gaza",
         "True",
         "el dr refaat alathamn y su famili fueron desplaz vec en los ultim mes el medic pid al gobiern de bolivi que los saqu del infiern de gaz",
         "{'dr': 6, 'refaat': 21, 'alathamn': 0, 'famili': 8, 'desplaz': 4, 'vec': 27, 'ultim': 25, 'mes': 17, 'medic': 15, 'pid': 19, 'gobiern': 11, 'bolivi': 2, 'saqu': 23, 'infiern': 13, 'gaz': 10, 'dr refaat': 7, 'refaat alathamn': 22, 'alathamn famili': 1, 'famili desplaz': 9, 'desplaz vec': 5, 'vec ultim': 28, 'ultim mes': 26, 'mes medic': 18, 'medic pid': 16, 'pid gobiern': 20, 'gobiern bolivi': 12, 'bolivi saqu': 3, 'saqu infiern': 24, 'infiern gaz': 14}",
         "{'dr': 6, 'refaat': 21, 'famili': 8, 'desplaz': 4, 'vec': 27, 'ultim': 25, 'mes': 17, 'medic': 15, 'pid': 19, 'gobiern': 11, 'saqu': 23, 'infiern': 13, 'gaz': 10, 'dr refaat': 7, 'refaat alathamn': 22, 'famili desplaz': 9, 'desplaz vec': 5, 'vec ultim': 28, 'ultim mes': 26, 'mes medic': 18, 'medic pid': 16, 'pid gobiern': 20, 'gobiern bolivi': 12, 'bolivi saqu': 3, 'saqu infiern': 24, 'infiern gaz': 14}"
        ],
        [
         "6",
         "el supremo brasileno castiga a bolsonaro con anos de prision por intento de golpe de estado y otros cuatro delitos una decision historica que puede tener varios efectos",
         "True",
         "el suprem brasilen castig a bolsonar con anos de prision por intent de golp de estad y otros cuatr delit una decision histor que pued ten vari efect",
         "{'suprem': 27, 'brasilen': 4, 'castig': 6, 'bolsonar': 2, 'anos': 0, 'prision': 23, 'intent': 21, 'golp': 17, 'estad': 15, 'cuatr': 8, 'delit': 12, 'decision': 10, 'histor': 19, 'pued': 25, 'ten': 29, 'vari': 31, 'efect': 14, 'suprem brasilen': 28, 'brasilen castig': 5, 'castig bolsonar': 7, 'bolsonar anos': 3, 'anos prision': 1, 'prision intent': 24, 'intent golp': 22, 'golp estad': 18, 'estad cuatr': 16, 'cuatr delit': 9, 'delit decision': 13, 'decision histor': 11, 'histor pued': 20, 'pued ten': 26, 'ten vari': 30, 'vari efect': 32}",
         "{'suprem': 27, 'brasilen': 4, 'castig': 6, 'prision': 23, 'intent': 21, 'golp': 17, 'estad': 15, 'cuatr': 8, 'delit': 12, 'decision': 10, 'histor': 19, 'pued': 25, 'ten': 29, 'vari': 31, 'efect': 14, 'suprem brasilen': 28, 'brasilen castig': 5, 'castig bolsonar': 7, 'bolsonar anos': 3, 'prision intent': 24, 'intent golp': 22, 'golp estad': 18, 'estad cuatr': 16, 'cuatr delit': 9, 'delit decision': 13, 'decision histor': 11, 'histor pued': 20, 'pued ten': 26, 'ten vari': 30, 'vari efect': 32}"
        ],
        [
         "7",
         "kirk un influyente aliado del presidente de que a los anos creo turning point usa murio de un disparo cuando estaba hablando en un evento en un campus de utah",
         "True",
         "kirk un influyent ali del president de que a los anos cre turning point usa muri de un dispar cuand estab habl en un event en un campus de utah",
         "{'kirk': 20, 'influyent': 18, 'ali': 0, 'president': 26, 'anos': 2, 'cre': 6, 'turning': 28, 'point': 24, 'muri': 22, 'dispar': 10, 'cuand': 8, 'estab': 12, 'habl': 16, 'event': 14, 'campus': 4, 'utah': 30, 'kirk influyent': 21, 'influyent ali': 19, 'ali president': 1, 'president anos': 27, 'anos cre': 3, 'cre turning': 7, 'turning point': 29, 'point muri': 25, 'muri dispar': 23, 'dispar cuand': 11, 'cuand estab': 9, 'estab habl': 13, 'habl event': 17, 'event campus': 15, 'campus utah': 5}",
         "{'kirk': 20, 'influyent': 18, 'president': 26, 'cre': 6, 'turning': 28, 'point': 24, 'muri': 22, 'dispar': 10, 'cuand': 8, 'estab': 12, 'habl': 16, 'event': 14, 'campus': 4, 'utah': 30, 'kirk influyent': 21, 'influyent ali': 19, 'president anos': 27, 'anos cre': 3, 'cre turning': 7, 'turning point': 29, 'point muri': 25, 'muri dispar': 23, 'dispar cuand': 11, 'cuand estab': 9, 'estab habl': 13, 'habl event': 17, 'event campus': 15, 'campus utah': 5}"
        ],
        [
         "8",
         "el estado de nuestros pulmones puede revelar mucho sobre nuestra salud en general por suerte es posible tambien mejorarlo",
         "True",
         "el estad de nuestr pulmon pued revel much sobr nuestr salud en general por suert es posibl tambi mejor",
         "{'estad': 0, 'nuestr': 6, 'pulmon': 13, 'pued': 11, 'revel': 15, 'much': 4, 'sobr': 19, 'salud': 17, 'general': 2, 'suert': 21, 'posibl': 9, 'tambi': 23, 'estad nuestr': 1, 'nuestr pulmon': 7, 'pulmon pued': 14, 'pued revel': 12, 'revel much': 16, 'much sobr': 5, 'sobr nuestr': 20, 'nuestr salud': 8, 'salud general': 18, 'general suert': 3, 'suert posibl': 22, 'posibl tambi': 10}",
         "{'nuestr': 6, 'pulmon': 13, 'pued': 11, 'revel': 15, 'much': 4, 'sobr': 19, 'salud': 17, 'suert': 21, 'posibl': 9, 'tambi': 23, 'nuestr pulmon': 7, 'pulmon pued': 14, 'pued revel': 12, 'revel much': 16, 'much sobr': 5, 'sobr nuestr': 20, 'nuestr salud': 8, 'salud general': 18, 'general suert': 3, 'suert posibl': 22, 'posibl tambi': 10}"
        ],
        [
         "9",
         "a principios de este mes a los ciudadanos chinos que trabajaban con la nasa de repente se les nego el acceso a todos los sistemas de la agencia federal",
         "True",
         "a principi de este mes a los ciudadan chin que trabaj con la nas de repent se les neg el acces a tod los sistem de la agenci federal",
         "{'principi': 15, 'mes': 9, 'ciudadan': 6, 'chin': 4, 'trabaj': 23, 'nas': 11, 'repent': 17, 'neg': 13, 'acces': 0, 'tod': 21, 'sistem': 19, 'agenci': 2, 'federal': 8, 'principi mes': 16, 'mes ciudadan': 10, 'ciudadan chin': 7, 'chin trabaj': 5, 'trabaj nas': 24, 'nas repent': 12, 'repent neg': 18, 'neg acces': 14, 'acces tod': 1, 'tod sistem': 22, 'sistem agenci': 20, 'agenci federal': 3}",
         "{'principi': 15, 'mes': 9, 'ciudadan': 6, 'chin': 4, 'trabaj': 23, 'nas': 11, 'repent': 17, 'neg': 13, 'tod': 21, 'sistem': 19, 'federal': 8, 'principi mes': 16, 'mes ciudadan': 10, 'ciudadan chin': 7, 'chin trabaj': 5, 'trabaj nas': 24, 'nas repent': 12, 'repent neg': 18, 'neg acces': 14, 'tod sistem': 22, 'sistem agenci': 20, 'agenci federal': 3}"
        ],
        [
         "10",
         "nan",
         "True",
         "nan",
         "{'nan': 0}",
         "{}"
        ],
        [
         "11",
         "nan",
         "True",
         "nan",
         "{'nan': 0}",
         "{}"
        ],
        [
         "12",
         "nan",
         "True",
         "nan",
         "{'nan': 0}",
         "{}"
        ],
        [
         "13",
         "nan",
         "True",
         "nan",
         "{'nan': 0}",
         "{}"
        ],
        [
         "14",
         "nan",
         "True",
         "nan",
         "{'nan': 0}",
         "{}"
        ],
        [
         "15",
         "las razones del suceso siguen sin aclararse pero las autoridades lanzaron una gran operacion para dar con el responsable del crimen",
         "True",
         "las razon del suces sig sin aclar per las autor lanz una gran oper par dar con el respons del crim",
         "{'razon': 13, 'suces': 19, 'sig': 17, 'aclar': 0, 'per': 11, 'autor': 2, 'lanz': 5, 'oper': 7, 'par': 9, 'respons': 15, 'crim': 4, 'razon suces': 14, 'suces sig': 20, 'sig aclar': 18, 'aclar per': 1, 'per autor': 12, 'autor lanz': 3, 'lanz oper': 6, 'oper par': 8, 'par respons': 10, 'respons crim': 16}",
         "{'razon': 13, 'suces': 19, 'sig': 17, 'per': 11, 'lanz': 5, 'oper': 7, 'par': 9, 'respons': 15, 'crim': 4, 'razon suces': 14, 'suces sig': 20, 'sig aclar': 18, 'per autor': 12, 'autor lanz': 3, 'lanz oper': 6, 'oper par': 8, 'par respons': 10, 'respons crim': 16}"
        ],
        [
         "16",
         "el asesinato de charlie kirk es otro episodio de violencia armada en ese pais y el ultimo de una serie de recientes episodios de violencia politica",
         "True",
         "el asesinat de charli kirk es otro episodi de violenci armad en ese pais y el ultim de una seri de recient episodi de violenci polit",
         "{'asesinat': 2, 'charli': 4, 'kirk': 8, 'episodi': 6, 'violenci': 19, 'armad': 0, 'pais': 10, 'ultim': 17, 'seri': 15, 'recient': 13, 'polit': 12, 'asesinat charli': 3, 'charli kirk': 5, 'kirk episodi': 9, 'episodi violenci': 7, 'violenci armad': 20, 'armad pais': 1, 'pais ultim': 11, 'ultim seri': 18, 'seri recient': 16, 'recient episodi': 14, 'violenci polit': 21}",
         "{'charli': 4, 'kirk': 8, 'episodi': 6, 'violenci': 19, 'pais': 10, 'ultim': 17, 'seri': 15, 'recient': 13, 'polit': 12, 'asesinat charli': 3, 'charli kirk': 5, 'kirk episodi': 9, 'episodi violenci': 7, 'violenci armad': 20, 'pais ultim': 11, 'ultim seri': 18, 'seri recient': 16, 'recient episodi': 14, 'violenci polit': 21}"
        ],
        [
         "17",
         "la fortuna del cofundador de oracle ha superado a la de musk impulsada por el auge de la inteligencia artificial",
         "True",
         "la fortun del cofund de oracl ha super a la de musk impuls por el aug de la inteligent artificial",
         "{'fortun': 5, 'cofund': 3, 'oracl': 13, 'super': 15, 'musk': 11, 'impuls': 7, 'aug': 1, 'inteligent': 9, 'artificial': 0, 'fortun cofund': 6, 'cofund oracl': 4, 'oracl super': 14, 'super musk': 16, 'musk impuls': 12, 'impuls aug': 8, 'aug inteligent': 2, 'inteligent artificial': 10}",
         "{'fortun': 5, 'cofund': 3, 'oracl': 13, 'super': 15, 'musk': 11, 'impuls': 7, 'inteligent': 9, 'fortun cofund': 6, 'cofund oracl': 4, 'oracl super': 14, 'super musk': 16, 'musk impuls': 12, 'impuls aug': 8, 'inteligent artificial': 10}"
        ],
        [
         "18",
         "expertos consultados por bbc mundo desentranan los origenes y la estructura de esta organizacion designada como terrorista por estados unidos y otros paises de america",
         "True",
         "expert consult por bbc mund desentran los origen y la estructur de esta organiz design com terror por estad unid y otros pais de amer",
         "{'expert': 15, 'consult': 5, 'bbc': 1, 'mund': 17, 'desentran': 7, 'origen': 21, 'estructur': 13, 'organiz': 19, 'design': 9, 'com': 3, 'terror': 25, 'estad': 11, 'unid': 27, 'pais': 23, 'amer': 0, 'expert consult': 16, 'consult bbc': 6, 'bbc mund': 2, 'mund desentran': 18, 'desentran origen': 8, 'origen estructur': 22, 'estructur organiz': 14, 'organiz design': 20, 'design com': 10, 'com terror': 4, 'terror estad': 26, 'estad unid': 12, 'unid pais': 28, 'pais amer': 24}",
         "{'expert': 15, 'consult': 5, 'mund': 17, 'desentran': 7, 'origen': 21, 'estructur': 13, 'organiz': 19, 'design': 9, 'com': 3, 'terror': 25, 'estad': 11, 'unid': 27, 'pais': 23, 'expert consult': 16, 'consult bbc': 6, 'mund desentran': 18, 'desentran origen': 8, 'origen estructur': 22, 'estructur organiz': 14, 'organiz design': 20, 'design com': 10, 'com terror': 4, 'terror estad': 26, 'estad unid': 12, 'unid pais': 28, 'pais amer': 24}"
        ],
        [
         "19",
         "la empresa anuncio este miercoles que recortara empleos semanas despues de advertir que sus beneficios caeran a medida que surjan mas medicamentos para bajar de peso de empresas competidoras",
         "True",
         "la empres anunci este miercol que recort emple seman despu de advert que sus benefici caer a med que surj mas medicament par baj de pes de empres competidor",
         "{'empres': 15, 'anunci': 2, 'miercol': 22, 'recort': 28, 'emple': 13, 'seman': 30, 'despu': 11, 'advert': 0, 'benefici': 6, 'caer': 8, 'med': 18, 'surj': 32, 'medicament': 20, 'par': 24, 'baj': 4, 'pes': 26, 'competidor': 10, 'empres anunci': 16, 'anunci miercol': 3, 'miercol recort': 23, 'recort emple': 29, 'emple seman': 14, 'seman despu': 31, 'despu advert': 12, 'advert benefici': 1, 'benefici caer': 7, 'caer med': 9, 'med surj': 19, 'surj medicament': 33, 'medicament par': 21, 'par baj': 25, 'baj pes': 5, 'pes empres': 27, 'empres competidor': 17}",
         "{'empres': 15, 'miercol': 22, 'recort': 28, 'emple': 13, 'seman': 30, 'despu': 11, 'benefici': 6, 'caer': 8, 'med': 18, 'surj': 32, 'medicament': 20, 'par': 24, 'baj': 4, 'pes': 26, 'competidor': 10, 'empres anunci': 16, 'anunci miercol': 3, 'miercol recort': 23, 'recort emple': 29, 'emple seman': 14, 'seman despu': 31, 'despu advert': 12, 'benefici caer': 7, 'caer med': 9, 'med surj': 19, 'surj medicament': 33, 'medicament par': 21, 'par baj': 25, 'baj pes': 5, 'pes empres': 27, 'empres competidor': 17}"
        ],
        [
         "20",
         "casi un millon de migrantes cruzaron por la inhospita selva del darien entre y pero muchos pagaron el precio mas alto ahora panama trata de identificar a algunas de las victimas de la travesia",
         "True",
         "casi un millon de migrant cruz por la inhospit selv del dari entre y per much pag el preci mas alto ahor panam trat de identific a algun de las victim de la travesi",
         "{'millon': 16, 'migrant': 14, 'cruz': 6, 'inhospit': 12, 'selv': 28, 'dari': 8, 'per': 24, 'much': 18, 'pag': 20, 'preci': 26, 'alto': 4, 'ahor': 0, 'panam': 22, 'trat': 30, 'identific': 10, 'algun': 2, 'victim': 33, 'travesi': 32, 'millon migrant': 17, 'migrant cruz': 15, 'cruz inhospit': 7, 'inhospit selv': 13, 'selv dari': 29, 'dari per': 9, 'per much': 25, 'much pag': 19, 'pag preci': 21, 'preci alto': 27, 'alto ahor': 5, 'ahor panam': 1, 'panam trat': 23, 'trat identific': 31, 'identific algun': 11, 'algun victim': 3, 'victim travesi': 34}",
         "{'millon': 16, 'migrant': 14, 'cruz': 6, 'inhospit': 12, 'selv': 28, 'dari': 8, 'per': 24, 'much': 18, 'pag': 20, 'preci': 26, 'alto': 4, 'panam': 22, 'trat': 30, 'identific': 10, 'victim': 33, 'travesi': 32, 'millon migrant': 17, 'migrant cruz': 15, 'cruz inhospit': 7, 'inhospit selv': 13, 'selv dari': 29, 'dari per': 9, 'per much': 25, 'much pag': 19, 'pag preci': 21, 'preci alto': 27, 'alto ahor': 5, 'panam trat': 23, 'trat identific': 31, 'identific algun': 11, 'algun victim': 3, 'victim travesi': 34}"
        ],
        [
         "21",
         "su partido la libertad avanza fue derrotado ampliamente por la oposicion peronista en los comicios para legisladores de la provincia de buenos aires",
         "True",
         "su part la libert avanz fue derrot ampli por la oposicion peron en los comici par legisl de la provinci de buen air",
         "{'part': 17, 'libert': 11, 'avanz': 3, 'derrot': 7, 'ampli': 1, 'oposicion': 13, 'peron': 19, 'comici': 5, 'par': 15, 'legisl': 9, 'provinci': 21, 'air': 0, 'part libert': 18, 'libert avanz': 12, 'avanz derrot': 4, 'derrot ampli': 8, 'ampli oposicion': 2, 'oposicion peron': 14, 'peron comici': 20, 'comici par': 6, 'par legisl': 16, 'legisl provinci': 10, 'provinci air': 22}",
         "{'part': 17, 'libert': 11, 'avanz': 3, 'derrot': 7, 'oposicion': 13, 'peron': 19, 'comici': 5, 'par': 15, 'legisl': 9, 'provinci': 21, 'part libert': 18, 'libert avanz': 12, 'avanz derrot': 4, 'derrot ampli': 8, 'oposicion peron': 14, 'peron comici': 20, 'comici par': 6, 'par legisl': 16, 'legisl provinci': 10, 'provinci air': 22}"
        ],
        [
         "22",
         "puerto rico territorio estadounidense desde es considerado un bastion estrategico por el pais norteamericano pero alli se han gestado movimientos en contra del militarismo en el pasado",
         "True",
         "puert ric territori estadounidens desd es consider un bastion estrateg por el pais norteamerican per alli se han gest movimient en contr del militar en el pas",
         "{'puert': 25, 'ric': 27, 'territori': 29, 'estadounidens': 8, 'desd': 6, 'consider': 2, 'bastion': 0, 'estrateg': 10, 'pais': 20, 'norteamerican': 18, 'per': 23, 'gest': 12, 'movimient': 16, 'contr': 4, 'militar': 14, 'pas': 22, 'puert ric': 26, 'ric territori': 28, 'territori estadounidens': 30, 'estadounidens desd': 9, 'desd consider': 7, 'consider bastion': 3, 'bastion estrateg': 1, 'estrateg pais': 11, 'pais norteamerican': 21, 'norteamerican per': 19, 'per gest': 24, 'gest movimient': 13, 'movimient contr': 17, 'contr militar': 5, 'militar pas': 15}",
         "{'puert': 25, 'ric': 27, 'territori': 29, 'estadounidens': 8, 'desd': 6, 'estrateg': 10, 'pais': 20, 'norteamerican': 18, 'per': 23, 'gest': 12, 'movimient': 16, 'contr': 4, 'militar': 14, 'pas': 22, 'puert ric': 26, 'ric territori': 28, 'territori estadounidens': 30, 'estadounidens desd': 9, 'desd consider': 7, 'consider bastion': 3, 'estrateg pais': 11, 'pais norteamerican': 21, 'norteamerican per': 19, 'per gest': 24, 'gest movimient': 13, 'movimient contr': 17, 'contr militar': 5, 'militar pas': 15}"
        ],
        [
         "23",
         "el departamento de defensa de acuso ademas a venezuela de querer interferir con sus operaciones en contra del narcoterrorismo",
         "True",
         "el departament de defens de acus adem a venezuel de quer interfer con sus oper en contr del narcoterror",
         "{'departament': 8, 'defens': 6, 'acus': 0, 'adem': 2, 'venezuel': 17, 'quer': 15, 'interfer': 10, 'oper': 13, 'contr': 4, 'narcoterror': 12, 'departament defens': 9, 'defens acus': 7, 'acus adem': 1, 'adem venezuel': 3, 'venezuel quer': 18, 'quer interfer': 16, 'interfer oper': 11, 'oper contr': 14, 'contr narcoterror': 5}",
         "{'departament': 8, 'defens': 6, 'venezuel': 17, 'quer': 15, 'interfer': 10, 'oper': 13, 'contr': 4, 'narcoterror': 12, 'departament defens': 9, 'defens acus': 7, 'adem venezuel': 3, 'venezuel quer': 18, 'quer interfer': 16, 'interfer oper': 11, 'oper contr': 14, 'contr narcoterror': 5}"
        ],
        [
         "24",
         "el entrevista con bbc mundo el presidente de guatemala aborda desde los intentos de derribar su gobierno hasta la violencia de las pandillas y las relaciones con estados unidos",
         "True",
         "el entrev con bbc mund el president de guatemal abord desd los intent de derrib su gobiern hast la violenci de las pandill y las relacion con estad unid",
         "{'entrev': 8, 'bbc': 2, 'mund': 20, 'president': 24, 'guatemal': 14, 'abord': 0, 'desd': 6, 'intent': 18, 'derrib': 4, 'gobiern': 12, 'hast': 16, 'violenci': 29, 'pandill': 22, 'relacion': 26, 'estad': 10, 'unid': 28, 'entrev bbc': 9, 'bbc mund': 3, 'mund president': 21, 'president guatemal': 25, 'guatemal abord': 15, 'abord desd': 1, 'desd intent': 7, 'intent derrib': 19, 'derrib gobiern': 5, 'gobiern hast': 13, 'hast violenci': 17, 'violenci pandill': 30, 'pandill relacion': 23, 'relacion estad': 27, 'estad unid': 11}",
         "{'entrev': 8, 'mund': 20, 'president': 24, 'guatemal': 14, 'desd': 6, 'intent': 18, 'derrib': 4, 'gobiern': 12, 'hast': 16, 'violenci': 29, 'pandill': 22, 'relacion': 26, 'estad': 10, 'unid': 28, 'entrev bbc': 9, 'bbc mund': 3, 'mund president': 21, 'president guatemal': 25, 'guatemal abord': 15, 'desd intent': 7, 'intent derrib': 19, 'derrib gobiern': 5, 'gobiern hast': 13, 'hast violenci': 17, 'violenci pandill': 30, 'pandill relacion': 23, 'relacion estad': 27, 'estad unid': 11}"
        ],
        [
         "25",
         "en un mensaje de video trump afirmo sentirse lleno de dolor e ira por el atroz asesinato de charlie kirk",
         "True",
         "en un mensaj de vide trump afirm sent llen de dolor e ira por el atroz asesinat de charli kirk",
         "{'mensaj': 15, 'vide': 21, 'trump': 19, 'afirm': 0, 'sent': 17, 'llen': 13, 'dolor': 8, 'ira': 10, 'atroz': 4, 'asesinat': 2, 'charli': 6, 'kirk': 12, 'mensaj vide': 16, 'vide trump': 22, 'trump afirm': 20, 'afirm sent': 1, 'sent llen': 18, 'llen dolor': 14, 'dolor ira': 9, 'ira atroz': 11, 'atroz asesinat': 5, 'asesinat charli': 3, 'charli kirk': 7}",
         "{'mensaj': 15, 'vide': 21, 'trump': 19, 'sent': 17, 'llen': 13, 'dolor': 8, 'ira': 10, 'atroz': 4, 'charli': 6, 'kirk': 12, 'mensaj vide': 16, 'vide trump': 22, 'trump afirm': 20, 'sent llen': 18, 'llen dolor': 14, 'dolor ira': 9, 'ira atroz': 11, 'atroz asesinat': 5, 'asesinat charli': 3, 'charli kirk': 7}"
        ],
        [
         "26",
         "el ataque de doha indica que benjamin netanyahu presionara con fuerza en todos los frentes escribe el editor internacional de la bbc jeremy bowen",
         "True",
         "el ataqu de doh indic que benjamin netanyahu presion con fuerz en tod los frent escrib el editor internacional de la bbc jeremy bow",
         "{'ataqu': 0, 'doh': 7, 'indic': 17, 'benjamin': 4, 'netanyahu': 23, 'presion': 25, 'fuerz': 15, 'tod': 27, 'frent': 13, 'escrib': 11, 'editor': 9, 'internacional': 19, 'bbc': 2, 'jeremy': 21, 'bow': 6, 'ataqu doh': 1, 'doh indic': 8, 'indic benjamin': 18, 'benjamin netanyahu': 5, 'netanyahu presion': 24, 'presion fuerz': 26, 'fuerz tod': 16, 'tod frent': 28, 'frent escrib': 14, 'escrib editor': 12, 'editor internacional': 10, 'internacional bbc': 20, 'bbc jeremy': 3, 'jeremy bow': 22}",
         "{'doh': 7, 'indic': 17, 'benjamin': 4, 'netanyahu': 23, 'presion': 25, 'fuerz': 15, 'tod': 27, 'frent': 13, 'escrib': 11, 'editor': 9, 'internacional': 19, 'jeremy': 21, 'bow': 6, 'doh indic': 8, 'indic benjamin': 18, 'benjamin netanyahu': 5, 'netanyahu presion': 24, 'presion fuerz': 26, 'fuerz tod': 16, 'tod frent': 28, 'frent escrib': 14, 'escrib editor': 12, 'editor internacional': 10, 'internacional bbc': 20, 'bbc jeremy': 3, 'jeremy bow': 22}"
        ],
        [
         "27",
         "expertos indican que la incursion de varios drones en el espacio aereo de polonia es deliberada y esta destinada a poner a prueba a la otan y occidente incluido",
         "True",
         "expert indic que la incursion de vari dron en el espaci aere de poloni es deliber y esta destin a pon a prueb a la otan y occident inclu",
         "{'expert': 10, 'indic': 15, 'incursion': 13, 'vari': 27, 'dron': 6, 'espaci': 8, 'aere': 0, 'poloni': 21, 'deliber': 2, 'destin': 4, 'pon': 23, 'prueb': 25, 'otan': 19, 'occident': 17, 'inclu': 12, 'expert indic': 11, 'indic incursion': 16, 'incursion vari': 14, 'vari dron': 28, 'dron espaci': 7, 'espaci aere': 9, 'aere poloni': 1, 'poloni deliber': 22, 'deliber destin': 3, 'destin pon': 5, 'pon prueb': 24, 'prueb otan': 26, 'otan occident': 20, 'occident inclu': 18}",
         "{'expert': 10, 'indic': 15, 'incursion': 13, 'vari': 27, 'dron': 6, 'espaci': 8, 'poloni': 21, 'destin': 4, 'pon': 23, 'prueb': 25, 'otan': 19, 'occident': 17, 'inclu': 12, 'expert indic': 11, 'indic incursion': 16, 'incursion vari': 14, 'vari dron': 28, 'dron espaci': 7, 'espaci aere': 9, 'poloni deliber': 22, 'deliber destin': 3, 'destin pon': 5, 'pon prueb': 24, 'prueb otan': 26, 'otan occident': 20, 'occident inclu': 18}"
        ],
        [
         "28",
         "la bbc descubrio evidencia convincente que indica que el influyente lider chiita libanes musa alsadr fue asesinado en libia es un misterio que para muchos en medio oriente es comparable al del asesinato de john f kennedy en",
         "True",
         "la bbc descubri evident convincent que indic que el influyent lid chiit liban mus alsadr fue asesin en libi es un misteri que par much en medi orient es compar al del asesinat de john f kennedy en",
         "{'bbc': 6, 'descubri': 14, 'evident': 16, 'convincent': 12, 'indic': 18, 'influyent': 20, 'lid': 29, 'chiit': 8, 'liban': 25, 'mus': 37, 'alsadr': 0, 'asesin': 2, 'libi': 27, 'misteri': 33, 'par': 41, 'much': 35, 'medi': 31, 'orient': 39, 'compar': 10, 'asesinat': 4, 'john': 22, 'kennedy': 24, 'bbc descubri': 7, 'descubri evident': 15, 'evident convincent': 17, 'convincent indic': 13, 'indic influyent': 19, 'influyent lid': 21, 'lid chiit': 30, 'chiit liban': 9, 'liban mus': 26, 'mus alsadr': 38, 'alsadr asesin': 1, 'asesin libi': 3, 'libi misteri': 28, 'misteri par': 34, 'par much': 42, 'much medi': 36, 'medi orient': 32, 'orient compar': 40, 'compar asesinat': 11, 'asesinat john': 5, 'john kennedy': 23}",
         "{'bbc': 6, 'descubri': 14, 'evident': 16, 'convincent': 12, 'indic': 18, 'influyent': 20, 'lid': 29, 'chiit': 8, 'liban': 25, 'mus': 37, 'libi': 27, 'misteri': 33, 'par': 41, 'much': 35, 'medi': 31, 'orient': 39, 'compar': 10, 'asesinat': 4, 'john': 22, 'kennedy': 24, 'bbc descubri': 7, 'descubri evident': 15, 'evident convincent': 17, 'convincent indic': 13, 'indic influyent': 19, 'influyent lid': 21, 'lid chiit': 30, 'chiit liban': 9, 'liban mus': 26, 'mus alsadr': 38, 'asesin libi': 3, 'libi misteri': 28, 'misteri par': 34, 'par much': 42, 'much medi': 36, 'medi orient': 32, 'orient compar': 40, 'compar asesinat': 11, 'asesinat john': 5, 'john kennedy': 23}"
        ],
        [
         "29",
         "si bien no hay indicios de irregularidades por parte de trump las consecuencias politicas de la saga de epstein para el presidente estadounidense son muy reales",
         "True",
         "si bien no hay indici de irregular por part de trump las consecuent polit de la sag de epstein par el president estadounidens son muy real",
         "{'indici': 6, 'irregular': 8, 'part': 12, 'trump': 21, 'consecuent': 0, 'polit': 14, 'sag': 19, 'epstein': 2, 'par': 10, 'president': 16, 'estadounidens': 4, 'real': 18, 'indici irregular': 7, 'irregular part': 9, 'part trump': 13, 'trump consecuent': 22, 'consecuent polit': 1, 'polit sag': 15, 'sag epstein': 20, 'epstein par': 3, 'par president': 11, 'president estadounidens': 17, 'estadounidens real': 5}",
         "{'indici': 6, 'irregular': 8, 'part': 12, 'trump': 21, 'polit': 14, 'sag': 19, 'par': 10, 'president': 16, 'estadounidens': 4, 'real': 18, 'indici irregular': 7, 'irregular part': 9, 'part trump': 13, 'trump consecuent': 22, 'polit sag': 15, 'sag epstein': 20, 'epstein par': 3, 'par president': 11, 'president estadounidens': 17, 'estadounidens real': 5}"
        ],
        [
         "30",
         "las inusuales formaciones sedimentarias son la evidencia mas convincente de que pudo haber vida en el planeta rojo y un motivo para seguir investigando dijo la agencia estadounidense",
         "True",
         "las inusual formacion sedimentari son la evident mas convincent de que pud hab vid en el planet roj y un motiv par segu investig dij la agenci estadounidens",
         "{'inusual': 13, 'formacion': 9, 'sedimentari': 27, 'evident': 7, 'convincent': 2, 'pud': 23, 'hab': 11, 'vid': 31, 'planet': 21, 'roj': 25, 'motiv': 17, 'par': 19, 'segu': 29, 'investig': 15, 'dij': 4, 'agenci': 0, 'estadounidens': 6, 'inusual formacion': 14, 'formacion sedimentari': 10, 'sedimentari evident': 28, 'evident convincent': 8, 'convincent pud': 3, 'pud hab': 24, 'hab vid': 12, 'vid planet': 32, 'planet roj': 22, 'roj motiv': 26, 'motiv par': 18, 'par segu': 20, 'segu investig': 30, 'investig dij': 16, 'dij agenci': 5, 'agenci estadounidens': 1}",
         "{'inusual': 13, 'formacion': 9, 'sedimentari': 27, 'evident': 7, 'pud': 23, 'hab': 11, 'vid': 31, 'planet': 21, 'roj': 25, 'motiv': 17, 'par': 19, 'segu': 29, 'investig': 15, 'dij': 4, 'estadounidens': 6, 'inusual formacion': 14, 'formacion sedimentari': 10, 'sedimentari evident': 28, 'evident convincent': 8, 'convincent pud': 3, 'pud hab': 24, 'hab vid': 12, 'vid planet': 32, 'planet roj': 22, 'roj motiv': 26, 'motiv par': 18, 'par segu': 20, 'segu investig': 30, 'investig dij': 16, 'dij agenci': 5}"
        ],
        [
         "31",
         "la teoria despego con una publicacion firmada por un joven fisico de anos llamado werner heisenberg y provoco una “avalancha de articulos cientificos” que revolucionaron el mundo para frustracion de albert einstein",
         "True",
         "la teori despeg con una public firm por un jov fisic de anos llam wern heisenberg y provoc una avalanch de articul cientif que revolucion el mund par frustracion de albert einstein",
         "{'teori': 35, 'despeg': 10, 'public': 31, 'firm': 13, 'jov': 21, 'fisic': 15, 'anos': 2, 'llam': 23, 'wern': 37, 'heisenberg': 19, 'provoc': 29, 'avalanch': 6, 'articul': 4, 'cientif': 8, 'revolucion': 33, 'mund': 25, 'par': 27, 'frustracion': 17, 'albert': 0, 'einstein': 12, 'teori despeg': 36, 'despeg public': 11, 'public firm': 32, 'firm jov': 14, 'jov fisic': 22, 'fisic anos': 16, 'anos llam': 3, 'llam wern': 24, 'wern heisenberg': 38, 'heisenberg provoc': 20, 'provoc avalanch': 30, 'avalanch articul': 7, 'articul cientif': 5, 'cientif revolucion': 9, 'revolucion mund': 34, 'mund par': 26, 'par frustracion': 28, 'frustracion albert': 18, 'albert einstein': 1}",
         "{'teori': 35, 'despeg': 10, 'public': 31, 'firm': 13, 'jov': 21, 'fisic': 15, 'llam': 23, 'wern': 37, 'heisenberg': 19, 'provoc': 29, 'avalanch': 6, 'articul': 4, 'cientif': 8, 'revolucion': 33, 'mund': 25, 'par': 27, 'frustracion': 17, 'einstein': 12, 'teori despeg': 36, 'despeg public': 11, 'public firm': 32, 'firm jov': 14, 'jov fisic': 22, 'fisic anos': 16, 'anos llam': 3, 'llam wern': 24, 'wern heisenberg': 38, 'heisenberg provoc': 20, 'provoc avalanch': 30, 'avalanch articul': 7, 'articul cientif': 5, 'cientif revolucion': 9, 'revolucion mund': 34, 'mund par': 26, 'par frustracion': 28, 'frustracion albert': 18}"
        ],
        [
         "32",
         "las densas hebras de plantas marinas atrapan los trozos de plastico del mar dando forma a las pelotas de neptuno",
         "True",
         "las dens hebr de plant marin atrap los troz de plastic del mar dand form a las pelot de neptun",
         "{'dens': 4, 'hebr': 8, 'plant': 17, 'marin': 12, 'atrap': 0, 'troz': 21, 'plastic': 19, 'mar': 10, 'dand': 2, 'form': 6, 'pelot': 15, 'neptun': 14, 'dens hebr': 5, 'hebr plant': 9, 'plant marin': 18, 'marin atrap': 13, 'atrap troz': 1, 'troz plastic': 22, 'plastic mar': 20, 'mar dand': 11, 'dand form': 3, 'form pelot': 7, 'pelot neptun': 16}",
         "{'dens': 4, 'hebr': 8, 'plant': 17, 'marin': 12, 'troz': 21, 'plastic': 19, 'mar': 10, 'form': 6, 'pelot': 15, 'neptun': 14, 'dens hebr': 5, 'hebr plant': 9, 'plant marin': 18, 'marin atrap': 13, 'troz plastic': 22, 'plastic mar': 20, 'mar dand': 11, 'dand form': 3, 'form pelot': 7, 'pelot neptun': 16}"
        ],
        [
         "33",
         "los incendios que azotaron a espana afectaron un paraje cuya fisonomia fue alterada radicalmente por los romanos hace anos",
         "True",
         "los incendi que azot a espan afect un paraj cuy fisonomi fue alter radical por los roman hac anos",
         "{'incendi': 15, 'azot': 5, 'espan': 9, 'afect': 0, 'paraj': 17, 'cuy': 7, 'fisonomi': 11, 'alter': 2, 'radical': 19, 'roman': 21, 'hac': 13, 'anos': 4, 'incendi azot': 16, 'azot espan': 6, 'espan afect': 10, 'afect paraj': 1, 'paraj cuy': 18, 'cuy fisonomi': 8, 'fisonomi alter': 12, 'alter radical': 3, 'radical roman': 20, 'roman hac': 22, 'hac anos': 14}",
         "{'incendi': 15, 'azot': 5, 'espan': 9, 'paraj': 17, 'cuy': 7, 'fisonomi': 11, 'radical': 19, 'roman': 21, 'hac': 13, 'anos': 4, 'incendi azot': 16, 'azot espan': 6, 'espan afect': 10, 'paraj cuy': 18, 'cuy fisonomi': 8, 'fisonomi alter': 12, 'alter radical': 3, 'radical roman': 20, 'roman hac': 22, 'hac anos': 14}"
        ],
        [
         "34",
         "al deshacerse de lo que no tiene fin y de numeros absurdamente grandes todo se facilita alegan",
         "True",
         "al deshac de lo que no tien fin y de numer absurd grand tod se facilit aleg",
         "{'deshac': 3, 'tien': 11, 'numer': 9, 'absurd': 0, 'grand': 7, 'tod': 13, 'facilit': 5, 'aleg': 2, 'deshac tien': 4, 'tien numer': 12, 'numer absurd': 10, 'absurd grand': 1, 'grand tod': 8, 'tod facilit': 14, 'facilit aleg': 6}",
         "{'deshac': 3, 'tien': 11, 'numer': 9, 'grand': 7, 'tod': 13, 'facilit': 5, 'deshac tien': 4, 'tien numer': 12, 'numer absurd': 10, 'grand tod': 8, 'tod facilit': 14, 'facilit aleg': 6}"
        ],
        [
         "35",
         "a pesar de lo peligrosa que puede ser la sal es importante para el buen funcionamiento de nuestro organismo",
         "True",
         "a pes de lo peligr que pued ser la sal es import par el buen funcion de nuestr organ",
         "{'pes': 11, 'peligr': 9, 'pued': 13, 'sal': 15, 'import': 2, 'par': 7, 'funcion': 0, 'nuestr': 4, 'organ': 6, 'pes peligr': 12, 'peligr pued': 10, 'pued sal': 14, 'sal import': 16, 'import par': 3, 'par funcion': 8, 'funcion nuestr': 1, 'nuestr organ': 5}",
         "{'pes': 11, 'peligr': 9, 'pued': 13, 'sal': 15, 'par': 7, 'nuestr': 4, 'organ': 6, 'pes peligr': 12, 'peligr pued': 10, 'pued sal': 14, 'sal import': 16, 'import par': 3, 'par funcion': 8, 'nuestr organ': 5}"
        ],
        [
         "36",
         "el informe muestra que aproximadamente uno de cada diez ninos de entre y anos vive con obesidad",
         "True",
         "el inform muestr que aproxim uno de cad diez nin de entre y anos viv con obes",
         "{'inform': 6, 'muestr': 8, 'aproxim': 2, 'cad': 4, 'nin': 10, 'anos': 0, 'viv': 13, 'obes': 12, 'inform muestr': 7, 'muestr aproxim': 9, 'aproxim cad': 3, 'cad nin': 5, 'nin anos': 11, 'anos viv': 1, 'viv obes': 14}",
         "{'inform': 6, 'muestr': 8, 'cad': 4, 'nin': 10, 'viv': 13, 'obes': 12, 'inform muestr': 7, 'muestr aproxim': 9, 'aproxim cad': 3, 'cad nin': 5, 'nin anos': 11, 'viv obes': 14}"
        ],
        [
         "37",
         "la extraordinaria historia de una sobreviviente de cancer ciega que se sometio a un triple trasplante de corazon rinon e higado",
         "True",
         "la extraordinari histori de una sobrevivient de canc cieg que se someti a un tripl trasplant de corazon rinon e hig",
         "{'extraordinari': 6, 'histori': 9, 'sobrevivient': 13, 'canc': 0, 'cieg': 2, 'someti': 15, 'tripl': 19, 'trasplant': 17, 'corazon': 4, 'rinon': 11, 'hig': 8, 'extraordinari histori': 7, 'histori sobrevivient': 10, 'sobrevivient canc': 14, 'canc cieg': 1, 'cieg someti': 3, 'someti tripl': 16, 'tripl trasplant': 20, 'trasplant corazon': 18, 'corazon rinon': 5, 'rinon hig': 12}",
         "{'extraordinari': 6, 'histori': 9, 'sobrevivient': 13, 'someti': 15, 'tripl': 19, 'trasplant': 17, 'corazon': 4, 'rinon': 11, 'hig': 8, 'extraordinari histori': 7, 'histori sobrevivient': 10, 'sobrevivient canc': 14, 'cieg someti': 3, 'someti tripl': 16, 'tripl trasplant': 20, 'trasplant corazon': 18, 'corazon rinon': 5, 'rinon hig': 12}"
        ],
        [
         "38",
         "tan dominante es la cultura de sin esfuerzo no hay ganancia que muchas veces pasamos por alto las ventajas de hacer ejercicio ligero",
         "True",
         "tan domin es la cultur de sin esfuerz no hay gananci que much vec pas por alto las ventaj de hac ejercici liger",
         "{'domin': 4, 'cultur': 2, 'esfuerz': 8, 'gananci': 10, 'much': 15, 'vec': 19, 'pas': 17, 'alto': 0, 'ventaj': 21, 'hac': 12, 'ejercici': 6, 'liger': 14, 'domin cultur': 5, 'cultur esfuerz': 3, 'esfuerz gananci': 9, 'gananci much': 11, 'much vec': 16, 'vec pas': 20, 'pas alto': 18, 'alto ventaj': 1, 'ventaj hac': 22, 'hac ejercici': 13, 'ejercici liger': 7}",
         "{'domin': 4, 'esfuerz': 8, 'gananci': 10, 'much': 15, 'vec': 19, 'pas': 17, 'ventaj': 21, 'hac': 12, 'ejercici': 6, 'liger': 14, 'domin cultur': 5, 'cultur esfuerz': 3, 'esfuerz gananci': 9, 'gananci much': 11, 'much vec': 16, 'vec pas': 20, 'pas alto': 18, 'ventaj hac': 22, 'hac ejercici': 13, 'ejercici liger': 7}"
        ],
        [
         "39",
         "la reina clasica es superada por otras maravillas con sabores unicos historias ricas y beneficios para la salud",
         "True",
         "la rein clasic es super por otras maravill con sabor unic histori ric y benefici par la salud",
         "{'rein': 10, 'clasic': 2, 'super': 17, 'maravill': 6, 'sabor': 14, 'unic': 19, 'histori': 4, 'ric': 12, 'benefici': 0, 'par': 8, 'salud': 16, 'rein clasic': 11, 'clasic super': 3, 'super maravill': 18, 'maravill sabor': 7, 'sabor unic': 15, 'unic histori': 20, 'histori ric': 5, 'ric benefici': 13, 'benefici par': 1, 'par salud': 9}",
         "{'rein': 10, 'super': 17, 'maravill': 6, 'sabor': 14, 'unic': 19, 'histori': 4, 'ric': 12, 'par': 8, 'salud': 16, 'rein clasic': 11, 'clasic super': 3, 'super maravill': 18, 'maravill sabor': 7, 'sabor unic': 15, 'unic histori': 20, 'histori ric': 5, 'ric benefici': 13, 'par salud': 9}"
        ],
        [
         "40",
         "choi malja tenia anos cuando fue declarada culpable de lesiones corporales graves su agresor de anos recibio una pena menor que ella",
         "True",
         "choi malj teni anos cuand fue declar culpabl de lesion corporal grav su agresor de anos recibi una pen menor que ella",
         "{'choi': 5, 'malj': 19, 'teni': 26, 'anos': 2, 'cuand': 9, 'declar': 13, 'culpabl': 11, 'lesion': 17, 'corporal': 7, 'grav': 15, 'agresor': 0, 'recibi': 24, 'pen': 22, 'menor': 21, 'choi malj': 6, 'malj teni': 20, 'teni anos': 27, 'anos cuand': 3, 'cuand declar': 10, 'declar culpabl': 14, 'culpabl lesion': 12, 'lesion corporal': 18, 'corporal grav': 8, 'grav agresor': 16, 'agresor anos': 1, 'anos recibi': 4, 'recibi pen': 25, 'pen menor': 23}",
         "{'choi': 5, 'malj': 19, 'teni': 26, 'cuand': 9, 'declar': 13, 'culpabl': 11, 'lesion': 17, 'corporal': 7, 'grav': 15, 'recibi': 24, 'pen': 22, 'menor': 21, 'choi malj': 6, 'malj teni': 20, 'teni anos': 27, 'anos cuand': 3, 'cuand declar': 10, 'declar culpabl': 14, 'culpabl lesion': 12, 'lesion corporal': 18, 'corporal grav': 8, 'grav agresor': 16, 'anos recibi': 4, 'recibi pen': 25, 'pen menor': 23}"
        ],
        [
         "41",
         "concentraciones huelgas de hambre e incluso un boicot de la industria cinematografica han surgido como modo de protesta contra las acciones de israel en la franja de gaza",
         "True",
         "concentr huelg de hambr e inclus un boicot de la industri cinematograf han surg com mod de protest contr las accion de israel en la franj de gaz",
         "{'concentr': 8, 'huelg': 17, 'hambr': 15, 'inclus': 19, 'boicot': 2, 'industri': 21, 'cinematograf': 4, 'surg': 29, 'com': 6, 'mod': 25, 'protest': 27, 'contr': 10, 'accion': 0, 'israel': 23, 'franj': 12, 'gaz': 14, 'concentr huelg': 9, 'huelg hambr': 18, 'hambr inclus': 16, 'inclus boicot': 20, 'boicot industri': 3, 'industri cinematograf': 22, 'cinematograf surg': 5, 'surg com': 30, 'com mod': 7, 'mod protest': 26, 'protest contr': 28, 'contr accion': 11, 'accion israel': 1, 'israel franj': 24, 'franj gaz': 13}",
         "{'concentr': 8, 'huelg': 17, 'hambr': 15, 'inclus': 19, 'industri': 21, 'cinematograf': 4, 'surg': 29, 'com': 6, 'mod': 25, 'protest': 27, 'contr': 10, 'israel': 23, 'franj': 12, 'gaz': 14, 'concentr huelg': 9, 'huelg hambr': 18, 'hambr inclus': 16, 'inclus boicot': 20, 'boicot industri': 3, 'industri cinematograf': 22, 'cinematograf surg': 5, 'surg com': 30, 'com mod': 7, 'mod protest': 26, 'protest contr': 28, 'contr accion': 11, 'israel franj': 24, 'franj gaz': 13}"
        ],
        [
         "42",
         "en su libro macho menos el periodista nacho lozano se pregunta ¿es posible aprender a no ser macho",
         "True",
         "en su libr mach men el period nach lozan se pregunt es posibl aprend a no ser mach",
         "{'libr': 2, 'mach': 6, 'men': 8, 'period': 12, 'nach': 10, 'lozan': 4, 'pregunt': 16, 'posibl': 14, 'aprend': 0, 'libr mach': 3, 'mach men': 7, 'men period': 9, 'period nach': 13, 'nach lozan': 11, 'lozan pregunt': 5, 'pregunt posibl': 17, 'posibl aprend': 15, 'aprend mach': 1}",
         "{'mach': 6, 'men': 8, 'period': 12, 'nach': 10, 'lozan': 4, 'pregunt': 16, 'posibl': 14, 'libr mach': 3, 'mach men': 7, 'men period': 9, 'period nach': 13, 'nach lozan': 11, 'lozan pregunt': 5, 'pregunt posibl': 17, 'posibl aprend': 15}"
        ],
        [
         "43",
         "una aventura impulsada por las ideas de nietzsche llevo a varios europeos a una isla de galapagos pero no todo termino bien para muchos de ellos",
         "True",
         "una aventur impuls por las ide de nietzsch llev a vari europe a una isla de galapag per no tod termin bien par much de ellos",
         "{'aventur': 0, 'impuls': 8, 'ide': 6, 'nietzsch': 15, 'llev': 12, 'vari': 25, 'europe': 2, 'isla': 10, 'galapag': 4, 'per': 19, 'tod': 23, 'termin': 21, 'par': 17, 'much': 14, 'aventur impuls': 1, 'impuls ide': 9, 'ide nietzsch': 7, 'nietzsch llev': 16, 'llev vari': 13, 'vari europe': 26, 'europe isla': 3, 'isla galapag': 11, 'galapag per': 5, 'per tod': 20, 'tod termin': 24, 'termin par': 22, 'par much': 18}",
         "{'impuls': 8, 'ide': 6, 'nietzsch': 15, 'llev': 12, 'vari': 25, 'isla': 10, 'galapag': 4, 'per': 19, 'tod': 23, 'termin': 21, 'par': 17, 'much': 14, 'impuls ide': 9, 'ide nietzsch': 7, 'nietzsch llev': 16, 'llev vari': 13, 'vari europe': 26, 'europe isla': 3, 'isla galapag': 11, 'galapag per': 5, 'per tod': 20, 'tod termin': 24, 'termin par': 22, 'par much': 18}"
        ],
        [
         "44",
         "en la decada de surgio kaliman el primer superheroe de los comics mexicanos cuya popularidad se hizo insuperable una nueva edicion revive el mito del hombre increible",
         "True",
         "en la dec de surgi kalim el prim superhero de los comics mexican cuy popular se hiz insuper una nuev edicion reviv el mit del hombr increibl",
         "{'dec': 4, 'surgi': 31, 'kalim': 15, 'prim': 25, 'superhero': 29, 'comics': 0, 'mexican': 17, 'cuy': 2, 'popular': 23, 'hiz': 8, 'insuper': 13, 'nuev': 21, 'edicion': 6, 'reviv': 27, 'mit': 19, 'hombr': 10, 'increibl': 12, 'dec surgi': 5, 'surgi kalim': 32, 'kalim prim': 16, 'prim superhero': 26, 'superhero comics': 30, 'comics mexican': 1, 'mexican cuy': 18, 'cuy popular': 3, 'popular hiz': 24, 'hiz insuper': 9, 'insuper nuev': 14, 'nuev edicion': 22, 'edicion reviv': 7, 'reviv mit': 28, 'mit hombr': 20, 'hombr increibl': 11}",
         "{'dec': 4, 'surgi': 31, 'kalim': 15, 'prim': 25, 'superhero': 29, 'mexican': 17, 'popular': 23, 'hiz': 8, 'insuper': 13, 'nuev': 21, 'edicion': 6, 'reviv': 27, 'mit': 19, 'hombr': 10, 'increibl': 12, 'dec surgi': 5, 'surgi kalim': 32, 'kalim prim': 16, 'prim superhero': 26, 'superhero comics': 30, 'mexican cuy': 18, 'cuy popular': 3, 'popular hiz': 24, 'hiz insuper': 9, 'insuper nuev': 14, 'nuev edicion': 22, 'edicion reviv': 7, 'reviv mit': 28, 'mit hombr': 20, 'hombr increibl': 11}"
        ],
        [
         "45",
         "lachlan murdoch retendra el control del imperio conservador fox and news corp segun el acuerdo logrado con sus hermanos",
         "True",
         "lachl murdoch retendr el control del imperi conserv fox and news corp segun el acuerd logr con sus herman",
         "{'lachl': 15, 'murdoch': 19, 'retendr': 23, 'control': 6, 'imperi': 13, 'conserv': 4, 'fox': 10, 'and': 2, 'news': 21, 'corp': 8, 'acuerd': 0, 'logr': 17, 'herman': 12, 'lachl murdoch': 16, 'murdoch retendr': 20, 'retendr control': 24, 'control imperi': 7, 'imperi conserv': 14, 'conserv fox': 5, 'fox and': 11, 'and news': 3, 'news corp': 22, 'corp acuerd': 9, 'acuerd logr': 1, 'logr herman': 18}",
         "{'lachl': 15, 'murdoch': 19, 'retendr': 23, 'control': 6, 'imperi': 13, 'conserv': 4, 'fox': 10, 'news': 21, 'corp': 8, 'logr': 17, 'herman': 12, 'lachl murdoch': 16, 'murdoch retendr': 20, 'retendr control': 24, 'control imperi': 7, 'imperi conserv': 14, 'conserv fox': 5, 'fox and': 11, 'and news': 3, 'news corp': 22, 'corp acuerd': 9, 'logr herman': 18}"
        ],
        [
         "46",
         "en su ensayo “la era de la revancha” el periodista andrea rizzi analiza la division entre las clases populares y las elites y el resentimiento social en la sociedad hoy en dia",
         "True",
         "en su ensay la era de la revanch el period andre rizzi analiz la division entre las clas popular y las elit y el resent social en la socied hoy en dia",
         "{'ensay': 10, 'revanch': 18, 'period': 12, 'andre': 2, 'rizzi': 20, 'analiz': 0, 'division': 6, 'clas': 4, 'popular': 14, 'elit': 8, 'resent': 16, 'social': 22, 'socied': 24, 'ensay revanch': 11, 'revanch period': 19, 'period andre': 13, 'andre rizzi': 3, 'rizzi analiz': 21, 'analiz division': 1, 'division clas': 7, 'clas popular': 5, 'popular elit': 15, 'elit resent': 9, 'resent social': 17, 'social socied': 23}",
         "{'ensay': 10, 'revanch': 18, 'period': 12, 'rizzi': 20, 'division': 6, 'clas': 4, 'popular': 14, 'elit': 8, 'resent': 16, 'social': 22, 'socied': 24, 'ensay revanch': 11, 'revanch period': 19, 'period andre': 13, 'andre rizzi': 3, 'rizzi analiz': 21, 'division clas': 7, 'clas popular': 5, 'popular elit': 15, 'elit resent': 9, 'resent social': 17, 'social socied': 23}"
        ],
        [
         "47",
         "anguila lleva mucho tiempo obteniendo ingresos de los viajes de lujo pero recientemente se empezo a beneficiar de su direccion web",
         "True",
         "anguil llev much tiemp obten ingres de los viaj de luj per recient se empez a benefici de su direccion web",
         "{'anguil': 0, 'llev': 10, 'much': 14, 'tiemp': 22, 'obten': 16, 'ingres': 8, 'viaj': 24, 'luj': 12, 'per': 18, 'recient': 20, 'empez': 6, 'benefici': 2, 'direccion': 4, 'web': 26, 'anguil llev': 1, 'llev much': 11, 'much tiemp': 15, 'tiemp obten': 23, 'obten ingres': 17, 'ingres viaj': 9, 'viaj luj': 25, 'luj per': 13, 'per recient': 19, 'recient empez': 21, 'empez benefici': 7, 'benefici direccion': 3, 'direccion web': 5}",
         "{'llev': 10, 'much': 14, 'tiemp': 22, 'obten': 16, 'ingres': 8, 'viaj': 24, 'luj': 12, 'per': 18, 'recient': 20, 'empez': 6, 'direccion': 4, 'web': 26, 'llev much': 11, 'much tiemp': 15, 'tiemp obten': 23, 'obten ingres': 17, 'ingres viaj': 9, 'viaj luj': 25, 'luj per': 13, 'per recient': 19, 'recient empez': 21, 'empez benefici': 7, 'benefici direccion': 3, 'direccion web': 5}"
        ],
        [
         "48",
         "el gigante alimentario afirma que laurent freixe tenia una relacion no revelada con una subordinada directa",
         "True",
         "el gigant alimentari afirm que laurent freix teni una relacion no revel con una subordin direct",
         "{'gigant': 7, 'alimentari': 2, 'afirm': 0, 'laurent': 9, 'freix': 5, 'teni': 17, 'relacion': 11, 'revel': 13, 'subordin': 15, 'direct': 4, 'gigant alimentari': 8, 'alimentari afirm': 3, 'afirm laurent': 1, 'laurent freix': 10, 'freix teni': 6, 'teni relacion': 18, 'relacion revel': 12, 'revel subordin': 14, 'subordin direct': 16}",
         "{'gigant': 7, 'laurent': 9, 'freix': 5, 'teni': 17, 'relacion': 11, 'revel': 13, 'subordin': 15, 'direct': 4, 'gigant alimentari': 8, 'alimentari afirm': 3, 'laurent freix': 10, 'freix teni': 6, 'teni relacion': 18, 'relacion revel': 12, 'revel subordin': 14, 'subordin direct': 16}"
        ],
        [
         "49",
         "el director de oportunidades economicas de linkedin da sus consejos sobre como deben enfrentarse los jovenes al nuevo mercado laboral tras la irrupcion de la ia",
         "True",
         "el director de oportun econom de linkedin da sus consej sobr com deb enfrent los joven al nuev merc laboral tras la irrupcion de la ia",
         "{'director': 6, 'oportun': 25, 'econom': 8, 'linkedin': 19, 'consej': 2, 'sobr': 27, 'com': 0, 'deb': 4, 'enfrent': 10, 'joven': 15, 'nuev': 23, 'merc': 21, 'laboral': 17, 'irrupcion': 13, 'ia': 12, 'director oportun': 7, 'oportun econom': 26, 'econom linkedin': 9, 'linkedin consej': 20, 'consej sobr': 3, 'sobr com': 28, 'com deb': 1, 'deb enfrent': 5, 'enfrent joven': 11, 'joven nuev': 16, 'nuev merc': 24, 'merc laboral': 22, 'laboral irrupcion': 18, 'irrupcion ia': 14}",
         "{'director': 6, 'oportun': 25, 'econom': 8, 'linkedin': 19, 'sobr': 27, 'deb': 4, 'enfrent': 10, 'joven': 15, 'nuev': 23, 'merc': 21, 'laboral': 17, 'irrupcion': 13, 'ia': 12, 'director oportun': 7, 'oportun econom': 26, 'econom linkedin': 9, 'linkedin consej': 20, 'consej sobr': 3, 'sobr com': 28, 'deb enfrent': 5, 'enfrent joven': 11, 'joven nuev': 16, 'nuev merc': 24, 'merc laboral': 22, 'laboral irrupcion': 18, 'irrupcion ia': 14}"
        ]
       ],
       "shape": {
        "columns": 5,
        "rows": 5568
       }
      },
      "text/html": [
       "<div>\n",
       "<style scoped>\n",
       "    .dataframe tbody tr th:only-of-type {\n",
       "        vertical-align: middle;\n",
       "    }\n",
       "\n",
       "    .dataframe tbody tr th {\n",
       "        vertical-align: top;\n",
       "    }\n",
       "\n",
       "    .dataframe thead th {\n",
       "        text-align: right;\n",
       "    }\n",
       "</style>\n",
       "<table border=\"1\" class=\"dataframe\">\n",
       "  <thead>\n",
       "    <tr style=\"text-align: right;\">\n",
       "      <th></th>\n",
       "      <th>text</th>\n",
       "      <th>label</th>\n",
       "      <th>texto_limpio</th>\n",
       "      <th>sin_stopwords</th>\n",
       "      <th>frecuencia&lt;3</th>\n",
       "    </tr>\n",
       "  </thead>\n",
       "  <tbody>\n",
       "    <tr>\n",
       "      <th>0</th>\n",
       "      <td>en una rueda de prensa las autoridades dijeron...</td>\n",
       "      <td>True</td>\n",
       "      <td>en una rued de prens las autor dijeron que los...</td>\n",
       "      <td>{'rued': 19, 'prens': 13, 'autor': 0, 'familia...</td>\n",
       "      <td>{'rued': 19, 'prens': 13, 'familiar': 6, 'robi...</td>\n",
       "    </tr>\n",
       "    <tr>\n",
       "      <th>1</th>\n",
       "      <td>una operacion en la que las autoridades irland...</td>\n",
       "      <td>True</td>\n",
       "      <td>una oper en la que las autor irlandes decomis ...</td>\n",
       "      <td>{'oper': 17, 'autor': 0, 'irlandes': 13, 'deco...</td>\n",
       "      <td>{'oper': 17, 'irlandes': 13, 'decomis': 4, 'to...</td>\n",
       "    </tr>\n",
       "    <tr>\n",
       "      <th>2</th>\n",
       "      <td>el nuevo informe se basa en mas de entrevistas...</td>\n",
       "      <td>True</td>\n",
       "      <td>el nuev inform se bas en mas de entrev con per...</td>\n",
       "      <td>{'nuev': 13, 'inform': 9, 'bas': 1, 'entrev': ...</td>\n",
       "      <td>{'nuev': 13, 'inform': 9, 'entrev': 5, 'person...</td>\n",
       "    </tr>\n",
       "    <tr>\n",
       "      <th>3</th>\n",
       "      <td>las pruebas hechas a varias de las principales...</td>\n",
       "      <td>True</td>\n",
       "      <td>las prueb hech a vari de las principal marc ar...</td>\n",
       "      <td>{'prueb': 9, 'hech': 2, 'vari': 13, 'principal...</td>\n",
       "      <td>{'prueb': 9, 'vari': 13, 'principal': 7, 'marc...</td>\n",
       "    </tr>\n",
       "    <tr>\n",
       "      <th>4</th>\n",
       "      <td>michelle y john wylie estuvieron buscando dura...</td>\n",
       "      <td>True</td>\n",
       "      <td>michell y john wyli estuv busc durant anos a u...</td>\n",
       "      <td>{'michell': 15, 'john': 13, 'wyli': 21, 'estuv...</td>\n",
       "      <td>{'michell': 15, 'john': 13, 'wyli': 21, 'estuv...</td>\n",
       "    </tr>\n",
       "    <tr>\n",
       "      <th>...</th>\n",
       "      <td>...</td>\n",
       "      <td>...</td>\n",
       "      <td>...</td>\n",
       "      <td>...</td>\n",
       "      <td>...</td>\n",
       "    </tr>\n",
       "    <tr>\n",
       "      <th>5563</th>\n",
       "      <td>manuela carmena pide a los madrilenos que guar...</td>\n",
       "      <td>False</td>\n",
       "      <td>manuel carmen pid a los madrilen que guard las...</td>\n",
       "      <td>{'manuel': 15, 'carmen': 4, 'pid': 19, 'madril...</td>\n",
       "      <td>{'manuel': 15, 'carmen': 4, 'pid': 19, 'madril...</td>\n",
       "    </tr>\n",
       "    <tr>\n",
       "      <th>5564</th>\n",
       "      <td>a solo unas horas de dejar el poder el expresi...</td>\n",
       "      <td>False</td>\n",
       "      <td>a sol unas hor de dej el pod el expresident en...</td>\n",
       "      <td>{'sol': 306, 'hor': 170, 'dej': 72, 'pod': 269...</td>\n",
       "      <td>{'sol': 306, 'hor': 170, 'dej': 72, 'pod': 269...</td>\n",
       "    </tr>\n",
       "    <tr>\n",
       "      <th>5565</th>\n",
       "      <td>hartos de ser senalados como unos eternos segu...</td>\n",
       "      <td>False</td>\n",
       "      <td>hart de ser senal com unos etern segundon sin ...</td>\n",
       "      <td>{'hart': 172, 'senal': 350, 'com': 59, 'etern'...</td>\n",
       "      <td>{'hart': 172, 'senal': 350, 'com': 59, 'etern'...</td>\n",
       "    </tr>\n",
       "    <tr>\n",
       "      <th>5566</th>\n",
       "      <td>multan a un ultrasur por lanzar a un jugador d...</td>\n",
       "      <td>False</td>\n",
       "      <td>mult a un ultrasur por lanz a un jugador del b...</td>\n",
       "      <td>{'mult': 117, 'ultrasur': 160, 'lanz': 93, 'ju...</td>\n",
       "      <td>{'mult': 117, 'ultrasur': 160, 'lanz': 93, 'ju...</td>\n",
       "    </tr>\n",
       "    <tr>\n",
       "      <th>5567</th>\n",
       "      <td>diez reglas basicas para que tu casa cumpla lo...</td>\n",
       "      <td>False</td>\n",
       "      <td>diez regl basic par que tu cas cumpl los princ...</td>\n",
       "      <td>{'regl': 379, 'basic': 49, 'par': 321, 'cas': ...</td>\n",
       "      <td>{'regl': 379, 'basic': 49, 'par': 321, 'cas': ...</td>\n",
       "    </tr>\n",
       "  </tbody>\n",
       "</table>\n",
       "<p>5568 rows × 5 columns</p>\n",
       "</div>"
      ],
      "text/plain": [
       "                                                   text  label  \\\n",
       "0     en una rueda de prensa las autoridades dijeron...   True   \n",
       "1     una operacion en la que las autoridades irland...   True   \n",
       "2     el nuevo informe se basa en mas de entrevistas...   True   \n",
       "3     las pruebas hechas a varias de las principales...   True   \n",
       "4     michelle y john wylie estuvieron buscando dura...   True   \n",
       "...                                                 ...    ...   \n",
       "5563  manuela carmena pide a los madrilenos que guar...  False   \n",
       "5564  a solo unas horas de dejar el poder el expresi...  False   \n",
       "5565  hartos de ser senalados como unos eternos segu...  False   \n",
       "5566  multan a un ultrasur por lanzar a un jugador d...  False   \n",
       "5567  diez reglas basicas para que tu casa cumpla lo...  False   \n",
       "\n",
       "                                           texto_limpio  \\\n",
       "0     en una rued de prens las autor dijeron que los...   \n",
       "1     una oper en la que las autor irlandes decomis ...   \n",
       "2     el nuev inform se bas en mas de entrev con per...   \n",
       "3     las prueb hech a vari de las principal marc ar...   \n",
       "4     michell y john wyli estuv busc durant anos a u...   \n",
       "...                                                 ...   \n",
       "5563  manuel carmen pid a los madrilen que guard las...   \n",
       "5564  a sol unas hor de dej el pod el expresident en...   \n",
       "5565  hart de ser senal com unos etern segundon sin ...   \n",
       "5566  mult a un ultrasur por lanz a un jugador del b...   \n",
       "5567  diez regl basic par que tu cas cumpl los princ...   \n",
       "\n",
       "                                          sin_stopwords  \\\n",
       "0     {'rued': 19, 'prens': 13, 'autor': 0, 'familia...   \n",
       "1     {'oper': 17, 'autor': 0, 'irlandes': 13, 'deco...   \n",
       "2     {'nuev': 13, 'inform': 9, 'bas': 1, 'entrev': ...   \n",
       "3     {'prueb': 9, 'hech': 2, 'vari': 13, 'principal...   \n",
       "4     {'michell': 15, 'john': 13, 'wyli': 21, 'estuv...   \n",
       "...                                                 ...   \n",
       "5563  {'manuel': 15, 'carmen': 4, 'pid': 19, 'madril...   \n",
       "5564  {'sol': 306, 'hor': 170, 'dej': 72, 'pod': 269...   \n",
       "5565  {'hart': 172, 'senal': 350, 'com': 59, 'etern'...   \n",
       "5566  {'mult': 117, 'ultrasur': 160, 'lanz': 93, 'ju...   \n",
       "5567  {'regl': 379, 'basic': 49, 'par': 321, 'cas': ...   \n",
       "\n",
       "                                           frecuencia<3  \n",
       "0     {'rued': 19, 'prens': 13, 'familiar': 6, 'robi...  \n",
       "1     {'oper': 17, 'irlandes': 13, 'decomis': 4, 'to...  \n",
       "2     {'nuev': 13, 'inform': 9, 'entrev': 5, 'person...  \n",
       "3     {'prueb': 9, 'vari': 13, 'principal': 7, 'marc...  \n",
       "4     {'michell': 15, 'john': 13, 'wyli': 21, 'estuv...  \n",
       "...                                                 ...  \n",
       "5563  {'manuel': 15, 'carmen': 4, 'pid': 19, 'madril...  \n",
       "5564  {'sol': 306, 'hor': 170, 'dej': 72, 'pod': 269...  \n",
       "5565  {'hart': 172, 'senal': 350, 'com': 59, 'etern'...  \n",
       "5566  {'mult': 117, 'ultrasur': 160, 'lanz': 93, 'ju...  \n",
       "5567  {'regl': 379, 'basic': 49, 'par': 321, 'cas': ...  \n",
       "\n",
       "[5568 rows x 5 columns]"
      ]
     },
     "execution_count": 22,
     "metadata": {},
     "output_type": "execute_result"
    }
   ],
   "source": [
    "df"
   ]
  },
  {
   "cell_type": "code",
   "execution_count": 23,
   "id": "330f8a37",
   "metadata": {},
   "outputs": [],
   "source": [
    "df.to_csv(f\"{BASE_DIR}/src/data/extraccion_caracteristicas/extraccion_caracteristicas.csv\", index=False)"
   ]
  }
 ],
 "metadata": {
  "kernelspec": {
   "display_name": "silknews (3.13.7)",
   "language": "python",
   "name": "python3"
  },
  "language_info": {
   "codemirror_mode": {
    "name": "ipython",
    "version": 3
   },
   "file_extension": ".py",
   "mimetype": "text/x-python",
   "name": "python",
   "nbconvert_exporter": "python",
   "pygments_lexer": "ipython3",
   "version": "3.13.7"
  }
 },
 "nbformat": 4,
 "nbformat_minor": 5
}

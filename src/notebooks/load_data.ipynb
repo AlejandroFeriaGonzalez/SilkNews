{
 "cells": [
  {
   "cell_type": "code",
   "execution_count": 20,
   "id": "23ee37bb",
   "metadata": {},
   "outputs": [],
   "source": [
    "import pandas as pd"
   ]
  },
  {
   "cell_type": "code",
   "execution_count": 21,
   "id": "0f65519a",
   "metadata": {},
   "outputs": [],
   "source": [
    "noticias_falsas: list[str] = []\n",
    "noticias_verdaderas: list[str] = []"
   ]
  },
  {
   "cell_type": "markdown",
   "id": "f4c2fd41",
   "metadata": {},
   "source": [
    "# DF1\n",
    "https://www.kaggle.com/datasets/arseniitretiakov/noticias-falsas-en-espaol/"
   ]
  },
  {
   "cell_type": "code",
   "execution_count": 22,
   "id": "fd0ea812",
   "metadata": {},
   "outputs": [
    {
     "name": "stdout",
     "output_type": "stream",
     "text": [
      "Noticias falsas: 1000, Noticias verdaderas: 1000\n"
     ]
    }
   ],
   "source": [
    "onlyfakes100 = pd.read_csv('../data/onlyfakes1000.csv')\n",
    "onlytrue100 = pd.read_csv('../data/onlytrue1000.csv')\n",
    "noticias_falsas.extend(onlyfakes100['text'].tolist())\n",
    "noticias_verdaderas.extend(onlytrue100['text'].tolist())\n",
    "print(f\"Noticias falsas: {len(noticias_falsas)}, Noticias verdaderas: {len(noticias_verdaderas)}\")"
   ]
  },
  {
   "cell_type": "markdown",
   "id": "f8e042f8",
   "metadata": {},
   "source": [
    "# DF2\n",
    "https://www.kaggle.com/datasets/zulanac/fake-and-real-news"
   ]
  },
  {
   "cell_type": "code",
   "execution_count": 23,
   "id": "595171bc",
   "metadata": {},
   "outputs": [
    {
     "name": "stdout",
     "output_type": "stream",
     "text": [
      "Noticias falsas: 1233, Noticias verdaderas: 1305\n"
     ]
    }
   ],
   "source": [
    "spanishFakeNews = pd.read_csv('../data/spanishFakeNews.csv')\n",
    "noticias_falsas.extend(spanishFakeNews[spanishFakeNews['clase'] == 'fake']['texto'].tolist())\n",
    "noticias_verdaderas.extend(spanishFakeNews[spanishFakeNews['clase'] == 'real']['texto'].tolist())\n",
    "print(f\"Noticias falsas: {len(noticias_falsas)}, Noticias verdaderas: {len(noticias_verdaderas)}\")"
   ]
  },
  {
   "cell_type": "code",
   "execution_count": 24,
   "id": "a3bb1b3a",
   "metadata": {},
   "outputs": [
    {
     "name": "stdout",
     "output_type": "stream",
     "text": [
      "Noticias falsas: 1259, Noticias verdaderas: 1339\n"
     ]
    }
   ],
   "source": [
    "spanishFakeNews2 = pd.read_csv('../data/testSpanishFakeNews.csv')\n",
    "noticias_falsas.extend(spanishFakeNews2[spanishFakeNews2['clase'] == 'fake']['texto'].tolist())\n",
    "noticias_verdaderas.extend(spanishFakeNews2[spanishFakeNews2['clase'] == 'real']['texto'].tolist())\n",
    "print(f\"Noticias falsas: {len(noticias_falsas)}, Noticias verdaderas: {len(noticias_verdaderas)}\")"
   ]
  },
  {
   "cell_type": "markdown",
   "id": "a5e6731c",
   "metadata": {},
   "source": [
    "# DF3\n",
    "https://huggingface.co/datasets/mariagrandury/fake_news_corpus_spanish"
   ]
  },
  {
   "cell_type": "code",
   "execution_count": 25,
   "id": "2320e16f",
   "metadata": {},
   "outputs": [
    {
     "name": "stdout",
     "output_type": "stream",
     "text": [
      "(572, 7)\n",
      "Noticias falsas: 1545, Noticias verdaderas: 1625\n"
     ]
    }
   ],
   "source": [
    "fake_news_corpus_spanish = pd.read_csv('../data/fake_news_corpus.csv')\n",
    "print(fake_news_corpus_spanish.shape)\n",
    "noticias_falsas.extend(fake_news_corpus_spanish[~fake_news_corpus_spanish['CATEGORY']]['TEXT'].tolist())\n",
    "noticias_verdaderas.extend(fake_news_corpus_spanish[fake_news_corpus_spanish['CATEGORY']]['TEXT'].tolist())\n",
    "print(f\"Noticias falsas: {len(noticias_falsas)}, Noticias verdaderas: {len(noticias_verdaderas)}\")"
   ]
  },
  {
   "cell_type": "markdown",
   "id": "435b2d49",
   "metadata": {},
   "source": [
    "# DF4\n",
    "https://huggingface.co/datasets/sayalaruano/FakeNewsSpanish_Kaggle1"
   ]
  },
  {
   "cell_type": "code",
   "execution_count": 26,
   "id": "87abdd89",
   "metadata": {},
   "outputs": [],
   "source": [
    "FakeNewsSpanish_Kaggle1 = pd.read_csv('../data/FakeNewsSpanish_Kaggle1.csv')\n",
    "FakeNewsSpanish_Kaggle2 = pd.read_csv('../data/FakeNewsSpanish_Kaggle2.csv')\n",
    "noticias_falsas.extend(FakeNewsSpanish_Kaggle1[FakeNewsSpanish_Kaggle1['label'] == 1]['text'].tolist())\n",
    "noticias_verdaderas.extend(FakeNewsSpanish_Kaggle1[FakeNewsSpanish_Kaggle1['label'] == 0]['text'].tolist())"
   ]
  },
  {
   "cell_type": "code",
   "execution_count": 27,
   "id": "d044e047",
   "metadata": {},
   "outputs": [
    {
     "data": {
      "application/vnd.microsoft.datawrangler.viewer.v0+json": {
       "columns": [
        {
         "name": "index",
         "rawType": "int64",
         "type": "integer"
        },
        {
         "name": "title",
         "rawType": "object",
         "type": "unknown"
        },
        {
         "name": "text",
         "rawType": "object",
         "type": "string"
        },
        {
         "name": "label",
         "rawType": "int64",
         "type": "integer"
        }
       ],
       "ref": "5e7c5809-8f6b-4d3a-84cd-b6e894c31207",
       "rows": [
        [
         "0",
         null,
         " El suceso ha tenido lugar en Brasil. Un adolescente de 16 años murió después de masturbarse 42 veces seguidas. Sin parar. Según el informe de las autoridades el joven comenzó a medianoche y se pasó toda la noche y madrugada haciendo secuencias de mastur",
         "1"
        ],
        [
         "1",
         "\"La quimioterapia mata a la gente y no al cáncer\" Dr. Jones",
         " Estamos en la semana decisiva. Los expertos aseguran que la campaña electoral arrancaba verdaderamente la noche de este lunes 22 con la puesta en escena del primero de los debates electorales televisivos celebrado en la soviética TVE y que tiene continu",
         "1"
        ],
        [
         "2",
         "Los Cubos De Caldo Para Cocinar Son Veneno Para Tu Organismo",
         " Estudios científicos hay muchos. Unos nos interesan más que otros. Y este en concreto ha hecho las delicias de mucho hombres. Al parecer, el que nos ocupa, se publicó en la afamada New England Journal of Medicine. Aunque en las búsquedas realizadas en s",
         "1"
        ],
        [
         "3",
         "MEGATERREMOTO EN LOS PRÓXIMOS DÍAS ALINEACIÓN PLANETARIA",
         " Ha sucedido en la ciudad de San José de Río Preto, en Brasil. Una mujer se puso veneno en su vagina para matar a su esposo. Él se había negado a darle el divorcio y quiso vengarse de esta forma. La víctima, de 43 años, declaró que la noche de autos la m",
         "1"
        ],
        [
         "4",
         "¡Qué injusticia! El perro que defendió su casa de un ladrón rumano que acumula 70 detenciones será sacrificado",
         " La fiesta en Sevilla por el vuelco electoral se alargó hasta casi las dos de la madrugada. La algarabía se desbordó en las calles de la capital andaluza. La marcha militar \"Soldadito español\" de Jacinto Guerrero Torres puso la nota musical a la velada. ",
         "1"
        ],
        [
         "5",
         null,
         " Vaya manera de morir. Angelito. Intenta complacer a su amante y le viene a buscar el de la guadaña. Habitualmente la asfixia se produce por carne, pero en este caso se trató de semen. Sí, semen. Lo que nos ha traído a todos a este mundo. Llamemos a nue",
         "1"
        ],
        [
         "6",
         "Miles de españoles salen en defensa de Curro, el perro que será sacrificado por defender su casa de un ladrón rumano",
         " ¿Canciones de amor o títulos que promueven el sexismo? Este es el debate que se ha generado hoy tras la decisión del Gobierno de Navarra presidido por Uxue Barkos (Geroa Bai), de censurar una serie de canciones en los colegios e institutos por machistas.",
         "1"
        ],
        [
         "7",
         "Van a sacrificar al alano que defendió su casa de un supuesto ladrón",
         " \"Pensar que el reggaeton es el tipo de música más sexista en estos momentos es un error, ya que en los distintos estilos musicales existentes también aparece este machismo\". La frase pertenece a la introducción de la actividad 'No me cantes violencias' d",
         "1"
        ],
        [
         "8",
         "La Justicia ordena sacrificar al perro que defendió su casa de un ladrón rumano que suma 70 detenciones en dos años",
         " \"Sin ti no soy nada, una gota de lluvia mojando mi cara\", \"contigo, yo quiero estar contigo y decirte que ya no puedo vivir sin ti\" o \"te espero sentada en la esquina de siempre y más arreglada que si fuera un viernes\"... Son sólo algunas de las estrofas",
         "1"
        ],
        [
         "9",
         null,
         " «Es una auténtica barbaridad». Rafael Garcés, director del Instituto de la Grasa del CSIC, apenas puede contener su indignación tras conocer que el Metro de Londres, que depende del Ayuntamiento, prohibirá a partir del próximo mes los anuncios de aceite ",
         "1"
        ],
        [
         "10",
         null,
         " A Bertín Osborne no le ha sentado nada bien el cambio de Gobierno. De hecho, en cuanto ha podido, no ha dudado en criticar alguna de sus últimas medidas, como la acogida de los inmigrantes del Aquarius. «¿Vamos a ayudar a todo el mundo? Porque si les vam",
         "1"
        ],
        [
         "11",
         null,
         " Al Gobierno de Pedro Sánchez le produce urticaria pronunciar la palabra 'padre'. De ahí que, en su lugar, haya acuñado la siguiente expresión para definir al padre de toda la vida: \" Progenitor diferente de la madre biológica\" . Así consta en el Real Dec",
         "1"
        ],
        [
         "12",
         null,
         " Con motivo del Real Decreto en el que se incluyó la ampliación del permiso por paternidad, en el BOE no aparece la palabra 'padre' en ningún momento, sino la expresión ' progenitor diferente de la madre biológica', lo que ha generado polémica en algunos ",
         "1"
        ],
        [
         "13",
         "Uso del móvil en la oscuridad causa maculopatía",
         " El Ayuntamiento de Londres se dispone a prohibir, a partir de febrero, los anuncios de aceite de oliva en las estaciones y vagones de metro de la ciudad. La campaña impulsada por el alcalde laborista, Sadiq Khan, para luchar contra la obesidad infantil, ",
         "1"
        ],
        [
         "14",
         null,
         " El departamento de Educación del Gobierno de Navarra ha afirmado que es \"rotundamente falso\" que el Ejecutivo foral \"haya censurado una lista de canciones prohibidas\" en los centros educativos en aplicación del programa Skolae. Según han explicado desde ",
         "1"
        ],
        [
         "15",
         "El nombre del WIFI del Tribunal Supremo es ‘A por ellos’",
         " El Gobierno de Navarra , dentro del programa Skolae para fomentar la igualdad en el sistema educativo , ha decidido censurar varias canciones por machistas . Una decisión que ha generado una gran polémica en las últimas horas. Entre los temas, no sólo en",
         "1"
        ],
        [
         "16",
         "El nombre del WIFI del Tribunal Supremo es 'A por ellos'",
         " El Gobierno de Navarra dentro del programa Skolae para fomentar la igualdad en el sistema educativo, ha decidido censurar una serie de canciones por machistas. Entre ellas no solo hay títulos de reguetón, un género muy criticado por ese tema, sino tambié",
         "1"
        ],
        [
         "17",
         null,
         " El Gobierno de Navarra ha asegurado que es \"rotundamente falso\" que censure canciones por sus letras machistas, como se está apuntando en las redes sociales, dentro del programa de coeducación Skolae , cuyo objetivo es \"educar en igualdad\". Además de ins",
         "1"
        ],
        [
         "18",
         null,
         " El gobierno de Navarra ha impulsado una medida dentro del programa Skolae que no ha dejado indiferente a nadie. Para fomentar la igualdad en el sistema educativo, la iniciativa del Gobierno de Uxue Barko pretende censurar canciones tanto de reggaetón com",
         "1"
        ],
        [
         "19",
         null,
         " El gobierno de Navarra ha impulsado una medida dentro del programa Skolae que no ha dejado indiferente a nadie. Para fomentar la igualdad en el sistema educativo, la iniciativa del Gobierno de Uxue Barko pretende censurar canciones tanto de reggaetón com",
         "1"
        ],
        [
         "20",
         null,
         " El Gobierno de Navarra ha prohibido una lista de canciones que los profesores no podrán usar en sus clases. * En elaboración A raíz del objetivo de integrar la igualdad en el sistema educativo, el Gobierno de Navarra ha creado el programa Skolae, señalan",
         "1"
        ],
        [
         "21",
         "Pedro J Ramírez involucra a Marruecos, ETA y al PSOE en los atentados del 11 M",
         " El Gobierno de Navarra y su proyecto educativo Skolae, ha sido noticia en las últimas horas debido a la presentación de la actividad ' No me cantes violencias '. Esta iniciativa, dirigida a estudiantes de Educación Secundaria, ha causado mucha polémica e",
         "1"
        ],
        [
         "22",
         null,
         " El programa educativo Skolae propone como actividad analizar letras que considera sexistas, entre las que se incluyen 'Sin ti no soy nada', 'Contigo' o 'Un violinista en tu tejado', entre otras. El Departamento de Educación niega categóricamente que se t",
         "1"
        ],
        [
         "23",
         null,
         " El secretario general del VOX Ortega Smith, se ha trasladado a la localidad de Collado de Segura (Alicante) para apoyar a los vecinos que piden la vuelta de la cruz que conmemoraba a Los Caídos y que fue retirada el pasado enero cumpliendo con la Ley de ",
         "1"
        ],
        [
         "24",
         "\"Pensar que el omeprazol protege al estómago es un error y un riesgo para la salud de la población\"",
         " Hits musicales de Amaral Shakira, Bustamante y El canto del Loco también han sido censurados por machistas. El Gobierno de Navarra , dentro del programa Skolae para fomentar la igualdad en el sistema educativo, ha decidido censurar varias canciones por m",
         "1"
        ],
        [
         "25",
         "Omeprazol: El protector gástrico que acaba con tu salud",
         " La candidata de Más Madrid a la Alcaldía de la capital, Manuela Carmena, está asegurando en debates y entrevistas electorales que ha frenado el drama de los desahucios. No obstante, los datos oficiales revelan que cada año la Policía Municipal participa ",
         "1"
        ],
        [
         "26",
         null,
         " La Diputación de Navarra considera machistas una serie de canciones de Amaral , El canto del Loco, Hakira o Melendi. Así lo refleja en el programa 'Skolae', diseñado por el gobierno navarro para integrar la igualdad en el sistema educativo. Por ello ha i",
         "1"
        ],
        [
         "27",
         null,
         " La Diputación de Navarra considera machistas una serie de canciones de Amaral , El canto del Loco, Hakira o Melendi. Así lo refleja en el programa 'Skolae', diseñado por el gobierno navarro para integrar la igualdad en el sistema educativo. Por ello ha i",
         "1"
        ],
        [
         "28",
         null,
         " La prohibición de anunciarse en el metro indigna a científicos y a la industria del sector «Es una auténtica barbaridad». Rafael Garcés, director del Instituto de la Grasa del CSIC, apenas puede contener su indignación tras conocer que el Metro de Londre",
         "1"
        ],
        [
         "29",
         null,
         " La prohibición de anunciarse en el metro indigna a científicos y a la industria del sector CAIB «Es una auténtica barbaridad». Rafael Garcés, director del Instituto de la Grasa del CSIC, apenas puede contener su indignación tras conocer que el Metro de L",
         "1"
        ],
        [
         "30",
         null,
         " La renta \"estará exenta de controles y obligaciones invasivas o humillantes\" El nicho de voto de los inmigrantes tiene cabida para los ilegales, o al menos eso se piensan los despistados líderes de Podemos , que acaban de registrar una delirante iniciati",
         "1"
        ],
        [
         "31",
         null,
         " Las fuerzas de seguridad del Reino Unido han advertido este fin de semana la existencia de amenazas de ataques en playas de Canarias y del resto de España este verano por terroristas suicidas . Se achaca este plan a la diabólica Samantha Lewthwaite, cono",
         "1"
        ],
        [
         "32",
         null,
         " Las redes sociales difieren sobre la interpretación que hace la administración foral de la letra de algunos temas musicales «Le pido a la luna que alumbre tu vida, que la mía ya hace tiempo que ya está encendida. Que lo que me cuesta querer sólo al rato,",
         "1"
        ],
        [
         "33",
         null,
         " Le sigo. Es patético. Puede que hayan creado\"un algoritmo con el término vox\"para cerrar cuentas a quiénes les siguen o apoyan..Algunos no se dan cuenta que el \"enemigo de España\"NO es vox..sino los grandes lodazales institucionales existentes...y ahora,",
         "1"
        ],
        [
         "34",
         null,
         " Lo cuenta este martes OK Diario . Al Gobierno de Pedro Sánchez no le gusta la palabra 'padre'. En su lugar ha acuñado la siguiente expresión para definir al padre: \" Progenitor diferente de la madre biológica\". Así consta en el Real Decreto que el Ejecut",
         "1"
        ],
        [
         "35",
         null,
         " Los musulmanes han creado un partido político en España que se llama PRUNE (Partido de Renacimiento y Unión de Europa). Presentado el pasado mes de diciembre, tienen la intención de presentarse a las próximas elecciones municipales. En concreto, se prese",
         "1"
        ],
        [
         "36",
         "Rumanos, ecuatorianos y marroquíes se comen 7 de cada 10 euros de nuestra sanidad pública",
         " Pedro Sánchez tiene un plan maestro de cara a las elecciones que se avecinan si todo sale según lo previsto en primavera. La encargada de llevarlo a cabo es Dolores Delgado, Ministra de Justicia. Actualmente hay más de 360.000 expedientes acumulados en l",
         "1"
        ],
        [
         "37",
         null,
         " Se la traen floja que con el mandato de Carmena existan 12000 desahucios. Así es la mierda de @ahorapodemos unos putos cobardes, demagogos, manipuladores y machistas.",
         "1"
        ],
        [
         "38",
         null,
         " Sr. Director: ¿Alguna vez se ha enterado alguien por los medios de comunicación, que un político, un líder o un primer ministro de una nación islámica, haya visitado Japón? ¿Ha escuchado alguna vez en las noticias, que algún dignatario de Irán, o un prín",
         "1"
        ],
        [
         "39",
         null,
         " TELEFONO DE EMERGENCES DESDE MdVILES gratis PARA TODOS LOS QUE TENEMOS TELEFONO MOVIL (O SEA TODOS). ТЕ INFORMO QUE YA PUEDES AVISAR DE ACCIDENTES. HERIDOS, EMERGENCIAS EN CARRETERAS. ETC., DESDE TU MdVIL. SOLO TIENES QUE MARCAR 088. ES A NIVEL NACIONAL ",
         "1"
        ],
        [
         "40",
         "Pacientes con cáncer de vejiga se quedan sin tratamiento por falta de suministro",
         " Un escalofriante reportaje de El Mundo pone cifras aun fenómeno repugnante de agresiones sexuales en grupo, con un dato sobre el origen que suscitará polémica. El dato es escalofriante: 350 han sido identificados o detenidos por violaciones y agresiones ",
         "1"
        ],
        [
         "41",
         null,
         "‼INDIGNANTE‼ Las primeras Leyes aprobadas con la pinza PODEMOS-PSOE en el Congreso aumentan el sueldo a los presos. Ahora ganan el 46% más que un jubilado. ¡¡¡DIFUNDIDLO !!!",
         "1"
        ],
        [
         "42",
         null,
         "¡¡¡DIFÚNDELO, POR FAVOR!!!! JUBILACIÓN DE ERNEST BENACH, DE ESQUERRA REPUBLICANA DE CATALUÑA (ERO). Este cara dura antiespañol se jubila \"por la cara\" a los 51 años con una pensión de 10.000 euros/mes durante 4 años, y después de 7.000 euros/mes hasta que",
         "1"
        ],
        [
         "43",
         null,
         "¡¡¡MENSAJE MUY, MUY, MUY URGENTE E IMPORTANTE!!! ¡POR LO QUE LEEDLO ENTERO, Y REENVIARLO, POR FAVOR!, SI LO CONSIDERÁIS OPORTUNO. CREO QUE ES IMPORTANTE SU DIFUSIÓN PARA CONOCIMIENTO GENERAL. ¡¡HAN VUELTO A REALIZAR UN PUCHERAZO, TONGO, AMAÑO O MANIPULACI",
         "1"
        ],
        [
         "44",
         null,
         "¡¡¡Noticia urgente!!! Se busca al Terrorista identificado como Ra's al Ghul alias \"Abduzcan”, por estar coludido con el ataque terrorista a la catedral de Notre Dame en Paris Francia; ya las victimas de este atentado suman 52 muertos y 35 lesionados. Se p",
         "1"
        ],
        [
         "45",
         "SE ACABÓ EL CHAMPAGNE EN EL FÚTBOL, LA FIFA LO PROHÍBE PARA NO OFENDER A LOS MUSULMANES",
         "¡¡ESCÁNDALO SIN PRECEDENTES!! Un jugador del Real Madrid puede pagar los PLATOS ROTOS en un caso de tráfico de armas ",
         "1"
        ],
        [
         "46",
         "Campeón de Copa inglesa no podrá celebrarlo con champán con alcohol",
         "¡Bomba! Otegi pide el voto para Pedro Sánchez ",
         "1"
        ],
        [
         "47",
         null,
         "¡Esta buscando una forma natural de lidiar contra los problemas de tiroides de las que esta cansado? La glándula tiroides (GT) es la responsable e influye en muchos procesos metabólicos en el cuerpo. Las hormonas mas comunes producidas por la GT son la tr",
         "1"
        ],
        [
         "48",
         null,
         "¡ESTO S ESCNDALOSO! LS BNCO PONDRÁ UN CANON DE 80 EUROS ANUALES A TODOS Y CADA UNO DE LOS PENSIONISTA Ls pensiones h subido, d media, d 18 euros anuales. Ahra ls banco robará a ls pensionistas 80 € anuales x mtener una cnta bcria q es obgtoria tner ¡Es ur",
         "1"
        ],
        [
         "49",
         null,
         "¡NOTICIA DE ULTIMA HORA! MUERE PAU DONÉS, VOCALISTA DE JARABE DE PALO LUEGO DE PERDER SU LUCHA CONTRA EL CÁNCER (+DETALLES)",
         "1"
        ]
       ],
       "shape": {
        "columns": 3,
        "rows": 1600
       }
      },
      "text/html": [
       "<div>\n",
       "<style scoped>\n",
       "    .dataframe tbody tr th:only-of-type {\n",
       "        vertical-align: middle;\n",
       "    }\n",
       "\n",
       "    .dataframe tbody tr th {\n",
       "        vertical-align: top;\n",
       "    }\n",
       "\n",
       "    .dataframe thead th {\n",
       "        text-align: right;\n",
       "    }\n",
       "</style>\n",
       "<table border=\"1\" class=\"dataframe\">\n",
       "  <thead>\n",
       "    <tr style=\"text-align: right;\">\n",
       "      <th></th>\n",
       "      <th>title</th>\n",
       "      <th>text</th>\n",
       "      <th>label</th>\n",
       "    </tr>\n",
       "  </thead>\n",
       "  <tbody>\n",
       "    <tr>\n",
       "      <th>0</th>\n",
       "      <td>NaN</td>\n",
       "      <td>El suceso ha tenido lugar en Brasil. Un adole...</td>\n",
       "      <td>1</td>\n",
       "    </tr>\n",
       "    <tr>\n",
       "      <th>1</th>\n",
       "      <td>\"La quimioterapia mata a la gente y no al cánc...</td>\n",
       "      <td>Estamos en la semana decisiva. Los expertos a...</td>\n",
       "      <td>1</td>\n",
       "    </tr>\n",
       "    <tr>\n",
       "      <th>2</th>\n",
       "      <td>Los Cubos De Caldo Para Cocinar Son Veneno Par...</td>\n",
       "      <td>Estudios científicos hay muchos. Unos nos int...</td>\n",
       "      <td>1</td>\n",
       "    </tr>\n",
       "    <tr>\n",
       "      <th>3</th>\n",
       "      <td>MEGATERREMOTO EN LOS PRÓXIMOS DÍAS ALINEACIÓN ...</td>\n",
       "      <td>Ha sucedido en la ciudad de San José de Río P...</td>\n",
       "      <td>1</td>\n",
       "    </tr>\n",
       "    <tr>\n",
       "      <th>4</th>\n",
       "      <td>¡Qué injusticia! El perro que defendió su casa...</td>\n",
       "      <td>La fiesta en Sevilla por el vuelco electoral ...</td>\n",
       "      <td>1</td>\n",
       "    </tr>\n",
       "    <tr>\n",
       "      <th>...</th>\n",
       "      <td>...</td>\n",
       "      <td>...</td>\n",
       "      <td>...</td>\n",
       "    </tr>\n",
       "    <tr>\n",
       "      <th>1595</th>\n",
       "      <td>El 81% de las familias españolas prefieren los...</td>\n",
       "      <td>Recuperamos la historia de Aleixandra, la jove...</td>\n",
       "      <td>0</td>\n",
       "    </tr>\n",
       "    <tr>\n",
       "      <th>1596</th>\n",
       "      <td>AEGC denuncia una frontera desprotegida por fa...</td>\n",
       "      <td>Reproches, tensión y sinceridad: la comida en ...</td>\n",
       "      <td>0</td>\n",
       "    </tr>\n",
       "    <tr>\n",
       "      <th>1597</th>\n",
       "      <td>Huawei fía su supervivencia a la innovación</td>\n",
       "      <td>RT @ElMundoOpinion: \"PSOE, PP, Ciudadanos y Vo...</td>\n",
       "      <td>0</td>\n",
       "    </tr>\n",
       "    <tr>\n",
       "      <th>1598</th>\n",
       "      <td>La Marina marroquí intercepta a 247 emigrantes...</td>\n",
       "      <td>Rusia cita al embajador español por unas decla...</td>\n",
       "      <td>0</td>\n",
       "    </tr>\n",
       "    <tr>\n",
       "      <th>1599</th>\n",
       "      <td>Un joven marroquí ataca a una mujer en Caspe y...</td>\n",
       "      <td>Saeed Malekpour fue detenido en 2008, cuando v...</td>\n",
       "      <td>0</td>\n",
       "    </tr>\n",
       "  </tbody>\n",
       "</table>\n",
       "<p>1600 rows × 3 columns</p>\n",
       "</div>"
      ],
      "text/plain": [
       "                                                  title  \\\n",
       "0                                                   NaN   \n",
       "1     \"La quimioterapia mata a la gente y no al cánc...   \n",
       "2     Los Cubos De Caldo Para Cocinar Son Veneno Par...   \n",
       "3     MEGATERREMOTO EN LOS PRÓXIMOS DÍAS ALINEACIÓN ...   \n",
       "4     ¡Qué injusticia! El perro que defendió su casa...   \n",
       "...                                                 ...   \n",
       "1595  El 81% de las familias españolas prefieren los...   \n",
       "1596  AEGC denuncia una frontera desprotegida por fa...   \n",
       "1597        Huawei fía su supervivencia a la innovación   \n",
       "1598  La Marina marroquí intercepta a 247 emigrantes...   \n",
       "1599  Un joven marroquí ataca a una mujer en Caspe y...   \n",
       "\n",
       "                                                   text  label  \n",
       "0      El suceso ha tenido lugar en Brasil. Un adole...      1  \n",
       "1      Estamos en la semana decisiva. Los expertos a...      1  \n",
       "2      Estudios científicos hay muchos. Unos nos int...      1  \n",
       "3      Ha sucedido en la ciudad de San José de Río P...      1  \n",
       "4      La fiesta en Sevilla por el vuelco electoral ...      1  \n",
       "...                                                 ...    ...  \n",
       "1595  Recuperamos la historia de Aleixandra, la jove...      0  \n",
       "1596  Reproches, tensión y sinceridad: la comida en ...      0  \n",
       "1597  RT @ElMundoOpinion: \"PSOE, PP, Ciudadanos y Vo...      0  \n",
       "1598  Rusia cita al embajador español por unas decla...      0  \n",
       "1599  Saeed Malekpour fue detenido en 2008, cuando v...      0  \n",
       "\n",
       "[1600 rows x 3 columns]"
      ]
     },
     "execution_count": 27,
     "metadata": {},
     "output_type": "execute_result"
    }
   ],
   "source": [
    "FakeNewsSpanish_Kaggle1"
   ]
  },
  {
   "cell_type": "markdown",
   "id": "1ebf59bf",
   "metadata": {},
   "source": [
    "# DF5\n",
    "https://huggingface.co/datasets/sayalaruano/FakeNewsSpanish_Kaggle2"
   ]
  },
  {
   "cell_type": "code",
   "execution_count": 28,
   "id": "63086999",
   "metadata": {},
   "outputs": [],
   "source": [
    "df5_1 = pd.read_csv('../data/df5_1.csv')\n",
    "df5_2 = pd.read_csv('../data/df5_2.csv')\n",
    "\n",
    "noticias_verdaderas.extend(df5_1[df5_1['clase'] == 'real']['texto'].tolist())\n",
    "noticias_falsas.extend(df5_1[df5_1['clase'] == 'fake']['texto'].tolist())\n",
    "\n",
    "noticias_verdaderas.extend(df5_2[df5_2['clase'] == 'real']['texto'].tolist())\n",
    "noticias_falsas.extend(df5_2[df5_2['clase'] == 'fake']['texto'].tolist())"
   ]
  },
  {
   "cell_type": "code",
   "execution_count": 29,
   "id": "c0a146be",
   "metadata": {},
   "outputs": [
    {
     "data": {
      "text/plain": [
       "(2764, 2604)"
      ]
     },
     "execution_count": 29,
     "metadata": {},
     "output_type": "execute_result"
    }
   ],
   "source": [
    "len(noticias_verdaderas), len(noticias_falsas)"
   ]
  },
  {
   "cell_type": "code",
   "execution_count": 30,
   "id": "dfc02eb2",
   "metadata": {},
   "outputs": [
    {
     "data": {
      "application/vnd.microsoft.datawrangler.viewer.v0+json": {
       "columns": [
        {
         "name": "index",
         "rawType": "int64",
         "type": "integer"
        },
        {
         "name": "text",
         "rawType": "object",
         "type": "string"
        },
        {
         "name": "label",
         "rawType": "bool",
         "type": "boolean"
        }
       ],
       "ref": "2dff247a-522b-4026-b2d1-37b8aebfea9e",
       "rows": [
        [
         "0",
         " Algunas de las voces extremistas más conocidas de EE.UU., cuentas asociadas con al movimiento de la conocida como alt-right o ligadas a grupos antisemitas o xenófobos , han sido eliminadas de un plumazo de la redes sociales Facebook e Instagram. Se trat",
         "True"
        ],
        [
         "1",
         " Después de casi dos años y medio de luchas políticas y judiciales, Donald Trump ha presentado hoy su proyecto de inmigración para Estados Unidos . Es un proyecto elaborado por el yerno y asesor de Donald Trump, Jared Kushner, que sólo concreta una cosa:",
         "True"
        ],
        [
         "2",
         " Dos periodistas birmanos de la agencia Reuters fueron liberados este martes al recibir un perdón del presidente de su país tras pasar año y medio en prisión por revelar una matanza del Ejército contra la minoría musulmana rohingya. Wa Lone y Kyaw Soe Oo",
         "True"
        ],
        [
         "3",
         " El Cuerpo Nacional de Policía ha detenido a cuatro personas acusadas de formar parte de un grupo criminal dedicado al tráfico de seres humanos en la frontera francoespañola de Irún (Gipuzkoa). Esta célula captaba extranjeros llegados en pateras y les of",
         "True"
        ],
        [
         "4",
         " El desfile de la firma en Roma se convierte en una oda a la libertad de las mujeres para decidir sobre sus propios cuerpos. Los Museos Capitolinos de Roma se transformaron la noche del martes en escenario sobre el que presentar la colección crucero 202",
         "True"
        ],
        [
         "5",
         " El miedo a la pérdida de identidad y la aversión a los inmigrantes ha sido el combustible que ha hecho crecer a la extrema derecha en toda Europa. Sus líderes quieren convertirla en una fortaleza inexpugnable frente a quienes ahora la asedian con frágil",
         "True"
        ],
        [
         "6",
         " El Ministerio de Exteriores de Rusia ha convocado este martes al embajador de España en Moscú, Fernando Valderrama, para informarle de su malestar por unas declaraciones hostiles sobre Rusia del ministro de Exteriores español, Josep Borrell. El Gobierno",
         "True"
        ],
        [
         "7",
         " El nuevo plan migratorio del presidente parece muerto antes incluso de haber nacido. El cerebro que ha pasado meses trabajando en el que debería ser el mensaje central de la campaña de reelección de Trump en 2020 ha sido su yerno Jared Kushner, asesorad",
         "True"
        ],
        [
         "8",
         " El secretario general de Podemos , Lander Martínez, ha denunciado este sábado \"la Euskadi de dos velocidades \" que está dejando las políticas del PNV , a la vez que ha reivindicado el voto de izquierdas, feminista y ecologista para Elkarrekin Podemos. E",
         "True"
        ],
        [
         "9",
         " Ernest Maragall, el candidato que podría arrebatar la alcadía a Ada Colau (tan sólo le separaría una décima, según el barómetro del CIS), se ha lanzado directamente a conquistar el voto inmigrante: «Barcelona somos todos» y la hipotética república catal",
         "True"
        ],
        [
         "10",
         " España es líder mundial en donación y trasplante de órganos, almacenamiento de energía en las nuevas tecnologías renovables, exportaciones de frutas y hortalizas, gestión de infraestructuras, banderas azules, bares... y también en masturbación . Así lo ",
         "True"
        ],
        [
         "11",
         " Existe un lugar en Madrid donde las africanas tienen su propio lugar de encuentro. A él acuden mujeres de varios países con un objetivo común: \"empoderarse y saltar las barreras\" que existen en una sociedad que todavía las mira \"con extrañeza\", cuenta N",
         "True"
        ],
        [
         "12",
         " Gente de todas las edades -muchos jóvenes- y de todas las clases sociales recibieron entusiasmados al líder de Vox, Santiago Abascal . Entre aplausos, una música ensordecedora y un fuerte ¡Viva España!, Abascal subió al escenario acompañado por Jorge Ca",
         "True"
        ],
        [
         "13",
         " La juez de Instrucción número 19 de Madrid, encargada del control del Centro de Internamiento de Extranjeros (CIE) de Aluche, ha solicitado que se deduzca testimonio contra varios agentes de Policía que custodian a internos por un delito de torturas a r",
         "True"
        ],
        [
         "14",
         " La mujer pakistaní de fe cristiana Asia Bibi que pasó ocho años en prisión por un supuesto delito de blasfemia que luego se demostró falso ha dejado Pakistán. Así lo ha dicho su abogado y lo han recogido varios medios del país este miércoles, seis meses",
         "True"
        ],
        [
         "15",
         " La proyección demográfica de la población en Cataluña indica la llegada de inmigrantes permitirá elevar el número de habitantes y que se registrará un envejecimiento en los próximos años debido a que el crecimiento natural de los autóctonos será negativ",
         "True"
        ],
        [
         "16",
         " Los candidatos a la alcaldía de Barcelona antes de un debate organizado por las entidades sociales. EFE El segundo día de campaña de las elecciones municipales del próximo 26 de mayo ha dejado un amplio espectro de promesas de los candidatos a la alcal",
         "True"
        ],
        [
         "17",
         " Los centros de detención para inmigrantes en el sur de Texas están tan llenos que las autoridades estadounidenses han decido usar aviones para trasladar a los indocumentados a otras instalaciones con más espacio, desveló este sábado el diario The Washin",
         "True"
        ],
        [
         "18",
         " Miles de personas se han desplazado hasta la plaza de la Virgen de Valencia para asistir al tradicional traslado de la imagen de la Virgen de los Desamparados. La procesión ha arrancado desde la Basílica ante los gritos a la Virgen de los fieles que se ",
         "True"
        ],
        [
         "19",
         " Philip K. Dick se preguntaba si los androides soñaban con ovejas eléctricas e Íñigo Guardamino parece cuestionarse si fingen sus orgasmos. Su última comedia, Metálica, acaba de llegar a la sala de la Princesa del Teatro María Guerrero de Madrid y en ell",
         "True"
        ],
        [
         "20",
         " Se trata de, poco a poco, desmontar un legado e ir imponiendo una agenda ultraconservadora liderada por grupos religiosos. El Departamento de Salud y Servicios Humanos (HHS, siglas en inglés) prepara una ley que tiene poco de humana y mucho de intransig",
         "True"
        ],
        [
         "21",
         " Tres chicas han denunciado a un taxista por una supuesta agresión homófoba ocurrida la madrugada del pasado 4 de marzo en el aparcamiento de una discoteca de las afueras de Barcelona. Según ha adelantado Europa Press y ha podido confirmar EL MUNDO, las ",
         "True"
        ],
        [
         "22",
         " Un grupo de inmigrantes rescatados en aguas del Estrecho, este abril. A. Carrasco Ragel EFE Viajar a la ciudad escogida de Europa desde Marruecos con desplazamientos y alojamiento incluido por entre 3.500 y 6.500 euros. Ese era el caro reclamo con el q",
         "True"
        ],
        [
         "23",
         " Un subsahariano es sacado del accidente de 'coche patera' en Ceuta. Joaquín Sánchez Los peligros para la vida de muchos inmigrantes no se limitan al mar. Siete personas subsaharianas que estaban ocultas en dobles fondos de un vehículo han resultado her",
         "True"
        ],
        [
         "24",
         " Un total de 202 inmigrantes han sido rescatados este sábado cuando navegaban en siete pateras frente a las costas andaluzas, la mayoría de ellos en aguas del Estrecho y el resto en las cercanías de la Isla de Alborán. En concreto, en el Estrecho han sid",
         "True"
        ],
        [
         "25",
         " Unas 300 personas han sido desalojadas de un asentamiento chabolista de inmigrantes en Lepe, Huelva , que ha sido arrasado por un incendio . El fuego ha destruido unas 150 de las infraviviendas que están ubicadas junto al cementerio, en la madrugada de ",
         "True"
        ],
        [
         "26",
         " Vox evitará la foto con sus homólogos de la extrema derecha europea durante la campaña al Parlamento de la UE. \"No nos daría ningún voto, al contrario\", reconocen responsables del partido ultranacionalista español, que ha irrumpido en el panorama políti",
         "True"
        ],
        [
         "27",
         " Vox ha presentado este viernes una querella criminal contra los 52 migrantes subsaharianos que el pasado domingo llegaron a Melilla saltando la valla fronteriza entre España y Marruecos. El vicesecretario jurídico de Vox en Melilla y número 8 de la cand",
         "True"
        ],
        [
         "28",
         " Vox ya no quiere cerrar los canales autonómicos de televisión sino privatizarlos. Si en las 100 medidas que hizo públicas en octubre pasado el partido ultranacionalista pedía \"cerrar [...] las televisiones autonómicas\", en el programa electoral para las",
         "True"
        ],
        [
         "29",
         " \"Alfredo, gracias por tanto. Tú, como nadie de los que estamos hoy al frente del partido, encarnas lo que el PSOE ha representado y representa para nuestro país\". Así arranca el mensaje que el presidente del Gobierno, Pedro Sánchez , ha escrito en el lib",
         "True"
        ],
        [
         "30",
         " \"Nos sentimos muy orgullosos de haber salvado a esta manada\". El que habla es Ciro Muñoz , piloto de la Brigada Helitransportada de la Comunidad de Madrid con base e Bustarviejo , y uno de los héroes del grave incendio que hace casi una semana se declaró",
         "True"
        ],
        [
         "31",
         " «El Imserso se tiene que reinventar. No puede ser que perdure sobre el altruismo del sector empresarial y seguir trabajando con estos precios. Es insostenible e inviable». El entrecomillado pertenece al secretario autonómico de Turismo de la Comunidad, e",
         "True"
        ],
        [
         "32",
         " Ahora que no preside el Parlament, Picornell pudo retomar su tarea de liderar las manifestaciones antimonárquicas frente al Palacio de la Almudaina. Algo que su cargo le impidió realizar el pasado año, porque tenía que estar dentro, abrazando a Felipe VI",
         "True"
        ],
        [
         "33",
         " Ampliar foto Grúas de una promoción inmobiliaria en el Guinardó. Carles Ribas Siete meses después de aprobar la obligación de reservar un 30% de vivienda social en las promociones inmobiliarias de mayores dimensiones de la ciudad, el Ayuntamiento de Barc",
         "True"
        ],
        [
         "34",
         " Anne Hathaway, más eco que nunca, se sincera con una recomendación para todas las mujeres Al buen tiempo, colores vivos y llenos de energía . Y este verano no iba a ser menos. Durante las vacaciones, las celebs nos han sorprendido con looks llenos de col",
         "True"
        ],
        [
         "35",
         " Así arrancó la aventura atlántica de Savin a bordo de su barril El aventurero francés Jean-Jacques Savin ha llegado la madrugada del jueves a la isla caribeña de Martinica , el destino final de un periplo de más de cuatro meses en el Atlántico a bordo de",
         "True"
        ],
        [
         "36",
         " Aunque no haya más ciego que el que no quiere ver, y el Gobierno en funciones o no observa o es incapaz de interpretar la realidad económica , los síntomas de desaceleración son preocupantes. En un contexto internacional incierto, con una guerra comercia",
         "True"
        ],
        [
         "37",
         " Cansado de leer y escuchar que las personas mayores son más propensas a creerse las fake news y que eso las hace votar mal según algunos, el tuitero Flugbeiler ha compuesto un single con el que pretende \"parodiar una serie de ideas que se están populariz",
         "True"
        ],
        [
         "38",
         " Carlos Guibouich es un barcelonés de origen peruano de 61 años que, durante cuatro, ha malvivido durmiendo en la calle. Hace unos meses, la suerte le sonrió y hoy es uno de los redactores de la guía que la Fundación Arrels ha editado para entregar a las ",
         "True"
        ],
        [
         "39",
         " Cientos de manifestantes han organizado este viernes una sentada en el aeropuerto de Hong Kong para sensibilizar a los visitantes extranjeros sobre sus protestas, que empezaron hace dos meses. \"No somos agitadores, esto es una tiranía\", gritaban los mani",
         "True"
        ],
        [
         "40",
         " Cincuenta días ha tardado en llegar el primer cisma del cogobierno entre el PP y Ciudadanos en el Ayuntamiento de Madrid. Probablemente, el alcalde, José Luis Martínez-Almeida, no conserve esa franca sonrisa recogida en la foto que le dedicaba a su vicea",
         "True"
        ],
        [
         "41",
         " Coche empotrado en Xirivella. CPBV Europa Press Un vehículo se ha empotrado en la planta baja de una vivienda de Xirivella, ha destruido parte de la fachada y ha quedado incrustado en su interior, según ha informado el Consorci de Bombers. El accidente h",
         "True"
        ],
        [
         "42",
         " Colombia ha encontrado un alivio en medio de sus enormes esfuerzos contra el narcotráfico en el memorando con el cual el presidente de Estados Unidos, Donald Trump , aprobó el desempeño del país andino en su lucha antidrogas. Con ese anhelado respaldo, e",
         "True"
        ],
        [
         "43",
         " Con el trasfondo de las elecciones generales y el descalabro del Partido Popular en Cataluña -donde redujo de seis a uno el número de diputados obtenidos-, el candidato municipal Josep Bou intenta contener la sangría de votos para la Alcaldía de Barcelon",
         "True"
        ],
        [
         "44",
         " Cuando los termómetros superan los 30 grados centígrados en la calle y las casas están recalentadas, hay cosas a las que resulta complicado resistirse. Una de ellas es una cerveza bien fría. Otra es dejar pasar las horas a remojo en una piscina. Pero cua",
         "True"
        ],
        [
         "45",
         " DE UN TIEMPO a esta parte los arranques de campaña y el estreno de la cartelería vienen acompañados con un sondeo con la rúbrica de Tezanos . Lo que supone que en lugar de fijarnos en los rostros que aparecen en el papel nos volquemos en la interpretació",
         "True"
        ],
        [
         "46",
         " Desde junio del año pasado, cada vez que un barco de una ONG rescata a migrantes en alta mar se enfrenta a la negativa de Malta e Italia de recibirlos a menos que haya un acuerdo previo para reubicar a los rescatados en otros países. Hasta hoy, la UE no ",
         "True"
        ],
        [
         "47",
         " Difícil lo tuvo el jurado del Premio Valle-Inclán de Teatro, con finalistas como José Sacristán, Mario Gas o Flotats . Los 12 candidatos se lo merecían. Bajo los efectos del #MeToo, se lo llevó Magüi Mira , directora de Consentimiento, una obra sobre la ",
         "True"
        ],
        [
         "48",
         " Dos de ellos quedaron archivados en 2016 . Con el último ha sucedido lo propio ahora. Los demandantes pedían en todos los casos su inhabilitación para el ejercicio de cargo público durante 10 años, una pena que no le han impuesto finalmente los tribunale",
         "True"
        ],
        [
         "49",
         " Dos partidos con siglas distintas, la misma promesa electoral cuyo anuncio, además, ha coincidido en el día y la hora. Los candidatos del PP y de Ciudadanos a la Comunidad de Madrid, Isabel Díaz Ayuso e Ignacio Aguado, que además podrían estar obligados ",
         "True"
        ]
       ],
       "shape": {
        "columns": 2,
        "rows": 5368
       }
      },
      "text/html": [
       "<div>\n",
       "<style scoped>\n",
       "    .dataframe tbody tr th:only-of-type {\n",
       "        vertical-align: middle;\n",
       "    }\n",
       "\n",
       "    .dataframe tbody tr th {\n",
       "        vertical-align: top;\n",
       "    }\n",
       "\n",
       "    .dataframe thead th {\n",
       "        text-align: right;\n",
       "    }\n",
       "</style>\n",
       "<table border=\"1\" class=\"dataframe\">\n",
       "  <thead>\n",
       "    <tr style=\"text-align: right;\">\n",
       "      <th></th>\n",
       "      <th>text</th>\n",
       "      <th>label</th>\n",
       "    </tr>\n",
       "  </thead>\n",
       "  <tbody>\n",
       "    <tr>\n",
       "      <th>0</th>\n",
       "      <td>Algunas de las voces extremistas más conocida...</td>\n",
       "      <td>True</td>\n",
       "    </tr>\n",
       "    <tr>\n",
       "      <th>1</th>\n",
       "      <td>Después de casi dos años y medio de luchas po...</td>\n",
       "      <td>True</td>\n",
       "    </tr>\n",
       "    <tr>\n",
       "      <th>2</th>\n",
       "      <td>Dos periodistas birmanos de la agencia Reuter...</td>\n",
       "      <td>True</td>\n",
       "    </tr>\n",
       "    <tr>\n",
       "      <th>3</th>\n",
       "      <td>El Cuerpo Nacional de Policía ha detenido a c...</td>\n",
       "      <td>True</td>\n",
       "    </tr>\n",
       "    <tr>\n",
       "      <th>4</th>\n",
       "      <td>El desfile de la firma en Roma se convierte e...</td>\n",
       "      <td>True</td>\n",
       "    </tr>\n",
       "    <tr>\n",
       "      <th>...</th>\n",
       "      <td>...</td>\n",
       "      <td>...</td>\n",
       "    </tr>\n",
       "    <tr>\n",
       "      <th>5363</th>\n",
       "      <td>Manuela Carmena pide a los madrileños que guar...</td>\n",
       "      <td>False</td>\n",
       "    </tr>\n",
       "    <tr>\n",
       "      <th>5364</th>\n",
       "      <td>A solo unas horas de dejar el poder, el expres...</td>\n",
       "      <td>False</td>\n",
       "    </tr>\n",
       "    <tr>\n",
       "      <th>5365</th>\n",
       "      <td>Hartos de ser señalados como unos eternos segu...</td>\n",
       "      <td>False</td>\n",
       "    </tr>\n",
       "    <tr>\n",
       "      <th>5366</th>\n",
       "      <td>Multan a un ultrasur por lanzar a un jugador d...</td>\n",
       "      <td>False</td>\n",
       "    </tr>\n",
       "    <tr>\n",
       "      <th>5367</th>\n",
       "      <td>Diez reglas básicas para que tu casa cumpla lo...</td>\n",
       "      <td>False</td>\n",
       "    </tr>\n",
       "  </tbody>\n",
       "</table>\n",
       "<p>5368 rows × 2 columns</p>\n",
       "</div>"
      ],
      "text/plain": [
       "                                                   text  label\n",
       "0      Algunas de las voces extremistas más conocida...   True\n",
       "1      Después de casi dos años y medio de luchas po...   True\n",
       "2      Dos periodistas birmanos de la agencia Reuter...   True\n",
       "3      El Cuerpo Nacional de Policía ha detenido a c...   True\n",
       "4      El desfile de la firma en Roma se convierte e...   True\n",
       "...                                                 ...    ...\n",
       "5363  Manuela Carmena pide a los madrileños que guar...  False\n",
       "5364  A solo unas horas de dejar el poder, el expres...  False\n",
       "5365  Hartos de ser señalados como unos eternos segu...  False\n",
       "5366  Multan a un ultrasur por lanzar a un jugador d...  False\n",
       "5367  Diez reglas básicas para que tu casa cumpla lo...  False\n",
       "\n",
       "[5368 rows x 2 columns]"
      ]
     },
     "execution_count": 30,
     "metadata": {},
     "output_type": "execute_result"
    }
   ],
   "source": [
    "df_final = pd.DataFrame({\n",
    "    'text': noticias_verdaderas + noticias_falsas,\n",
    "    'label': [True] * len(noticias_verdaderas) + [False] * len(noticias_falsas)\n",
    "})\n",
    "df_final"
   ]
  },
  {
   "cell_type": "code",
   "execution_count": 31,
   "id": "bd4e3a47",
   "metadata": {},
   "outputs": [],
   "source": [
    "df_final.to_csv('../data/df_final.csv', index=False)"
   ]
  },
  {
   "cell_type": "code",
   "execution_count": 32,
   "id": "c99b7fa4",
   "metadata": {},
   "outputs": [],
   "source": [
    "with open('../data/falsas.txt', 'w', encoding='utf-8') as f:\n",
    "    for noticia in noticias_falsas:\n",
    "        f.write(noticia.replace('\\n', ' ') + '\\n')\n",
    "with open('../data/verdaderas.txt', 'w', encoding='utf-8') as f:\n",
    "    for noticia in noticias_verdaderas:\n",
    "        f.write(noticia.replace('\\n', ' ') + '\\n')"
   ]
  }
 ],
 "metadata": {
  "kernelspec": {
   "display_name": "silknews (3.13.7)",
   "language": "python",
   "name": "python3"
  },
  "language_info": {
   "codemirror_mode": {
    "name": "ipython",
    "version": 3
   },
   "file_extension": ".py",
   "mimetype": "text/x-python",
   "name": "python",
   "nbconvert_exporter": "python",
   "pygments_lexer": "ipython3",
   "version": "3.13.7"
  }
 },
 "nbformat": 4,
 "nbformat_minor": 5
}

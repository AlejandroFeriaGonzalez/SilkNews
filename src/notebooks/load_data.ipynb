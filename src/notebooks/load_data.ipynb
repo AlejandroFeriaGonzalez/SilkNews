{
 "cells": [
  {
   "cell_type": "code",
   "execution_count": 1,
   "id": "23ee37bb",
   "metadata": {},
   "outputs": [],
   "source": [
    "import pandas as pd"
   ]
  },
  {
   "cell_type": "code",
   "execution_count": null,
   "id": "0f65519a",
   "metadata": {},
   "outputs": [],
   "source": [
    "noticias_falsas: list[str] = []\n",
    "noticias_verdaderas: list[str] = []"
   ]
  },
  {
   "cell_type": "markdown",
   "id": "f4c2fd41",
   "metadata": {},
   "source": [
    "# DF1\n",
    "https://www.kaggle.com/datasets/arseniitretiakov/noticias-falsas-en-espaol/"
   ]
  },
  {
   "cell_type": "code",
   "execution_count": 28,
   "id": "fd0ea812",
   "metadata": {},
   "outputs": [
    {
     "name": "stdout",
     "output_type": "stream",
     "text": [
      "(2000, 2)\n"
     ]
    }
   ],
   "source": [
    "fakes_df_raw = pd.read_csv('../data/fakes1000.csv')\n",
    "print(fakes_df_raw.shape)\n",
    "noticias_falsas.extend(fakes_df_raw[fakes_df_raw['class']]['Text'])\n",
    "noticias_verdaderas.extend(fakes_df_raw[~fakes_df_raw['class']]['Text'])"
   ]
  },
  {
   "cell_type": "markdown",
   "id": "f8e042f8",
   "metadata": {},
   "source": [
    "# DF2"
   ]
  },
  {
   "cell_type": "code",
   "execution_count": 12,
   "id": "595171bc",
   "metadata": {},
   "outputs": [
    {
     "name": "stdout",
     "output_type": "stream",
     "text": [
      "(538, 2)\n"
     ]
    },
    {
     "data": {
      "text/html": [
       "<div>\n",
       "<style scoped>\n",
       "    .dataframe tbody tr th:only-of-type {\n",
       "        vertical-align: middle;\n",
       "    }\n",
       "\n",
       "    .dataframe tbody tr th {\n",
       "        vertical-align: top;\n",
       "    }\n",
       "\n",
       "    .dataframe thead th {\n",
       "        text-align: right;\n",
       "    }\n",
       "</style>\n",
       "<table border=\"1\" class=\"dataframe\">\n",
       "  <thead>\n",
       "    <tr style=\"text-align: right;\">\n",
       "      <th></th>\n",
       "      <th>texto</th>\n",
       "      <th>clase</th>\n",
       "    </tr>\n",
       "  </thead>\n",
       "  <tbody>\n",
       "    <tr>\n",
       "      <th>0</th>\n",
       "      <td>El año pasado la Ciudad de México se estremeci...</td>\n",
       "      <td>fake</td>\n",
       "    </tr>\n",
       "    <tr>\n",
       "      <th>1</th>\n",
       "      <td>Manuela Carmena pide a los madrileños que guar...</td>\n",
       "      <td>fake</td>\n",
       "    </tr>\n",
       "    <tr>\n",
       "      <th>2</th>\n",
       "      <td>Una fuerte sorpresa se llevó el todavía presid...</td>\n",
       "      <td>fake</td>\n",
       "    </tr>\n",
       "    <tr>\n",
       "      <th>3</th>\n",
       "      <td>La 1 de Televisión Española repitió ayer como ...</td>\n",
       "      <td>fake</td>\n",
       "    </tr>\n",
       "    <tr>\n",
       "      <th>4</th>\n",
       "      <td>685 curas católicos fueron acusados de abuso s...</td>\n",
       "      <td>real</td>\n",
       "    </tr>\n",
       "  </tbody>\n",
       "</table>\n",
       "</div>"
      ],
      "text/plain": [
       "                                               texto clase\n",
       "0  El año pasado la Ciudad de México se estremeci...  fake\n",
       "1  Manuela Carmena pide a los madrileños que guar...  fake\n",
       "2  Una fuerte sorpresa se llevó el todavía presid...  fake\n",
       "3  La 1 de Televisión Española repitió ayer como ...  fake\n",
       "4  685 curas católicos fueron acusados de abuso s...  real"
      ]
     },
     "execution_count": 12,
     "metadata": {},
     "output_type": "execute_result"
    }
   ],
   "source": [
    "spanishFakeNews = pd.read_csv('../data/spanishFakeNews.csv')\n",
    "print(spanishFakeNews.shape)\n",
    "spanishFakeNews.head()"
   ]
  },
  {
   "cell_type": "code",
   "execution_count": 13,
   "id": "a3bb1b3a",
   "metadata": {},
   "outputs": [
    {
     "name": "stdout",
     "output_type": "stream",
     "text": [
      "(60, 2)\n"
     ]
    },
    {
     "data": {
      "text/html": [
       "<div>\n",
       "<style scoped>\n",
       "    .dataframe tbody tr th:only-of-type {\n",
       "        vertical-align: middle;\n",
       "    }\n",
       "\n",
       "    .dataframe tbody tr th {\n",
       "        vertical-align: top;\n",
       "    }\n",
       "\n",
       "    .dataframe thead th {\n",
       "        text-align: right;\n",
       "    }\n",
       "</style>\n",
       "<table border=\"1\" class=\"dataframe\">\n",
       "  <thead>\n",
       "    <tr style=\"text-align: right;\">\n",
       "      <th></th>\n",
       "      <th>texto</th>\n",
       "      <th>clase</th>\n",
       "    </tr>\n",
       "  </thead>\n",
       "  <tbody>\n",
       "    <tr>\n",
       "      <th>0</th>\n",
       "      <td>Las concursantes del Miss Universo 2018 han co...</td>\n",
       "      <td>fake</td>\n",
       "    </tr>\n",
       "    <tr>\n",
       "      <th>1</th>\n",
       "      <td>Luego de mantener un perfil bajo por el éxito ...</td>\n",
       "      <td>fake</td>\n",
       "    </tr>\n",
       "    <tr>\n",
       "      <th>2</th>\n",
       "      <td>Gran sorpresa se llevó la hija de Donald Trump...</td>\n",
       "      <td>fake</td>\n",
       "    </tr>\n",
       "    <tr>\n",
       "      <th>3</th>\n",
       "      <td>Aunque muchos los odien y los critiquen porque...</td>\n",
       "      <td>fake</td>\n",
       "    </tr>\n",
       "    <tr>\n",
       "      <th>4</th>\n",
       "      <td>Nacional , Salud y bienestar. Polémica por cer...</td>\n",
       "      <td>fake</td>\n",
       "    </tr>\n",
       "  </tbody>\n",
       "</table>\n",
       "</div>"
      ],
      "text/plain": [
       "                                               texto clase\n",
       "0  Las concursantes del Miss Universo 2018 han co...  fake\n",
       "1  Luego de mantener un perfil bajo por el éxito ...  fake\n",
       "2  Gran sorpresa se llevó la hija de Donald Trump...  fake\n",
       "3  Aunque muchos los odien y los critiquen porque...  fake\n",
       "4  Nacional , Salud y bienestar. Polémica por cer...  fake"
      ]
     },
     "execution_count": 13,
     "metadata": {},
     "output_type": "execute_result"
    }
   ],
   "source": [
    "testSpanishFakeNews = pd.read_csv('../data/testSpanishFakeNews.csv')\n",
    "print(testSpanishFakeNews.shape)\n",
    "testSpanishFakeNews.head()"
   ]
  },
  {
   "cell_type": "code",
   "execution_count": 16,
   "id": "2320e16f",
   "metadata": {},
   "outputs": [
    {
     "name": "stdout",
     "output_type": "stream",
     "text": [
      "(572, 7)\n"
     ]
    },
    {
     "data": {
      "text/html": [
       "<div>\n",
       "<style scoped>\n",
       "    .dataframe tbody tr th:only-of-type {\n",
       "        vertical-align: middle;\n",
       "    }\n",
       "\n",
       "    .dataframe tbody tr th {\n",
       "        vertical-align: top;\n",
       "    }\n",
       "\n",
       "    .dataframe thead th {\n",
       "        text-align: right;\n",
       "    }\n",
       "</style>\n",
       "<table border=\"1\" class=\"dataframe\">\n",
       "  <thead>\n",
       "    <tr style=\"text-align: right;\">\n",
       "      <th></th>\n",
       "      <th>ID</th>\n",
       "      <th>CATEGORY</th>\n",
       "      <th>TOPICS</th>\n",
       "      <th>SOURCE</th>\n",
       "      <th>HEADLINE</th>\n",
       "      <th>TEXT</th>\n",
       "      <th>LINK</th>\n",
       "    </tr>\n",
       "  </thead>\n",
       "  <tbody>\n",
       "    <tr>\n",
       "      <th>0</th>\n",
       "      <td>1</td>\n",
       "      <td>True</td>\n",
       "      <td>Covid-19</td>\n",
       "      <td>El Economista</td>\n",
       "      <td>Covid-19: mentiras que matan</td>\n",
       "      <td>El control de la Covid-19 no es sólo un tema d...</td>\n",
       "      <td>https://www.eleconomista.com.mx/opinion/Covid-...</td>\n",
       "    </tr>\n",
       "    <tr>\n",
       "      <th>1</th>\n",
       "      <td>2</td>\n",
       "      <td>False</td>\n",
       "      <td>Política</td>\n",
       "      <td>El matinal</td>\n",
       "      <td>El Gobierno podrá acceder a las IPs de los móv...</td>\n",
       "      <td>El Gobierno de Pedro Sánchez y Pablo Iglesias ...</td>\n",
       "      <td>https://www.elmatinal.com/espana-ultima-hora/e...</td>\n",
       "    </tr>\n",
       "    <tr>\n",
       "      <th>2</th>\n",
       "      <td>3</td>\n",
       "      <td>True</td>\n",
       "      <td>Política</td>\n",
       "      <td>El País</td>\n",
       "      <td>La comunidad musulmana catalana denuncia a Vox...</td>\n",
       "      <td>Las tres federaciones que agrupan al 90% de la...</td>\n",
       "      <td>https://elpais.com/espana/elecciones-catalanas...</td>\n",
       "    </tr>\n",
       "    <tr>\n",
       "      <th>3</th>\n",
       "      <td>4</td>\n",
       "      <td>False</td>\n",
       "      <td>Política</td>\n",
       "      <td>AFPFactual</td>\n",
       "      <td>NaN</td>\n",
       "      <td>Se han dado a conocer los datos electorales pr...</td>\n",
       "      <td>https://perma.cc/GYE6-SPMB</td>\n",
       "    </tr>\n",
       "    <tr>\n",
       "      <th>4</th>\n",
       "      <td>5</td>\n",
       "      <td>True</td>\n",
       "      <td>Sociedad</td>\n",
       "      <td>La Republica</td>\n",
       "      <td>El censo poblacional 2018 tendrá un costo de $...</td>\n",
       "      <td>La primera fase del censo será virtual y solo ...</td>\n",
       "      <td>https://www.larepublica.co/economia/el-censo-p...</td>\n",
       "    </tr>\n",
       "  </tbody>\n",
       "</table>\n",
       "</div>"
      ],
      "text/plain": [
       "   ID  CATEGORY    TOPICS         SOURCE  \\\n",
       "0   1      True  Covid-19  El Economista   \n",
       "1   2     False  Política     El matinal   \n",
       "2   3      True  Política        El País   \n",
       "3   4     False  Política     AFPFactual   \n",
       "4   5      True  Sociedad   La Republica   \n",
       "\n",
       "                                            HEADLINE  \\\n",
       "0                       Covid-19: mentiras que matan   \n",
       "1  El Gobierno podrá acceder a las IPs de los móv...   \n",
       "2  La comunidad musulmana catalana denuncia a Vox...   \n",
       "3                                                NaN   \n",
       "4  El censo poblacional 2018 tendrá un costo de $...   \n",
       "\n",
       "                                                TEXT  \\\n",
       "0  El control de la Covid-19 no es sólo un tema d...   \n",
       "1  El Gobierno de Pedro Sánchez y Pablo Iglesias ...   \n",
       "2  Las tres federaciones que agrupan al 90% de la...   \n",
       "3  Se han dado a conocer los datos electorales pr...   \n",
       "4  La primera fase del censo será virtual y solo ...   \n",
       "\n",
       "                                                LINK  \n",
       "0  https://www.eleconomista.com.mx/opinion/Covid-...  \n",
       "1  https://www.elmatinal.com/espana-ultima-hora/e...  \n",
       "2  https://elpais.com/espana/elecciones-catalanas...  \n",
       "3                         https://perma.cc/GYE6-SPMB  \n",
       "4  https://www.larepublica.co/economia/el-censo-p...  "
      ]
     },
     "execution_count": 16,
     "metadata": {},
     "output_type": "execute_result"
    }
   ],
   "source": [
    "fake_news_corpus_spanish = pd.read_csv('../data/test.csv')\n",
    "print(fake_news_corpus_spanish.shape)\n",
    "fake_news_corpus_spanish.head()"
   ]
  }
 ],
 "metadata": {
  "kernelspec": {
   "display_name": ".venv",
   "language": "python",
   "name": "python3"
  },
  "language_info": {
   "codemirror_mode": {
    "name": "ipython",
    "version": 3
   },
   "file_extension": ".py",
   "mimetype": "text/x-python",
   "name": "python",
   "nbconvert_exporter": "python",
   "pygments_lexer": "ipython3",
   "version": "3.13.7"
  }
 },
 "nbformat": 4,
 "nbformat_minor": 5
}
